{
 "cells": [
  {
   "cell_type": "code",
   "execution_count": 1,
   "metadata": {},
   "outputs": [],
   "source": [
    "#READING THE CSV FILE\n",
    "from matplotlib import pyplot as plt\n",
    "import numpy as np\n",
    "import csv\n",
    "import math\n",
    "\n",
    "\n",
    "with open('daily-minimum-temperatures.csv') as csv_file:\n",
    "    csv_reader = csv.reader(csv_file, delimiter=',')\n",
    "    temperature_set = []\n",
    "    date_set = []\n",
    "    for i, row in enumerate(csv_reader):        \n",
    "        date = row[0]\n",
    "        temp = row[1]\n",
    "        if(i != 0):\n",
    "            date_set.append(date)\n",
    "            temperature_set.append(float(temp))"
   ]
  },
  {
   "cell_type": "code",
   "execution_count": 2,
   "metadata": {},
   "outputs": [],
   "source": [
    "def split(a, n):\n",
    "    k, m = divmod(len(a), n)\n",
    "    return (a[i * k + min(i, m):(i + 1) * k + min(i + 1, m)] for i in range(n))"
   ]
  },
  {
   "cell_type": "code",
   "execution_count": 3,
   "metadata": {},
   "outputs": [],
   "source": [
    "#ALGORITHM TO OBTAIN THE AVG SQUARED ERROR AS F(K)\n",
    "K = range(1,30) #np.r_[1:30:1]\n",
    "k_fold = 4\n",
    "RMSE_set = []\n",
    "\n",
    "\n",
    "temperature_test_set = []\n",
    "temperature_training_set = []\n",
    "\n",
    "splitted_temperature_training_set = list(split(temperature_training_set, k_fold))\n",
    "\n",
    "for idx, date in enumerate(date_set):\n",
    "    if date[0:4] == '1990': #Warning: it works! And doing 0:3 doesnt\n",
    "        temperature_test_set.append(float(temperature_set[idx]))\n",
    "    else:\n",
    "        temperature_training_set.append(float(temperature_set[idx]))\n",
    "        \n",
    "        \n"
   ]
  },
  {
   "cell_type": "code",
   "execution_count": 50,
   "metadata": {},
   "outputs": [
    {
     "ename": "NameError",
     "evalue": "name 'sqrt' is not defined",
     "output_type": "error",
     "traceback": [
      "\u001b[0;31m---------------------------------------------------------------------------\u001b[0m",
      "\u001b[0;31mNameError\u001b[0m                                 Traceback (most recent call last)",
      "\u001b[0;32m<ipython-input-50-9cf6a86620d9>\u001b[0m in \u001b[0;36m<module>\u001b[0;34m\u001b[0m\n\u001b[1;32m     49\u001b[0m         \u001b[0;32mfor\u001b[0m \u001b[0mtest_idx\u001b[0m \u001b[0;34m,\u001b[0m \u001b[0mtest_element\u001b[0m \u001b[0;32min\u001b[0m \u001b[0menumerate\u001b[0m\u001b[0;34m(\u001b[0m\u001b[0mcurrent_validation_input_set\u001b[0m\u001b[0;34m)\u001b[0m\u001b[0;34m:\u001b[0m\u001b[0;34m\u001b[0m\u001b[0;34m\u001b[0m\u001b[0m\n\u001b[1;32m     50\u001b[0m             \u001b[0mSE\u001b[0m \u001b[0;34m=\u001b[0m \u001b[0mSE\u001b[0m \u001b[0;34m+\u001b[0m \u001b[0;34m(\u001b[0m\u001b[0mnp\u001b[0m\u001b[0;34m.\u001b[0m\u001b[0mmatmul\u001b[0m\u001b[0;34m(\u001b[0m\u001b[0mW\u001b[0m\u001b[0;34m,\u001b[0m \u001b[0mnp\u001b[0m\u001b[0;34m.\u001b[0m\u001b[0mmatrix\u001b[0m\u001b[0;34m.\u001b[0m\u001b[0mtranspose\u001b[0m\u001b[0;34m(\u001b[0m\u001b[0mtest_element\u001b[0m\u001b[0;34m)\u001b[0m\u001b[0;34m)\u001b[0m \u001b[0;34m-\u001b[0m \u001b[0mcurrent_validation_output_set\u001b[0m\u001b[0;34m[\u001b[0m\u001b[0mtest_idx\u001b[0m\u001b[0;34m]\u001b[0m\u001b[0;34m)\u001b[0m\u001b[0;34m**\u001b[0m\u001b[0;36m2\u001b[0m\u001b[0;34m/\u001b[0m\u001b[0;34m(\u001b[0m\u001b[0mlen\u001b[0m\u001b[0;34m(\u001b[0m\u001b[0mcurrent_validation_output_set\u001b[0m\u001b[0;34m)\u001b[0m\u001b[0;34m*\u001b[0m\u001b[0mk_fold\u001b[0m\u001b[0;34m)\u001b[0m\u001b[0;34m\u001b[0m\u001b[0;34m\u001b[0m\u001b[0m\n\u001b[0;32m---> 51\u001b[0;31m     \u001b[0mRMSE_set\u001b[0m\u001b[0;34m.\u001b[0m\u001b[0mappend\u001b[0m\u001b[0;34m(\u001b[0m\u001b[0msqrt\u001b[0m\u001b[0;34m(\u001b[0m\u001b[0mSE\u001b[0m\u001b[0;34m)\u001b[0m\u001b[0;34m)\u001b[0m\u001b[0;34m\u001b[0m\u001b[0;34m\u001b[0m\u001b[0m\n\u001b[0m",
      "\u001b[0;31mNameError\u001b[0m: name 'sqrt' is not defined"
     ]
    }
   ],
   "source": [
    "\n",
    "partial_RMSE_validation = []        \n",
    "for k_idx in K:\n",
    "    \n",
    "    training_input = []\n",
    "    training_output = []\n",
    "        \n",
    "    validation_input = []\n",
    "    validation_output = []\n",
    "\n",
    "    test_input = []\n",
    "    test_output = []    \n",
    "    \n",
    "    for idx in range(0,len(temperature_training_set) - k_idx-1):\n",
    "            training_input.append(temperature_training_set[idx:idx+k_idx])\n",
    "            training_output.append(temperature_training_set[idx+k_idx+1])        \n",
    "    training_input = np.c_[np.ones(len(training_output)), np.matrix(training_input)]\n",
    "\n",
    "    for idx in range(0,len(temperature_test_set) - k_idx-1):\n",
    "            test_input.append(temperature_test_set[idx:idx+k_idx])\n",
    "            test_output.append(temperature_training_set[idx+k_idx+1])        \n",
    "    test_input = np.c_[np.ones(len(test_output)), np.matrix(test_input)]\n",
    "    \n",
    "    splitted_training_input  = list(split(training_input, k_fold))\n",
    "    splitted_training_output = list(split(training_output, k_fold))\n",
    "    \n",
    "    SE = 0 #Squared Error\n",
    "    \n",
    "    for k_fold_idx in range(k_fold):        \n",
    "        current_training_input_set = []\n",
    "        current_validation_input_set = []\n",
    "\n",
    "        current_training_output_set = []\n",
    "        current_validation_output_set = []\n",
    "\n",
    "        for k_fold_val_turn in range(k_fold):\n",
    "            if (k_fold_val_turn != k_fold_idx):\n",
    "                current_training_input_set.append(splitted_training_input[k_fold_val_turn])\n",
    "                current_training_output_set.append(np.array(splitted_training_output[k_fold_val_turn]))\n",
    "            else:\n",
    "                current_validation_input_set.append(splitted_training_input[k_fold_val_turn])\n",
    "                current_validation_output_set.append(splitted_training_output[k_fold_val_turn])\n",
    "        current_training_input_set = np.vstack(current_training_input_set)\n",
    "        current_training_output_set = np.concatenate(current_training_output_set)\n",
    "        current_validation_input_set = np.vstack(current_validation_input_set)\n",
    "        current_validation_output_set = np.concatenate(current_validation_output_set)\n",
    "            \n",
    "        W = np.matmul(np.matmul(np.linalg.inv(np.matmul(np.matrix.transpose(current_training_input_set), current_training_input_set)), np.matrix.transpose(current_training_input_set)), current_training_output_set)\n",
    "        \n",
    "        for test_idx , test_element in enumerate(current_validation_input_set):\n",
    "            SE = SE + (np.matmul(W, np.matrix.transpose(test_element)) - current_validation_output_set[test_idx])**2/(len(current_validation_output_set)*k_fold)    \n",
    "    RMSE_set.append(math.sqrt(SE))"
   ]
  },
  {
   "cell_type": "code",
   "execution_count": 49,
   "metadata": {},
   "outputs": [
    {
     "data": {
      "text/plain": [
       "[matrix([[10.09421962]]),\n",
       " matrix([[9.67411576]]),\n",
       " matrix([[9.17386873]]),\n",
       " matrix([[8.84858957]]),\n",
       " matrix([[8.61119776]]),\n",
       " matrix([[8.42499331]]),\n",
       " matrix([[8.31199682]]),\n",
       " matrix([[8.22486348]]),\n",
       " matrix([[8.18635423]]),\n",
       " matrix([[8.17010271]]),\n",
       " matrix([[8.12491716]]),\n",
       " matrix([[8.08925977]]),\n",
       " matrix([[8.06139586]]),\n",
       " matrix([[8.01902795]]),\n",
       " matrix([[7.99874428]]),\n",
       " matrix([[7.97481292]]),\n",
       " matrix([[7.93996916]]),\n",
       " matrix([[7.9658242]]),\n",
       " matrix([[7.95768775]]),\n",
       " matrix([[7.96769933]]),\n",
       " matrix([[7.9675859]]),\n",
       " matrix([[7.97627683]]),\n",
       " matrix([[7.97676325]]),\n",
       " matrix([[7.9694221]]),\n",
       " matrix([[7.95917944]]),\n",
       " matrix([[7.96153568]]),\n",
       " matrix([[7.97238298]]),\n",
       " matrix([[7.97509266]]),\n",
       " matrix([[7.98793421]])]"
      ]
     },
     "execution_count": 49,
     "metadata": {},
     "output_type": "execute_result"
    }
   ],
   "source": [
    "RMSE_set"
   ]
  },
  {
   "cell_type": "code",
   "execution_count": null,
   "metadata": {},
   "outputs": [],
   "source": [
    "plt.plot(K, RMSE_set)\n",
    "plt.xlabel('Amostras passadas utilizadas')\n",
    "plt.ylabel('Erro quadrático médio')\n",
    "plt.show()"
   ]
  },
  {
   "cell_type": "code",
   "execution_count": null,
   "metadata": {},
   "outputs": [],
   "source": [
    "k_min = K[np.squeeze(np.where(RMSE_set == np.amin(RMSE_set)))]\n",
    "print(\"O Valor de amostras passadas onde se identifica o menor erro é dada por K = \",k_min)"
   ]
  },
  {
   "cell_type": "code",
   "execution_count": null,
   "metadata": {},
   "outputs": [],
   "source": [
    "#APPLYING THE CLOSED SOLUTION FOR THE TRAINING OF WEIGHTS\n",
    "W = np.matmul(np.matmul(np.linalg.inv(np.matmul(np.matrix.transpose(training_input), training_input)), np.matrix.transpose(training_input)), training_output)"
   ]
  },
  {
   "cell_type": "code",
   "execution_count": null,
   "metadata": {},
   "outputs": [],
   "source": [
    "K = k_min #np.r_[1:30:1]\n",
    "RMSE_set = []\n",
    "\n",
    "\n",
    "temperature_test_set = []\n",
    "temperature_training_set = []\n",
    "for idx, date in enumerate(date_set):\n",
    "    if date[0:4] == '1990': #Warning: it works! And doing 0:3 doesnt\n",
    "        temperature_test_set.append(float(temperature_set[idx]))\n",
    "    else:\n",
    "        temperature_training_set.append(float(temperature_set[idx]))\n",
    "        \n",
    "\n",
    "training_input = []\n",
    "training_output = []\n",
    "\n",
    "test_input = []\n",
    "test_output = []\n",
    "\n",
    "predicted_result_set = []\n",
    "\n",
    "for idx in range(0,len(temperature_training_set) - K-1):\n",
    "    training_input.append(temperature_training_set[idx:idx+K])\n",
    "    training_output.append(temperature_training_set[idx+K+1])\n",
    "\n",
    "for idx in range(0,len(temperature_test_set) - K-1):\n",
    "    test_input.append(temperature_test_set[idx:idx+K])\n",
    "    test_output.append(temperature_training_set[idx+K+1])\n",
    "\n",
    "training_output = np.array(training_output)\n",
    "training_input = np.c_[np.ones(len(training_output)), np.matrix(training_input)]\n",
    "\n",
    "test_output = np.array(test_output)   \n",
    "test_input = np.c_[np.ones(len(test_output)), np.matrix(test_input)]\n",
    "\n",
    "W = np.matmul(np.matmul(np.linalg.inv(np.matmul(np.matrix.transpose(training_input), training_input)), np.matrix.transpose(training_input)), training_output)\n",
    "SE = 0\n",
    "for test_idx , test_element in enumerate(test_input):\n",
    "    predicted_result_set.append(np.matmul(W, np.matrix.transpose(test_element)))\n",
    "predicted_result_set = np.squeeze(predicted_result_set)"
   ]
  },
  {
   "cell_type": "code",
   "execution_count": null,
   "metadata": {},
   "outputs": [],
   "source": [
    "plt.plot(range(len(predicted_result_set)), predicted_result_set, 'g')\n",
    "plt.plot(range(len(test_output)), test_output, 'r--')\n",
    "plt.xlabel('Amostras - dias no ano de 1990')\n",
    "plt.ylabel('Temperatura ºC)')\n",
    "plt.title('Análise - Preditor Linear de temperatura (verde) vs Temperatura Real (vermelho)\\nAno: 1990.\\nPrevisões a partir de ' + date_set[3285 + K])\n",
    "plt.show()"
   ]
  },
  {
   "cell_type": "code",
   "execution_count": null,
   "metadata": {},
   "outputs": [],
   "source": [
    "365 - K"
   ]
  },
  {
   "cell_type": "code",
   "execution_count": null,
   "metadata": {},
   "outputs": [],
   "source": []
  },
  {
   "cell_type": "code",
   "execution_count": null,
   "metadata": {},
   "outputs": [],
   "source": [
    "splitted_temperature_training_set = list(split(temperature_training_set, k_fold))"
   ]
  },
  {
   "cell_type": "code",
   "execution_count": null,
   "metadata": {},
   "outputs": [],
   "source": [
    "x = []\n",
    "x = np.append(x,splitted_temperature_training_set[0])\n",
    "x = np.append(x,splitted_temperature_training_set[1])\n",
    "x = np.append(x,splitted_temperature_training_set[2])"
   ]
  },
  {
   "cell_type": "code",
   "execution_count": null,
   "metadata": {},
   "outputs": [],
   "source": [
    "len()"
   ]
  },
  {
   "cell_type": "code",
   "execution_count": null,
   "metadata": {},
   "outputs": [],
   "source": [
    "x= list(split(training_input, k_fold))"
   ]
  },
  {
   "cell_type": "code",
   "execution_count": null,
   "metadata": {},
   "outputs": [],
   "source": [
    "x[0]"
   ]
  },
  {
   "cell_type": "code",
   "execution_count": null,
   "metadata": {},
   "outputs": [],
   "source": [
    "current_training_input_set"
   ]
  },
  {
   "cell_type": "code",
   "execution_count": null,
   "metadata": {},
   "outputs": [],
   "source": [
    "range(k_fold)[4]"
   ]
  },
  {
   "cell_type": "code",
   "execution_count": null,
   "metadata": {},
   "outputs": [],
   "source": []
  }
 ],
 "metadata": {
  "kernelspec": {
   "display_name": "Python 3",
   "language": "python",
   "name": "python3"
  },
  "language_info": {
   "codemirror_mode": {
    "name": "ipython",
    "version": 3
   },
   "file_extension": ".py",
   "mimetype": "text/x-python",
   "name": "python",
   "nbconvert_exporter": "python",
   "pygments_lexer": "ipython3",
   "version": "3.7.3"
  }
 },
 "nbformat": 4,
 "nbformat_minor": 2
}
