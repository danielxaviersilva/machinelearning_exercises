{
 "cells": [
  {
   "cell_type": "code",
   "execution_count": 73,
   "metadata": {},
   "outputs": [],
   "source": [
    "from matplotlib import pyplot as plt\n",
    "import numpy as np\n",
    "import csv\n",
    "import math\n",
    "import pandas as pd\n",
    "import seaborn as sns\n",
    "\n",
    "from sklearn.model_selection import train_test_split\n",
    "from sklearn.metrics import f1_score, roc_curve, auc, confusion_matrix"
   ]
  },
  {
   "cell_type": "markdown",
   "metadata": {},
   "source": [
    "### Read data"
   ]
  },
  {
   "cell_type": "code",
   "execution_count": 74,
   "metadata": {},
   "outputs": [
    {
     "data": {
      "text/html": [
       "<div>\n",
       "<style scoped>\n",
       "    .dataframe tbody tr th:only-of-type {\n",
       "        vertical-align: middle;\n",
       "    }\n",
       "\n",
       "    .dataframe tbody tr th {\n",
       "        vertical-align: top;\n",
       "    }\n",
       "\n",
       "    .dataframe thead th {\n",
       "        text-align: right;\n",
       "    }\n",
       "</style>\n",
       "<table border=\"1\" class=\"dataframe\">\n",
       "  <thead>\n",
       "    <tr style=\"text-align: right;\">\n",
       "      <th></th>\n",
       "      <th>sd</th>\n",
       "      <th>median</th>\n",
       "      <th>Q25</th>\n",
       "      <th>Q75</th>\n",
       "      <th>IQR</th>\n",
       "      <th>skew</th>\n",
       "      <th>kurt</th>\n",
       "      <th>sp.ent</th>\n",
       "      <th>sfm</th>\n",
       "      <th>mode</th>\n",
       "      <th>centroid</th>\n",
       "      <th>meanfun</th>\n",
       "      <th>minfun</th>\n",
       "      <th>maxfun</th>\n",
       "      <th>meandom</th>\n",
       "      <th>mindom</th>\n",
       "      <th>maxdom</th>\n",
       "      <th>dfrange</th>\n",
       "      <th>modindx</th>\n",
       "      <th>label</th>\n",
       "    </tr>\n",
       "  </thead>\n",
       "  <tbody>\n",
       "    <tr>\n",
       "      <th>2340</th>\n",
       "      <td>0.033966</td>\n",
       "      <td>0.233194</td>\n",
       "      <td>0.204776</td>\n",
       "      <td>0.248657</td>\n",
       "      <td>0.043881</td>\n",
       "      <td>2.046778</td>\n",
       "      <td>7.169019</td>\n",
       "      <td>0.843487</td>\n",
       "      <td>0.182467</td>\n",
       "      <td>0.233194</td>\n",
       "      <td>0.225668</td>\n",
       "      <td>0.175209</td>\n",
       "      <td>0.047572</td>\n",
       "      <td>0.274286</td>\n",
       "      <td>1.412224</td>\n",
       "      <td>0.023438</td>\n",
       "      <td>17.625000</td>\n",
       "      <td>17.601562</td>\n",
       "      <td>0.089880</td>\n",
       "      <td>0.0</td>\n",
       "    </tr>\n",
       "    <tr>\n",
       "      <th>1169</th>\n",
       "      <td>0.073347</td>\n",
       "      <td>0.167372</td>\n",
       "      <td>0.114872</td>\n",
       "      <td>0.234231</td>\n",
       "      <td>0.119359</td>\n",
       "      <td>1.160160</td>\n",
       "      <td>3.764258</td>\n",
       "      <td>0.953904</td>\n",
       "      <td>0.654410</td>\n",
       "      <td>0.131474</td>\n",
       "      <td>0.168095</td>\n",
       "      <td>0.123996</td>\n",
       "      <td>0.047904</td>\n",
       "      <td>0.279070</td>\n",
       "      <td>1.146094</td>\n",
       "      <td>0.023438</td>\n",
       "      <td>8.296875</td>\n",
       "      <td>8.273438</td>\n",
       "      <td>0.120147</td>\n",
       "      <td>1.0</td>\n",
       "    </tr>\n",
       "    <tr>\n",
       "      <th>1341</th>\n",
       "      <td>0.060986</td>\n",
       "      <td>0.189104</td>\n",
       "      <td>0.147313</td>\n",
       "      <td>0.235075</td>\n",
       "      <td>0.087761</td>\n",
       "      <td>1.556842</td>\n",
       "      <td>5.389831</td>\n",
       "      <td>0.914163</td>\n",
       "      <td>0.411413</td>\n",
       "      <td>0.183358</td>\n",
       "      <td>0.186943</td>\n",
       "      <td>0.129196</td>\n",
       "      <td>0.048241</td>\n",
       "      <td>0.277457</td>\n",
       "      <td>0.758635</td>\n",
       "      <td>0.023438</td>\n",
       "      <td>4.500000</td>\n",
       "      <td>4.476562</td>\n",
       "      <td>0.108802</td>\n",
       "      <td>1.0</td>\n",
       "    </tr>\n",
       "    <tr>\n",
       "      <th>614</th>\n",
       "      <td>0.076085</td>\n",
       "      <td>0.147527</td>\n",
       "      <td>0.095914</td>\n",
       "      <td>0.206882</td>\n",
       "      <td>0.110968</td>\n",
       "      <td>1.146054</td>\n",
       "      <td>4.570516</td>\n",
       "      <td>0.969179</td>\n",
       "      <td>0.753901</td>\n",
       "      <td>0.280000</td>\n",
       "      <td>0.149887</td>\n",
       "      <td>0.114710</td>\n",
       "      <td>0.015889</td>\n",
       "      <td>0.250000</td>\n",
       "      <td>0.257812</td>\n",
       "      <td>0.039062</td>\n",
       "      <td>0.710938</td>\n",
       "      <td>0.671875</td>\n",
       "      <td>0.246366</td>\n",
       "      <td>1.0</td>\n",
       "    </tr>\n",
       "    <tr>\n",
       "      <th>1383</th>\n",
       "      <td>0.055440</td>\n",
       "      <td>0.211077</td>\n",
       "      <td>0.154538</td>\n",
       "      <td>0.250385</td>\n",
       "      <td>0.095846</td>\n",
       "      <td>1.021086</td>\n",
       "      <td>3.390342</td>\n",
       "      <td>0.906896</td>\n",
       "      <td>0.324342</td>\n",
       "      <td>0.276769</td>\n",
       "      <td>0.203307</td>\n",
       "      <td>0.120620</td>\n",
       "      <td>0.048485</td>\n",
       "      <td>0.277457</td>\n",
       "      <td>0.942308</td>\n",
       "      <td>0.023438</td>\n",
       "      <td>5.976562</td>\n",
       "      <td>5.953125</td>\n",
       "      <td>0.084536</td>\n",
       "      <td>1.0</td>\n",
       "    </tr>\n",
       "  </tbody>\n",
       "</table>\n",
       "</div>"
      ],
      "text/plain": [
       "            sd    median       Q25       Q75       IQR      skew      kurt  \\\n",
       "2340  0.033966  0.233194  0.204776  0.248657  0.043881  2.046778  7.169019   \n",
       "1169  0.073347  0.167372  0.114872  0.234231  0.119359  1.160160  3.764258   \n",
       "1341  0.060986  0.189104  0.147313  0.235075  0.087761  1.556842  5.389831   \n",
       "614   0.076085  0.147527  0.095914  0.206882  0.110968  1.146054  4.570516   \n",
       "1383  0.055440  0.211077  0.154538  0.250385  0.095846  1.021086  3.390342   \n",
       "\n",
       "        sp.ent       sfm      mode  centroid   meanfun    minfun    maxfun  \\\n",
       "2340  0.843487  0.182467  0.233194  0.225668  0.175209  0.047572  0.274286   \n",
       "1169  0.953904  0.654410  0.131474  0.168095  0.123996  0.047904  0.279070   \n",
       "1341  0.914163  0.411413  0.183358  0.186943  0.129196  0.048241  0.277457   \n",
       "614   0.969179  0.753901  0.280000  0.149887  0.114710  0.015889  0.250000   \n",
       "1383  0.906896  0.324342  0.276769  0.203307  0.120620  0.048485  0.277457   \n",
       "\n",
       "       meandom    mindom     maxdom    dfrange   modindx  label  \n",
       "2340  1.412224  0.023438  17.625000  17.601562  0.089880    0.0  \n",
       "1169  1.146094  0.023438   8.296875   8.273438  0.120147    1.0  \n",
       "1341  0.758635  0.023438   4.500000   4.476562  0.108802    1.0  \n",
       "614   0.257812  0.039062   0.710938   0.671875  0.246366    1.0  \n",
       "1383  0.942308  0.023438   5.976562   5.953125  0.084536    1.0  "
      ]
     },
     "execution_count": 74,
     "metadata": {},
     "output_type": "execute_result"
    }
   ],
   "source": [
    "data = pd.read_csv('dados_voz_genero.csv', delimiter = ',')\n",
    "data = data.drop(\"Unnamed: 0\", axis=1)\n",
    "names = list(data.keys())\n",
    "data.sample(5)"
   ]
  },
  {
   "cell_type": "markdown",
   "metadata": {},
   "source": [
    "### Check balance"
   ]
  },
  {
   "cell_type": "code",
   "execution_count": 75,
   "metadata": {},
   "outputs": [
    {
     "data": {
      "image/png": "[encoded data removed]",
      "text/plain": [
       "<Figure size 432x288 with 1 Axes>"
      ]
     },
     "metadata": {
      "needs_background": "light"
     },
     "output_type": "display_data"
    }
   ],
   "source": [
    "sns.countplot(x='label', data=data)\n",
    "plt.show()"
   ]
  },
  {
   "cell_type": "markdown",
   "metadata": {},
   "source": [
    "Data is balanced"
   ]
  },
  {
   "cell_type": "markdown",
   "metadata": {},
   "source": [
    "### Prepare data"
   ]
  },
  {
   "cell_type": "code",
   "execution_count": 76,
   "metadata": {},
   "outputs": [],
   "source": [
    "def sigmoid(z):\n",
    "    import numpy as np\n",
    "    sigm = 1/(1+np.exp(-z))\n",
    "    return sigm\n",
    "\n",
    "def loss(h, y):\n",
    "    import numpy as np\n",
    "    loss = (-y * np.log(h) - (1 - y) * np.log(1 - h)).mean()\n",
    "    return loss\n",
    "\n",
    "def normalize(x, interval):\n",
    "    import numpy as np\n",
    "    x1 = np.array(x)\n",
    "    x_normalized =  interval[0] + (x1 - min(x))*(interval[1] - interval[0])/(max(x) - min(x))\n",
    "    return x_normalized"
   ]
  },
  {
   "cell_type": "code",
   "execution_count": 157,
   "metadata": {},
   "outputs": [],
   "source": [
    "# Divide X and y\n",
    "names = list(data.keys())\n",
    "\n",
    "X = data.copy()\n",
    "left_ones = np.ones(data.shape[0])\n",
    "X['ones'] = left_ones\n",
    "X = X.drop(columns = 'label')\n",
    "\n",
    "cols = list(X.columns)\n",
    "cols = [cols[-1]] + cols[:-1]\n",
    "X = X[cols]\n",
    "\n",
    "for i in range(1,X.shape[1] -1):\n",
    "    X.iloc[:,i] = normalize(X.iloc[:,i], [-1,1])\n",
    "    \n",
    "y = data['label']\n",
    "\n",
    "# Train-test split\n",
    "X_train, X_test, y_train, y_test = train_test_split(X, y, test_size=0.2, random_state=42)"
   ]
  },
  {
   "cell_type": "code",
   "execution_count": 158,
   "metadata": {},
   "outputs": [
    {
     "data": {
      "text/plain": [
       "807     1.0\n",
       "2495    0.0\n",
       "2529    0.0\n",
       "2241    0.0\n",
       "2981    0.0\n",
       "1075    1.0\n",
       "1602    0.0\n",
       "637     1.0\n",
       "756     1.0\n",
       "2599    0.0\n",
       "1849    0.0\n",
       "3145    0.0\n",
       "1187    1.0\n",
       "2883    0.0\n",
       "2110    0.0\n",
       "221     1.0\n",
       "543     1.0\n",
       "1360    1.0\n",
       "2272    0.0\n",
       "2581    0.0\n",
       "3151    0.0\n",
       "1889    0.0\n",
       "1922    0.0\n",
       "3009    0.0\n",
       "2947    0.0\n",
       "1159    1.0\n",
       "2059    0.0\n",
       "1822    0.0\n",
       "272     1.0\n",
       "521     1.0\n",
       "       ... \n",
       "474     1.0\n",
       "2904    0.0\n",
       "747     1.0\n",
       "2300    0.0\n",
       "21      1.0\n",
       "459     1.0\n",
       "1184    1.0\n",
       "2324    0.0\n",
       "955     1.0\n",
       "1215    1.0\n",
       "2433    0.0\n",
       "2853    0.0\n",
       "1515    1.0\n",
       "2391    0.0\n",
       "769     1.0\n",
       "1685    0.0\n",
       "130     1.0\n",
       "2919    0.0\n",
       "2135    0.0\n",
       "1482    1.0\n",
       "330     1.0\n",
       "1238    1.0\n",
       "466     1.0\n",
       "2169    0.0\n",
       "1638    0.0\n",
       "3092    0.0\n",
       "1095    1.0\n",
       "1130    1.0\n",
       "1294    1.0\n",
       "860     1.0\n",
       "Name: label, Length: 2534, dtype: float64"
      ]
     },
     "execution_count": 158,
     "metadata": {},
     "output_type": "execute_result"
    }
   ],
   "source": [
    "y_train"
   ]
  },
  {
   "cell_type": "markdown",
   "metadata": {},
   "source": [
    "### Make and train model"
   ]
  },
  {
   "cell_type": "code",
   "execution_count": 169,
   "metadata": {
    "scrolled": true
   },
   "outputs": [
    {
     "name": "stdout",
     "output_type": "stream",
     "text": [
      "Iteration: 0 -- Training Loss: 0.6561137128107705 -- Validation Loss: 0.6586009225974544\n",
      "Amount of iterations after the current minimum loss function on the validation set: 0\n",
      "Iteration: 1000 -- Training Loss: 0.08501817965697428 -- Validation Loss: 0.1239662613824402\n",
      "Amount of iterations after the current minimum loss function on the validation set: 0\n",
      "Iteration: 2000 -- Training Loss: 0.06997203221977835 -- Validation Loss: 0.120022142266195\n",
      "Amount of iterations after the current minimum loss function on the validation set: 191\n",
      "Iteration: 3000 -- Training Loss: 0.06418401842856418 -- Validation Loss: 0.1223951644678106\n",
      "Amount of iterations after the current minimum loss function on the validation set: 1191\n",
      "Iteration: 4000 -- Training Loss: 0.061029390448680686 -- Validation Loss: 0.12572013115575953\n",
      "Amount of iterations after the current minimum loss function on the validation set: 2191\n",
      "Iteration: 5000 -- Training Loss: 0.059008616674862596 -- Validation Loss: 0.12906498349051201\n",
      "Amount of iterations after the current minimum loss function on the validation set: 3191\n",
      "Iteration: 6000 -- Training Loss: 0.05758270864486424 -- Validation Loss: 0.1322107460074345\n",
      "Amount of iterations after the current minimum loss function on the validation set: 4191\n",
      "Iteration: 7000 -- Training Loss: 0.05650795519913471 -- Validation Loss: 0.13511544521174812\n",
      "Amount of iterations after the current minimum loss function on the validation set: 5191\n",
      "Iteration: 8000 -- Training Loss: 0.05565767428172765 -- Validation Loss: 0.1377883507774249\n",
      "Amount of iterations after the current minimum loss function on the validation set: 6191\n",
      "Iteration: 9000 -- Training Loss: 0.054959516231034886 -- Validation Loss: 0.1402530611180082\n",
      "Amount of iterations after the current minimum loss function on the validation set: 7191\n",
      "Iteration: 10000 -- Training Loss: 0.054369245464186394 -- Validation Loss: 0.1425354348356968\n",
      "Amount of iterations after the current minimum loss function on the validation set: 8191\n",
      "Iteration: 11000 -- Training Loss: 0.0538583713373835 -- Validation Loss: 0.1446595886029146\n",
      "Amount of iterations after the current minimum loss function on the validation set: 9191\n",
      "Iteration: 11809 -- Training Loss: 0.05348985875026531 -- Validation Loss: 0.1462768964077996\n"
     ]
    }
   ],
   "source": [
    "# Inicialize weights\n",
    "VAL_PROPORTION = 0.9\n",
    "theta = np.zeros(X_train.shape[1])\n",
    "\n",
    "ls_training = []\n",
    "ls_val = []\n",
    "\n",
    "# Learning rate\n",
    "lr = 0.5\n",
    "\n",
    "# Threshold\n",
    "threshold = 0.5\n",
    "\n",
    "# Number of iterations\n",
    "iterations = 100000\n",
    "\n",
    "#Number of additional iterations after a minimum on validation set\n",
    "MAX_IT_AFTER_MIN = 10000\n",
    "it_after_min = 0\n",
    "min_cost_val = 2**10 #high number\n",
    "\n",
    "# Training loop\n",
    "X_training, X_val, y_training, y_val = train_test_split(X_train, y_train, test_size=VAL_PROPORTION, random_state=42)\n",
    "\n",
    "\n",
    "for i in range(iterations):\n",
    "    it_after_min = it_after_min + 1   \n",
    "    \n",
    "    # Input x Weights\n",
    "    z = np.dot(X_training, theta)    \n",
    "    # Sigmoid\n",
    "    h_training = sigmoid(z)\n",
    "    # Gradient descent\n",
    "    gradient = np.dot(X_training.transpose() , h_training - y_training)/y_training.size\n",
    "    theta = theta - lr * gradient\n",
    "    \n",
    "    h_training = sigmoid(np.dot(X_training, theta))\n",
    "    ls_training.append(loss(h_training, y_training))\n",
    "\n",
    "    h_val = sigmoid(np.dot(X_val, theta))\n",
    "    ls_val.append(loss(h_val, y_val))\n",
    "    \n",
    "    if ls_val[-1] < min_cost_val:\n",
    "        it_after_min = 0\n",
    "        opt_theta = theta\n",
    "        min_cost_val = ls_val[-1]\n",
    "        best_it_idx = i\n",
    "        \n",
    "    if it_after_min == MAX_IT_AFTER_MIN:\n",
    "        print('Iteration: {} -- Training Loss: {} -- Validation Loss: {}'. format(i, ls_training[-1], ls_val[-1]))\n",
    "        break        \n",
    "    \n",
    "    # Print info\n",
    "    if(i%1000 == 0):        \n",
    "        print('Iteration: {} -- Training Loss: {} -- Validation Loss: {}'. format(i, ls_training[-1], ls_val[-1]))\n",
    "        print('Amount of iterations after the current minimum loss function on the validation set: {}'.format(it_after_min))\n",
    "theta = opt_theta\n",
    "        \n",
    "        "
   ]
  },
  {
   "cell_type": "code",
   "execution_count": 177,
   "metadata": {},
   "outputs": [
    {
     "data": {
      "image/png": "[encoded data removed]",
      "text/plain": [
       "<Figure size 432x288 with 1 Axes>"
      ]
     },
     "metadata": {
      "needs_background": "light"
     },
     "output_type": "display_data"
    }
   ],
   "source": [
    "plt.plot(ls_val, color = 'red', label=\"Cost Function - Validation\")\n",
    "plt.plot(ls_training, color = 'blue', label =\"Cost Function - Training\")\n",
    "plt.axvline(x=best_it_idx)\n",
    "plt.ylim(0, 0.175)\n",
    "plt.xlabel('Iterations')\n",
    "plt.ylabel('Cost function')\n",
    "plt.legend()\n",
    "plt.show()"
   ]
  },
  {
   "cell_type": "markdown",
   "metadata": {},
   "source": [
    "### Test model"
   ]
  },
  {
   "cell_type": "code",
   "execution_count": 173,
   "metadata": {},
   "outputs": [
    {
     "data": {
      "text/plain": [
       "array([False,  True,  True, False, False, False,  True,  True, False,\n",
       "        True, False, False, False, False, False, False, False, False,\n",
       "       False,  True,  True, False,  True, False,  True, False,  True,\n",
       "        True,  True,  True,  True, False, False,  True,  True, False,\n",
       "        True,  True,  True,  True, False,  True,  True, False, False,\n",
       "        True,  True, False,  True,  True, False,  True, False, False,\n",
       "       False,  True, False,  True,  True, False, False, False,  True,\n",
       "       False,  True, False, False,  True, False,  True, False, False,\n",
       "       False,  True,  True, False,  True,  True, False, False, False,\n",
       "        True,  True,  True,  True,  True, False,  True, False,  True,\n",
       "       False, False, False,  True, False,  True,  True,  True, False,\n",
       "       False, False,  True, False, False,  True, False,  True,  True,\n",
       "       False, False, False, False,  True, False, False, False,  True,\n",
       "       False,  True,  True,  True, False,  True,  True,  True,  True,\n",
       "        True, False,  True,  True,  True,  True,  True,  True,  True,\n",
       "        True, False, False,  True, False,  True, False,  True,  True,\n",
       "        True, False, False, False, False,  True, False, False,  True,\n",
       "       False,  True,  True, False, False, False,  True, False,  True,\n",
       "       False,  True,  True,  True,  True, False, False, False,  True,\n",
       "        True, False,  True,  True,  True,  True, False, False, False,\n",
       "       False,  True,  True,  True, False, False, False, False,  True,\n",
       "        True,  True,  True,  True, False,  True,  True, False,  True,\n",
       "       False,  True, False, False,  True,  True, False, False, False,\n",
       "        True,  True,  True,  True,  True,  True, False,  True, False,\n",
       "        True, False, False, False, False,  True, False, False, False,\n",
       "        True,  True,  True, False,  True,  True,  True,  True, False,\n",
       "       False,  True,  True, False,  True, False,  True, False, False,\n",
       "        True,  True, False,  True, False,  True,  True,  True, False,\n",
       "       False,  True,  True, False, False, False,  True, False,  True,\n",
       "       False,  True,  True, False, False,  True,  True, False, False,\n",
       "       False, False, False,  True, False,  True, False, False, False,\n",
       "        True,  True,  True, False,  True, False,  True,  True,  True,\n",
       "       False, False,  True,  True, False,  True,  True, False,  True,\n",
       "       False, False, False,  True, False, False,  True,  True,  True,\n",
       "       False,  True, False,  True, False,  True, False, False, False,\n",
       "        True,  True,  True, False,  True,  True, False,  True, False,\n",
       "       False, False,  True, False,  True,  True, False, False, False,\n",
       "        True, False, False,  True,  True,  True,  True,  True, False,\n",
       "       False, False, False, False, False, False,  True,  True,  True,\n",
       "        True,  True, False, False,  True, False,  True,  True,  True,\n",
       "        True, False, False, False, False,  True,  True, False, False,\n",
       "        True,  True,  True, False, False,  True,  True,  True,  True,\n",
       "        True,  True, False, False, False,  True, False, False, False,\n",
       "       False, False,  True,  True, False, False,  True, False,  True,\n",
       "        True, False, False, False, False,  True,  True, False, False,\n",
       "        True,  True,  True, False, False, False,  True,  True, False,\n",
       "        True, False,  True,  True,  True, False, False, False,  True,\n",
       "        True,  True,  True, False,  True,  True, False, False, False,\n",
       "        True,  True, False, False,  True,  True, False,  True, False,\n",
       "        True,  True,  True,  True, False,  True,  True,  True,  True,\n",
       "       False,  True, False, False, False,  True, False, False, False,\n",
       "        True,  True, False,  True,  True,  True,  True,  True,  True,\n",
       "        True, False, False, False,  True,  True,  True, False,  True,\n",
       "       False, False, False,  True, False,  True,  True, False, False,\n",
       "        True,  True,  True, False,  True, False,  True,  True, False,\n",
       "       False,  True,  True,  True,  True, False, False,  True, False,\n",
       "        True, False, False, False,  True,  True, False,  True, False,\n",
       "       False, False, False, False,  True,  True,  True, False,  True,\n",
       "       False,  True, False, False,  True, False, False, False, False,\n",
       "       False, False, False,  True,  True, False,  True,  True, False,\n",
       "        True, False,  True,  True, False,  True,  True, False,  True,\n",
       "        True,  True, False, False,  True, False, False,  True, False,\n",
       "       False, False,  True,  True, False,  True,  True,  True,  True,\n",
       "        True, False,  True, False,  True, False, False,  True, False,\n",
       "        True,  True, False,  True,  True,  True,  True, False,  True,\n",
       "        True,  True, False, False, False,  True,  True,  True, False,\n",
       "        True,  True,  True, False, False,  True,  True,  True,  True,\n",
       "        True,  True, False, False,  True,  True, False,  True, False,\n",
       "        True,  True,  True,  True,  True,  True,  True,  True,  True,\n",
       "        True, False, False,  True,  True, False,  True,  True, False,\n",
       "        True,  True,  True, False])"
      ]
     },
     "execution_count": 173,
     "metadata": {},
     "output_type": "execute_result"
    }
   ],
   "source": [
    "# Predict probability\n",
    "prob = sigmoid(np.dot(X_test, theta))\n",
    "y_pred = prob >= threshold\n",
    "y_pred"
   ]
  },
  {
   "cell_type": "markdown",
   "metadata": {},
   "source": [
    "### Metrics"
   ]
  },
  {
   "cell_type": "code",
   "execution_count": 174,
   "metadata": {
    "scrolled": true
   },
   "outputs": [
    {
     "name": "stdout",
     "output_type": "stream",
     "text": [
      "Accuracy: 0.9716088328075709\n",
      "F1 Score: 0.973293768545994\n"
     ]
    },
    {
     "data": {
      "image/png": "[encoded data removed]",
      "text/plain": [
       "<Figure size 432x288 with 1 Axes>"
      ]
     },
     "metadata": {
      "needs_background": "light"
     },
     "output_type": "display_data"
    }
   ],
   "source": [
    "# Accuracy\n",
    "print('Accuracy: {}'.format((y_pred == y_test).mean()))\n",
    "\n",
    "# F1 Score\n",
    "print('F1 Score: {}'.format(f1_score(y_test, y_pred, average='binary')))\n",
    "\n",
    "# ROC\n",
    "fpr, tpr, _ = roc_curve(y_test, y_pred)\n",
    "roc_auc = auc(fpr, tpr)\n",
    "\n",
    "plt.figure()\n",
    "plt.plot(fpr, tpr, color='darkorange',\n",
    "         label='ROC curve (area = %0.2f)' % roc_auc)\n",
    "plt.plot([0, 1], [0, 1], color='navy', linestyle='--')\n",
    "plt.xlim([0.0, 1.0])\n",
    "plt.ylim([0.0, 1.0])\n",
    "plt.xlabel('False Positive Rate')\n",
    "plt.ylabel('True Positive Rate')\n",
    "plt.title('ROC Curve')\n",
    "plt.legend(loc=\"lower right\")\n",
    "plt.show()"
   ]
  },
  {
   "cell_type": "markdown",
   "metadata": {},
   "source": [
    "### Choosing threshold"
   ]
  },
  {
   "cell_type": "code",
   "execution_count": 175,
   "metadata": {},
   "outputs": [
    {
     "name": "stdout",
     "output_type": "stream",
     "text": [
      "Highest Accuracy: 0.9732 - Threshold: 0.40\n",
      "Highest F1 Score: 0.9750 - Threshold: 0.40\n",
      "Highest ROC Area: 0.9726 - Threshold: 0.40\n"
     ]
    },
    {
     "data": {
      "image/png": "[encoded data removed]",
      "text/plain": [
       "<Figure size 864x720 with 1 Axes>"
      ]
     },
     "metadata": {
      "needs_background": "light"
     },
     "output_type": "display_data"
    }
   ],
   "source": [
    "thresholds = np.linspace(0.05,0.95,19)\n",
    "acc = []\n",
    "f1s = []\n",
    "roc = []\n",
    "\n",
    "for th in thresholds:\n",
    "    y_pred = prob >= th\n",
    "    \n",
    "    # Title\n",
    "    #print('Threshold: {}'.format(th))\n",
    "    \n",
    "    # Accuracy\n",
    "    #print('Accuracy: {}'.format((y_pred == y_test).mean()))\n",
    "\n",
    "    # F1 Score\n",
    "    #print('F1 Score: {}'.format(f1_score(y_test, y_pred, average='binary')))\n",
    "\n",
    "    # ROC\n",
    "    fpr, tpr, _ = roc_curve(y_test, y_pred)\n",
    "    roc_auc = auc(fpr, tpr)\n",
    "    #print('ROC Area: {}'.format(roc_auc))\n",
    "    \n",
    "    #print('---------------------------------------')\n",
    "    \n",
    "    '''\n",
    "    plt.figure()\n",
    "    plt.plot(fpr, tpr, color='darkorange',\n",
    "             label='ROC curve (area = %0.2f)' % roc_auc)\n",
    "    plt.plot([0, 1], [0, 1], color='navy', linestyle='--')\n",
    "    plt.xlim([0.0, 1.0])\n",
    "    plt.ylim([0.0, 1.0])\n",
    "    plt.xlabel('False Positive Rate')\n",
    "    plt.ylabel('True Positive Rate')\n",
    "    plt.title('ROC Curve')\n",
    "    plt.legend(loc=\"lower right\")\n",
    "    plt.show()    \n",
    "    '''\n",
    "    \n",
    "    acc.append((y_pred == y_test).mean())\n",
    "    f1s.append(f1_score(y_test, y_pred, average='binary'))\n",
    "    roc.append(roc_auc)\n",
    "    \n",
    "print('Highest Accuracy: {0:.4f} - Threshold: {1:.2f}'.format(np.max(acc), thresholds[acc.index(np.max(acc))]))\n",
    "print('Highest F1 Score: {0:.4f} - Threshold: {1:.2f}'.format(np.max(f1s), thresholds[f1s.index(np.max(f1s))]))\n",
    "print('Highest ROC Area: {0:.4f} - Threshold: {1:.2f}'.format(np.max(roc), thresholds[roc.index(np.max(roc))]))\n",
    "    \n",
    "plt.figure(figsize = (12,10))\n",
    "plt.plot(thresholds, acc, label='Accuracy')\n",
    "plt.plot(thresholds, f1s, label='F1 Score')\n",
    "plt.plot(thresholds, roc, label='ROC Area')\n",
    "plt.legend()\n",
    "plt.show()"
   ]
  },
  {
   "cell_type": "code",
   "execution_count": 181,
   "metadata": {},
   "outputs": [
    {
     "name": "stdout",
     "output_type": "stream",
     "text": [
      "Accuracy for threshold 0.40: 0.9732\n"
     ]
    },
    {
     "data": {
      "image/png": "[encoded data removed]",
      "text/plain": [
       "<Figure size 432x288 with 2 Axes>"
      ]
     },
     "metadata": {
      "needs_background": "light"
     },
     "output_type": "display_data"
    },
    {
     "data": {
      "image/png": "[encoded data removed]",
      "text/plain": [
       "<Figure size 432x288 with 2 Axes>"
      ]
     },
     "metadata": {
      "needs_background": "light"
     },
     "output_type": "display_data"
    }
   ],
   "source": [
    "# Most adequate threshold (largest roc area?)\n",
    "th = 0.4\n",
    "y_pred = prob >= th\n",
    "\n",
    "# Accuracy\n",
    "print('Accuracy for threshold {0:.2f}: {1:.4f}'.format(th, (y_pred == y_test).mean()))\n",
    "\n",
    "# Confusion matrix\n",
    "normalize = False\n",
    "cm = confusion_matrix(y_test, y_pred)\n",
    "cmap = plt.cm.Blues\n",
    "classes = ['0', '1']\n",
    "\n",
    "for normalize in [False, True]:\n",
    "\n",
    "    # Normalization\n",
    "    if normalize:\n",
    "        cm = cm.astype('float') / cm.sum(axis=1)[:, np.newaxis]\n",
    "        title = 'Normalized confusion matrix'\n",
    "    else:\n",
    "        title = 'Confusion matrix, without normalization'\n",
    "\n",
    "    fig, ax = plt.subplots()\n",
    "    im = ax.imshow(cm, interpolation='nearest', cmap=cmap)\n",
    "    ax.figure.colorbar(im, ax=ax)\n",
    "    ax.set(xticks=np.arange(cm.shape[1]),\n",
    "           yticks=np.arange(cm.shape[0]),\n",
    "           xticklabels=classes, yticklabels=classes,\n",
    "           title=title,\n",
    "           ylabel='True label',\n",
    "           xlabel='Predicted label')\n",
    "\n",
    "    # Rotate the tick labels and set their alignment.\n",
    "    plt.setp(ax.get_xticklabels(), rotation=45, ha=\"right\",\n",
    "             rotation_mode=\"anchor\")\n",
    "\n",
    "    # Loop over data dimensions and create text annotations.\n",
    "    fmt = '.2f' if normalize else 'd'\n",
    "    thresh = cm.max() / 2.\n",
    "    for i in range(cm.shape[0]):\n",
    "        for j in range(cm.shape[1]):\n",
    "            ax.text(j, i, format(cm[i, j], fmt),\n",
    "                    ha=\"center\", va=\"center\",\n",
    "                    color=\"white\" if cm[i, j] > thresh else \"black\")\n",
    "    fig.tight_layout()\n",
    "    plt.show()\n",
    "\n"
   ]
  },
  {
   "cell_type": "code",
   "execution_count": null,
   "metadata": {},
   "outputs": [],
   "source": []
  }
 ],
 "metadata": {
  "kernelspec": {
   "display_name": "Python 3",
   "language": "python",
   "name": "python3"
  },
  "language_info": {
   "codemirror_mode": {
    "name": "ipython",
    "version": 3
   },
   "file_extension": ".py",
   "mimetype": "text/x-python",
   "name": "python",
   "nbconvert_exporter": "python",
   "pygments_lexer": "ipython3",
   "version": "3.7.3"
  }
 },
 "nbformat": 4,
 "nbformat_minor": 2
}
