{
 "cells": [
  {
   "cell_type": "code",
   "execution_count": 18,
   "metadata": {},
   "outputs": [],
   "source": [
    "from matplotlib import pyplot as plt\n",
    "import numpy as np\n",
    "import csv\n",
    "import math\n",
    "import pandas as pd\n",
    "import seaborn as sns\n",
    "\n",
    "from sklearn.model_selection import train_test_split\n",
    "from sklearn.metrics import f1_score, roc_curve, auc, confusion_matrix"
   ]
  },
  {
   "cell_type": "markdown",
   "metadata": {},
   "source": [
    "### Read data"
   ]
  },
  {
   "cell_type": "code",
   "execution_count": 3,
   "metadata": {},
   "outputs": [
    {
     "data": {
      "text/html": [
       "<div>\n",
       "<style scoped>\n",
       "    .dataframe tbody tr th:only-of-type {\n",
       "        vertical-align: middle;\n",
       "    }\n",
       "\n",
       "    .dataframe tbody tr th {\n",
       "        vertical-align: top;\n",
       "    }\n",
       "\n",
       "    .dataframe thead th {\n",
       "        text-align: right;\n",
       "    }\n",
       "</style>\n",
       "<table border=\"1\" class=\"dataframe\">\n",
       "  <thead>\n",
       "    <tr style=\"text-align: right;\">\n",
       "      <th></th>\n",
       "      <th>sd</th>\n",
       "      <th>median</th>\n",
       "      <th>Q25</th>\n",
       "      <th>Q75</th>\n",
       "      <th>IQR</th>\n",
       "      <th>skew</th>\n",
       "      <th>kurt</th>\n",
       "      <th>sp.ent</th>\n",
       "      <th>sfm</th>\n",
       "      <th>mode</th>\n",
       "      <th>centroid</th>\n",
       "      <th>meanfun</th>\n",
       "      <th>minfun</th>\n",
       "      <th>maxfun</th>\n",
       "      <th>meandom</th>\n",
       "      <th>mindom</th>\n",
       "      <th>maxdom</th>\n",
       "      <th>dfrange</th>\n",
       "      <th>modindx</th>\n",
       "      <th>label</th>\n",
       "    </tr>\n",
       "  </thead>\n",
       "  <tbody>\n",
       "    <tr>\n",
       "      <th>1356</th>\n",
       "      <td>0.059287</td>\n",
       "      <td>0.236642</td>\n",
       "      <td>0.148881</td>\n",
       "      <td>0.257537</td>\n",
       "      <td>0.108657</td>\n",
       "      <td>1.588147</td>\n",
       "      <td>4.770636</td>\n",
       "      <td>0.877106</td>\n",
       "      <td>0.271041</td>\n",
       "      <td>0.249179</td>\n",
       "      <td>0.207792</td>\n",
       "      <td>0.141775</td>\n",
       "      <td>0.047105</td>\n",
       "      <td>0.266667</td>\n",
       "      <td>0.949836</td>\n",
       "      <td>0.023438</td>\n",
       "      <td>4.921875</td>\n",
       "      <td>4.898438</td>\n",
       "      <td>0.098508</td>\n",
       "      <td>1.0</td>\n",
       "    </tr>\n",
       "    <tr>\n",
       "      <th>2125</th>\n",
       "      <td>0.033228</td>\n",
       "      <td>0.183704</td>\n",
       "      <td>0.171481</td>\n",
       "      <td>0.198148</td>\n",
       "      <td>0.026667</td>\n",
       "      <td>2.833365</td>\n",
       "      <td>12.110202</td>\n",
       "      <td>0.845921</td>\n",
       "      <td>0.239098</td>\n",
       "      <td>0.187963</td>\n",
       "      <td>0.183107</td>\n",
       "      <td>0.167326</td>\n",
       "      <td>0.020305</td>\n",
       "      <td>0.253968</td>\n",
       "      <td>1.007812</td>\n",
       "      <td>0.007812</td>\n",
       "      <td>6.625000</td>\n",
       "      <td>6.617188</td>\n",
       "      <td>0.222989</td>\n",
       "      <td>0.0</td>\n",
       "    </tr>\n",
       "    <tr>\n",
       "      <th>1414</th>\n",
       "      <td>0.059687</td>\n",
       "      <td>0.174872</td>\n",
       "      <td>0.120513</td>\n",
       "      <td>0.215897</td>\n",
       "      <td>0.095385</td>\n",
       "      <td>1.043384</td>\n",
       "      <td>3.857072</td>\n",
       "      <td>0.933133</td>\n",
       "      <td>0.509799</td>\n",
       "      <td>0.164103</td>\n",
       "      <td>0.172894</td>\n",
       "      <td>0.131851</td>\n",
       "      <td>0.047431</td>\n",
       "      <td>0.277457</td>\n",
       "      <td>1.231086</td>\n",
       "      <td>0.023438</td>\n",
       "      <td>7.406250</td>\n",
       "      <td>7.382812</td>\n",
       "      <td>0.094084</td>\n",
       "      <td>1.0</td>\n",
       "    </tr>\n",
       "    <tr>\n",
       "      <th>1055</th>\n",
       "      <td>0.053220</td>\n",
       "      <td>0.203671</td>\n",
       "      <td>0.129644</td>\n",
       "      <td>0.222849</td>\n",
       "      <td>0.093205</td>\n",
       "      <td>2.066273</td>\n",
       "      <td>7.260472</td>\n",
       "      <td>0.892495</td>\n",
       "      <td>0.339382</td>\n",
       "      <td>0.214411</td>\n",
       "      <td>0.184142</td>\n",
       "      <td>0.125153</td>\n",
       "      <td>0.047244</td>\n",
       "      <td>0.277457</td>\n",
       "      <td>0.795573</td>\n",
       "      <td>0.023438</td>\n",
       "      <td>6.046875</td>\n",
       "      <td>6.023438</td>\n",
       "      <td>0.097356</td>\n",
       "      <td>1.0</td>\n",
       "    </tr>\n",
       "    <tr>\n",
       "      <th>909</th>\n",
       "      <td>0.078562</td>\n",
       "      <td>0.183623</td>\n",
       "      <td>0.125290</td>\n",
       "      <td>0.254638</td>\n",
       "      <td>0.129348</td>\n",
       "      <td>1.976600</td>\n",
       "      <td>6.734309</td>\n",
       "      <td>0.927683</td>\n",
       "      <td>0.551486</td>\n",
       "      <td>0.247536</td>\n",
       "      <td>0.181560</td>\n",
       "      <td>0.132376</td>\n",
       "      <td>0.052174</td>\n",
       "      <td>0.271186</td>\n",
       "      <td>0.472005</td>\n",
       "      <td>0.023438</td>\n",
       "      <td>4.382812</td>\n",
       "      <td>4.359375</td>\n",
       "      <td>0.059140</td>\n",
       "      <td>1.0</td>\n",
       "    </tr>\n",
       "  </tbody>\n",
       "</table>\n",
       "</div>"
      ],
      "text/plain": [
       "            sd    median       Q25       Q75       IQR      skew       kurt  \\\n",
       "1356  0.059287  0.236642  0.148881  0.257537  0.108657  1.588147   4.770636   \n",
       "2125  0.033228  0.183704  0.171481  0.198148  0.026667  2.833365  12.110202   \n",
       "1414  0.059687  0.174872  0.120513  0.215897  0.095385  1.043384   3.857072   \n",
       "1055  0.053220  0.203671  0.129644  0.222849  0.093205  2.066273   7.260472   \n",
       "909   0.078562  0.183623  0.125290  0.254638  0.129348  1.976600   6.734309   \n",
       "\n",
       "        sp.ent       sfm      mode  centroid   meanfun    minfun    maxfun  \\\n",
       "1356  0.877106  0.271041  0.249179  0.207792  0.141775  0.047105  0.266667   \n",
       "2125  0.845921  0.239098  0.187963  0.183107  0.167326  0.020305  0.253968   \n",
       "1414  0.933133  0.509799  0.164103  0.172894  0.131851  0.047431  0.277457   \n",
       "1055  0.892495  0.339382  0.214411  0.184142  0.125153  0.047244  0.277457   \n",
       "909   0.927683  0.551486  0.247536  0.181560  0.132376  0.052174  0.271186   \n",
       "\n",
       "       meandom    mindom    maxdom   dfrange   modindx  label  \n",
       "1356  0.949836  0.023438  4.921875  4.898438  0.098508    1.0  \n",
       "2125  1.007812  0.007812  6.625000  6.617188  0.222989    0.0  \n",
       "1414  1.231086  0.023438  7.406250  7.382812  0.094084    1.0  \n",
       "1055  0.795573  0.023438  6.046875  6.023438  0.097356    1.0  \n",
       "909   0.472005  0.023438  4.382812  4.359375  0.059140    1.0  "
      ]
     },
     "execution_count": 3,
     "metadata": {},
     "output_type": "execute_result"
    }
   ],
   "source": [
    "data = pd.read_csv('dados_voz_genero.csv', delimiter = ',')\n",
    "#data = data.drop(\"Unnamed: 0\", axis=1)\n",
    "names = list(data.keys())\n",
    "data.sample(5)"
   ]
  },
  {
   "cell_type": "markdown",
   "metadata": {},
   "source": [
    "### Check balance"
   ]
  },
  {
   "cell_type": "code",
   "execution_count": 4,
   "metadata": {},
   "outputs": [
    {
     "data": {
      "image/png": "[encoded data removed]",
      "text/plain": [
       "<Figure size 432x288 with 1 Axes>"
      ]
     },
     "metadata": {
      "needs_background": "light"
     },
     "output_type": "display_data"
    }
   ],
   "source": [
    "sns.countplot(x='label', data=data)\n",
    "plt.show()"
   ]
  },
  {
   "cell_type": "markdown",
   "metadata": {},
   "source": [
    "Data is balanced"
   ]
  },
  {
   "cell_type": "markdown",
   "metadata": {},
   "source": [
    "### Prepare data"
   ]
  },
  {
   "cell_type": "code",
   "execution_count": 5,
   "metadata": {},
   "outputs": [],
   "source": [
    "def sigmoid(z):\n",
    "    import numpy as np\n",
    "    sigm = 1/(1+np.exp(-z))\n",
    "    return sigm\n",
    "\n",
    "def loss(h, y):\n",
    "    import numpy as np\n",
    "    loss = (-y * np.log(h) - (1 - y) * np.log(1 - h)).mean()\n",
    "    return loss\n",
    "\n",
    "def normalize(x, interval):\n",
    "    import numpy as np\n",
    "    x1 = np.array(x)\n",
    "    x_normalized =  interval[0] + (x1 - min(x))*(interval[1] - interval[0])/(max(x) - min(x))\n",
    "    return x_normalized"
   ]
  },
  {
   "cell_type": "code",
   "execution_count": 6,
   "metadata": {},
   "outputs": [],
   "source": [
    "# Divide X and y\n",
    "names = list(data.keys())\n",
    "\n",
    "X = data.copy()\n",
    "left_ones = np.ones(data.shape[0])\n",
    "X['ones'] = left_ones\n",
    "X = X.drop(columns = 'label')\n",
    "\n",
    "cols = list(X.columns)\n",
    "cols = [cols[-1]] + cols[:-1]\n",
    "X = X[cols]\n",
    "\n",
    "for i in range(1,X.shape[1] -1):\n",
    "    X.iloc[:,i] = normalize(X.iloc[:,i], [-1,1])\n",
    "    \n",
    "y = data['label']\n",
    "\n",
    "# Train-test split\n",
    "X_train, X_test, y_train, y_test = train_test_split(X, y, test_size=0.2, random_state=42)"
   ]
  },
  {
   "cell_type": "markdown",
   "metadata": {},
   "source": [
    "### Make and train model"
   ]
  },
  {
   "cell_type": "code",
   "execution_count": 13,
   "metadata": {
    "scrolled": true
   },
   "outputs": [
    {
     "name": "stdout",
     "output_type": "stream",
     "text": [
      "Iteration: 1000 -- Training Loss: 0.0850459390353238 -- Validation Loss: 0.12398056695511134\n",
      "Amount of iterations after the current minimum loss function on the validation set: 0\n",
      "Iteration: 2000 -- Training Loss: 0.069980321526302 -- Validation Loss: 0.12002111563852336\n",
      "Amount of iterations after the current minimum loss function on the validation set: 190\n",
      "Iteration: 3000 -- Training Loss: 0.06418808576250978 -- Validation Loss: 0.12239203778436217\n",
      "Amount of iterations after the current minimum loss function on the validation set: 1190\n",
      "Iteration: 4000 -- Training Loss: 0.06103184690093172 -- Validation Loss: 0.12571673189188004\n",
      "Amount of iterations after the current minimum loss function on the validation set: 2190\n",
      "Iteration: 5000 -- Training Loss: 0.05901028442387616 -- Validation Loss: 0.1290617232342129\n",
      "Amount of iterations after the current minimum loss function on the validation set: 3190\n",
      "Iteration: 6000 -- Training Loss: 0.05758393136692977 -- Validation Loss: 0.13220771987298124\n",
      "Amount of iterations after the current minimum loss function on the validation set: 4190\n",
      "Iteration: 7000 -- Training Loss: 0.05650890247147732 -- Validation Loss: 0.13511265965689784\n",
      "Amount of iterations after the current minimum loss function on the validation set: 5190\n",
      "Iteration: 8000 -- Training Loss: 0.05565843942064674 -- Validation Loss: 0.13778578619721918\n",
      "Amount of iterations after the current minimum loss function on the validation set: 6190\n",
      "Iteration: 9000 -- Training Loss: 0.05496015471873435 -- Validation Loss: 0.1402506917159034\n",
      "Amount of iterations after the current minimum loss function on the validation set: 7190\n",
      "Iteration: 10000 -- Training Loss: 0.05436979225933179 -- Validation Loss: 0.14253323528534356\n",
      "Amount of iterations after the current minimum loss function on the validation set: 8190\n",
      "Iteration: 11000 -- Training Loss: 0.05385884949136874 -- Validation Loss: 0.14465753616015042\n",
      "Amount of iterations after the current minimum loss function on the validation set: 9190\n",
      "Iteration: 12000 -- Training Loss: 0.05340819482224634 -- Validation Loss: 0.14664482454170294\n",
      "Amount of iterations after the current minimum loss function on the validation set: 10190\n",
      "Iteration: 13000 -- Training Loss: 0.05300454335411643 -- Validation Loss: 0.1485133362844574\n",
      "Amount of iterations after the current minimum loss function on the validation set: 11190\n",
      "Iteration: 13809 -- Training Loss: 0.05270543346430214 -- Validation Loss: 0.14995048576482276\n"
     ]
    },
    {
     "data": {
      "image/png": "[encoded data removed]",
      "text/plain": [
       "<Figure size 432x288 with 1 Axes>"
      ]
     },
     "metadata": {
      "needs_background": "light"
     },
     "output_type": "display_data"
    }
   ],
   "source": [
    "# Inicialize weights\n",
    "VAL_PROPORTION = 0.9\n",
    "theta = np.zeros(X_train.shape[1])\n",
    "\n",
    "ls_training = []\n",
    "ls_val = []\n",
    "\n",
    "# Learning rate\n",
    "lr = 0.5\n",
    "\n",
    "# Threshold\n",
    "threshold = 0.5\n",
    "\n",
    "# Number of iterations\n",
    "iterations = 100000\n",
    "\n",
    "#Number of additional iterations after a minimum on validation set\n",
    "MAX_IT_AFTER_MIN = 12000\n",
    "it_after_min = 0\n",
    "min_cost_val = 2**10 #high number\n",
    "\n",
    "# Training loop\n",
    "X_training, X_val, y_training, y_val = train_test_split(X_train, y_train, test_size=VAL_PROPORTION, random_state=42)\n",
    "\n",
    "\n",
    "for i in range(iterations):\n",
    "    it_after_min = it_after_min + 1   \n",
    "    \n",
    "    # Input x Weights\n",
    "    z = np.dot(X_training, theta)    \n",
    "    # Sigmoid\n",
    "    h_training = sigmoid(z)\n",
    "    # Gradient descent\n",
    "    gradient = np.dot(X_training.transpose() , h_training - y_training)/y_training.size\n",
    "    theta = theta - lr * gradient\n",
    "    \n",
    "    h_training = sigmoid(np.dot(X_training, theta))\n",
    "    ls_training.append(loss(h_training, y_training))\n",
    "\n",
    "    h_val = sigmoid(np.dot(X_val, theta))\n",
    "    ls_val.append(loss(h_val, y_val))\n",
    "    \n",
    "    if ls_val[-1] < min_cost_val:\n",
    "        it_after_min = 0\n",
    "        opt_theta = theta\n",
    "        min_cost_val = ls_val[-1]\n",
    "        best_it_idx = i\n",
    "        \n",
    "    if it_after_min == MAX_IT_AFTER_MIN:\n",
    "        print('Iteration: {} -- Training Loss: {} -- Validation Loss: {}'. format(i, ls_training[-1], ls_val[-1]))\n",
    "        break        \n",
    "    \n",
    "    # Print info\n",
    "    if((i+1)%1000 == 0):        \n",
    "        print('Iteration: {} -- Training Loss: {} -- Validation Loss: {}'. format(i+1, ls_training[-1], ls_val[-1]))\n",
    "        print('Amount of iterations after the current minimum loss function on the validation set: {}'.format(it_after_min))\n",
    "theta = opt_theta\n",
    "        \n",
    "plt.plot(ls_val, color = 'red', label=\"Cost Function - Validation\")\n",
    "plt.plot(ls_training, color = 'blue', label =\"Cost Function - Training\")\n",
    "plt.axvline(x=best_it_idx)\n",
    "plt.ylim(0, 0.175)\n",
    "plt.xlabel('Iterations')\n",
    "plt.ylabel('Cost function')\n",
    "plt.legend()\n",
    "plt.show()"
   ]
  },
  {
   "cell_type": "markdown",
   "metadata": {},
   "source": [
    "### Test model"
   ]
  },
  {
   "cell_type": "code",
   "execution_count": 14,
   "metadata": {},
   "outputs": [],
   "source": [
    "# Predict probability\n",
    "prob = sigmoid(np.dot(X_test, theta))\n",
    "y_pred = prob >= threshold"
   ]
  },
  {
   "cell_type": "markdown",
   "metadata": {},
   "source": [
    "### Metrics"
   ]
  },
  {
   "cell_type": "code",
   "execution_count": 15,
   "metadata": {
    "scrolled": true
   },
   "outputs": [
    {
     "name": "stdout",
     "output_type": "stream",
     "text": [
      "Accuracy: 0.9716088328075709\n",
      "F1 Score: 0.973293768545994\n"
     ]
    },
    {
     "data": {
      "image/png": "[encoded data removed]",
      "text/plain": [
       "<Figure size 432x288 with 1 Axes>"
      ]
     },
     "metadata": {
      "needs_background": "light"
     },
     "output_type": "display_data"
    }
   ],
   "source": [
    "# Accuracy\n",
    "print('Accuracy: {}'.format((y_pred == y_test).mean()))\n",
    "\n",
    "# F1 Score\n",
    "print('F1 Score: {}'.format(f1_score(y_test, y_pred, average='binary')))\n",
    "\n",
    "# ROC\n",
    "fpr, tpr, _ = roc_curve(y_test, y_pred)\n",
    "roc_auc = auc(fpr, tpr)\n",
    "\n",
    "plt.figure()\n",
    "plt.plot(fpr, tpr, color='darkorange',\n",
    "         label='ROC curve (area = %0.2f)' % roc_auc)\n",
    "plt.plot([0, 1], [0, 1], color='navy', linestyle='--')\n",
    "plt.xlim([0.0, 1.0])\n",
    "plt.ylim([0.0, 1.0])\n",
    "plt.xlabel('False Positive Rate')\n",
    "plt.ylabel('True Positive Rate')\n",
    "plt.title('ROC Curve')\n",
    "plt.legend(loc=\"lower right\")\n",
    "plt.show()"
   ]
  },
  {
   "cell_type": "markdown",
   "metadata": {},
   "source": [
    "### Choosing threshold"
   ]
  },
  {
   "cell_type": "code",
   "execution_count": 16,
   "metadata": {},
   "outputs": [
    {
     "name": "stdout",
     "output_type": "stream",
     "text": [
      "Highest Accuracy: 0.9732 - Threshold: 0.40\n",
      "Highest F1 Score: 0.9750 - Threshold: 0.40\n",
      "Highest ROC Area: 0.9726 - Threshold: 0.40\n"
     ]
    },
    {
     "data": {
      "image/png": "[encoded data removed]",
      "text/plain": [
       "<Figure size 864x720 with 1 Axes>"
      ]
     },
     "metadata": {
      "needs_background": "light"
     },
     "output_type": "display_data"
    }
   ],
   "source": [
    "thresholds = np.linspace(0.05,0.95,19)\n",
    "acc = []\n",
    "f1s = []\n",
    "roc = []\n",
    "\n",
    "for th in thresholds:\n",
    "    y_pred = prob >= th\n",
    "    \n",
    "    # Title\n",
    "    #print('Threshold: {}'.format(th))\n",
    "    \n",
    "    # Accuracy\n",
    "    #print('Accuracy: {}'.format((y_pred == y_test).mean()))\n",
    "\n",
    "    # F1 Score\n",
    "    #print('F1 Score: {}'.format(f1_score(y_test, y_pred, average='binary')))\n",
    "\n",
    "    # ROC\n",
    "    fpr, tpr, _ = roc_curve(y_test, y_pred)\n",
    "    roc_auc = auc(fpr, tpr)\n",
    "    #print('ROC Area: {}'.format(roc_auc))\n",
    "    \n",
    "    #print('---------------------------------------')\n",
    "    \n",
    "    '''\n",
    "    plt.figure()\n",
    "    plt.plot(fpr, tpr, color='darkorange',\n",
    "             label='ROC curve (area = %0.2f)' % roc_auc)\n",
    "    plt.plot([0, 1], [0, 1], color='navy', linestyle='--')\n",
    "    plt.xlim([0.0, 1.0])\n",
    "    plt.ylim([0.0, 1.0])\n",
    "    plt.xlabel('False Positive Rate')\n",
    "    plt.ylabel('True Positive Rate')\n",
    "    plt.title('ROC Curve')\n",
    "    plt.legend(loc=\"lower right\")\n",
    "    plt.show()    \n",
    "    '''\n",
    "    \n",
    "    acc.append((y_pred == y_test).mean())\n",
    "    f1s.append(f1_score(y_test, y_pred, average='binary'))\n",
    "    roc.append(roc_auc)\n",
    "    \n",
    "print('Highest Accuracy: {0:.4f} - Threshold: {1:.2f}'.format(np.max(acc), thresholds[acc.index(np.max(acc))]))\n",
    "print('Highest F1 Score: {0:.4f} - Threshold: {1:.2f}'.format(np.max(f1s), thresholds[f1s.index(np.max(f1s))]))\n",
    "print('Highest ROC Area: {0:.4f} - Threshold: {1:.2f}'.format(np.max(roc), thresholds[roc.index(np.max(roc))]))\n",
    "    \n",
    "plt.figure(figsize = (12,10))\n",
    "plt.plot(thresholds, acc, label='Accuracy')\n",
    "plt.plot(thresholds, f1s, label='F1 Score')\n",
    "plt.plot(thresholds, roc, label='ROC Area')\n",
    "plt.legend()\n",
    "plt.show()"
   ]
  },
  {
   "cell_type": "markdown",
   "metadata": {},
   "source": [
    "### Accuracy and Confusion matrix using the chosen threshold"
   ]
  },
  {
   "cell_type": "code",
   "execution_count": 19,
   "metadata": {},
   "outputs": [
    {
     "name": "stdout",
     "output_type": "stream",
     "text": [
      "Accuracy for threshold 0.50: 0.9716\n"
     ]
    },
    {
     "data": {
      "image/png": "[encoded data removed]",
      "text/plain": [
       "<Figure size 432x288 with 2 Axes>"
      ]
     },
     "metadata": {
      "needs_background": "light"
     },
     "output_type": "display_data"
    },
    {
     "data": {
      "image/png": "[encoded data removed]",
      "text/plain": [
       "<Figure size 432x288 with 2 Axes>"
      ]
     },
     "metadata": {
      "needs_background": "light"
     },
     "output_type": "display_data"
    }
   ],
   "source": [
    "# Most adequate threshold (largest roc area?)\n",
    "th = 0.5\n",
    "y_pred = prob >= th\n",
    "\n",
    "# Accuracy\n",
    "print('Accuracy for threshold {0:.2f}: {1:.4f}'.format(th, (y_pred == y_test).mean()))\n",
    "\n",
    "# Confusion matrix\n",
    "normalize = False\n",
    "cm = confusion_matrix(y_test, y_pred)\n",
    "cmap = plt.cm.Blues\n",
    "classes = ['0', '1']\n",
    "\n",
    "for normalize in [False, True]:\n",
    "\n",
    "    # Normalization\n",
    "    if normalize:\n",
    "        cm = cm.astype('float') / cm.sum(axis=1)[:, np.newaxis]\n",
    "        title = 'Normalized confusion matrix'\n",
    "    else:\n",
    "        title = 'Confusion matrix, without normalization'\n",
    "\n",
    "    fig, ax = plt.subplots()\n",
    "    im = ax.imshow(cm, interpolation='nearest', cmap=cmap)\n",
    "    ax.figure.colorbar(im, ax=ax)\n",
    "    ax.set(xticks=np.arange(cm.shape[1]),\n",
    "           yticks=np.arange(cm.shape[0]),\n",
    "           xticklabels=classes, yticklabels=classes,\n",
    "           title=title,\n",
    "           ylabel='True label',\n",
    "           xlabel='Predicted label')\n",
    "\n",
    "    # Rotate the tick labels and set their alignment.\n",
    "    plt.setp(ax.get_xticklabels(), rotation=45, ha=\"right\",\n",
    "             rotation_mode=\"anchor\")\n",
    "\n",
    "    # Loop over data dimensions and create text annotations.\n",
    "    fmt = '.2f' if normalize else 'd'\n",
    "    thresh = cm.max() / 2.\n",
    "    for i in range(cm.shape[0]):\n",
    "        for j in range(cm.shape[1]):\n",
    "            ax.text(j, i, format(cm[i, j], fmt),\n",
    "                    ha=\"center\", va=\"center\",\n",
    "                    color=\"white\" if cm[i, j] > thresh else \"black\")\n",
    "    fig.tight_layout()\n",
    "    plt.show()"
   ]
  }
 ],
 "metadata": {
  "kernelspec": {
   "display_name": "Python 3",
   "language": "python",
   "name": "python3"
  },
  "language_info": {
   "codemirror_mode": {
    "name": "ipython",
    "version": 3
   },
   "file_extension": ".py",
   "mimetype": "text/x-python",
   "name": "python",
   "nbconvert_exporter": "python",
   "pygments_lexer": "ipython3",
   "version": "3.7.3"
  }
 },
 "nbformat": 4,
 "nbformat_minor": 2
}
