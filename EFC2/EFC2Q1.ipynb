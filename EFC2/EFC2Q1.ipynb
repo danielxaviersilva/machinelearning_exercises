{
 "cells": [
  {
   "cell_type": "code",
   "execution_count": 1,
   "metadata": {},
   "outputs": [],
   "source": [
    "#READING THE CSV FILE\n",
    "from matplotlib import pyplot as plt\n",
    "import numpy as np\n",
    "import csv\n",
    "import math\n",
    "#plt.rcParams['figure.figsize'] = [25, 8]\n",
    "\n",
    "\n",
    "with open('dados_voz_genero.csv') as csv_file:\n",
    "    csv_reader = csv.reader(csv_file, delimiter=',')\n",
    "    voice_attributes = []\n",
    "    date_set = []\n",
    "    for i, row in enumerate(csv_reader):        \n",
    "        date = row[0]\n",
    "        temp = row[1]\n",
    "        if(i != 0):\n",
    "            date_set.append(date)\n",
    "            voice_attributes.append(float(temp))"
   ]
  },
  {
   "cell_type": "code",
   "execution_count": 22,
   "metadata": {},
   "outputs": [],
   "source": [
    "voice_data = np.loadtxt(open('dados_voz_genero.csv', \"rb\"), delimiter=\",\", skiprows=1)"
   ]
  },
  {
   "cell_type": "code",
   "execution_count": 34,
   "metadata": {},
   "outputs": [],
   "source": [
    "woman_data = voice_data[np.where(voice_data[:,20] == 0)]\n",
    "man_data = voice_data[np.where(voice_data[:,20] == 1)]\n",
    "\n",
    "#np.where(voice_data[:,20] == 0)"
   ]
  },
  {
   "cell_type": "code",
   "execution_count": 48,
   "metadata": {},
   "outputs": [],
   "source": [
    "sorted_voice_data = np.zeros([(len(man_data)+len(woman_data)), len(voice_data[0])])"
   ]
  },
  {
   "cell_type": "code",
   "execution_count": 52,
   "metadata": {},
   "outputs": [],
   "source": [
    "svd_idx = -2\n",
    "for idx in range(min(len(woman_data),len(man_data))):\n",
    "    svd_idx = svd_idx + 2\n",
    "    sorted_voice_data[svd_idx] = man_data[idx]\n",
    "    sorted_voice_data[svd_idx+1] = woman_data[idx]\n",
    "#No futuro, fazer um código para compensar quando os dados para dar o merge alternado não tem tamanho igual!\n",
    "#Colocar o excedente do maior tamanho nas ultimas posições!   \n",
    "    "
   ]
  },
  {
   "cell_type": "code",
   "execution_count": 62,
   "metadata": {},
   "outputs": [],
   "source": [
    "test_fraction = 0.2\n",
    "training_max_idx = int((1 - test_fraction)*len(sorted_voice_data))\n",
    "training_set = sorted_voice_data[0:training_max_idx-1]\n",
    "test_set = sorted_voice_data[training_max_idx: len(sorted_voice_data) - 1]\n"
   ]
  },
  {
   "cell_type": "code",
   "execution_count": 65,
   "metadata": {},
   "outputs": [
    {
     "data": {
      "text/plain": [
       "0.20012626262626262"
      ]
     },
     "execution_count": 65,
     "metadata": {},
     "output_type": "execute_result"
    }
   ],
   "source": []
  },
  {
   "cell_type": "code",
   "execution_count": null,
   "metadata": {},
   "outputs": [],
   "source": []
  }
 ],
 "metadata": {
  "kernelspec": {
   "display_name": "Python 3",
   "language": "python",
   "name": "python3"
  },
  "language_info": {
   "codemirror_mode": {
    "name": "ipython",
    "version": 3
   },
   "file_extension": ".py",
   "mimetype": "text/x-python",
   "name": "python",
   "nbconvert_exporter": "python",
   "pygments_lexer": "ipython3",
   "version": "3.7.3"
  }
 },
 "nbformat": 4,
 "nbformat_minor": 2
}
