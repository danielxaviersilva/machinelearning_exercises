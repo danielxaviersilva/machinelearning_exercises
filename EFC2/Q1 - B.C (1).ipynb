{
 "cells": [
  {
   "cell_type": "code",
   "execution_count": 1,
   "metadata": {},
   "outputs": [
    {
     "ename": "ModuleNotFoundError",
     "evalue": "No module named 'matplotlib'",
     "output_type": "error",
     "traceback": [
      "\u001b[0;31m---------------------------------------------------------------------------\u001b[0m",
      "\u001b[0;31mModuleNotFoundError\u001b[0m                       Traceback (most recent call last)",
      "\u001b[0;32m<ipython-input-1-cf85bb3b1429>\u001b[0m in \u001b[0;36m<module>\u001b[0;34m\u001b[0m\n\u001b[0;32m----> 1\u001b[0;31m \u001b[0;32mfrom\u001b[0m \u001b[0mmatplotlib\u001b[0m \u001b[0;32mimport\u001b[0m \u001b[0mpyplot\u001b[0m \u001b[0;32mas\u001b[0m \u001b[0mplt\u001b[0m\u001b[0;34m\u001b[0m\u001b[0;34m\u001b[0m\u001b[0m\n\u001b[0m\u001b[1;32m      2\u001b[0m \u001b[0;32mimport\u001b[0m \u001b[0mnumpy\u001b[0m \u001b[0;32mas\u001b[0m \u001b[0mnp\u001b[0m\u001b[0;34m\u001b[0m\u001b[0;34m\u001b[0m\u001b[0m\n\u001b[1;32m      3\u001b[0m \u001b[0;32mimport\u001b[0m \u001b[0mcsv\u001b[0m\u001b[0;34m\u001b[0m\u001b[0;34m\u001b[0m\u001b[0m\n\u001b[1;32m      4\u001b[0m \u001b[0;32mimport\u001b[0m \u001b[0mmath\u001b[0m\u001b[0;34m\u001b[0m\u001b[0;34m\u001b[0m\u001b[0m\n\u001b[1;32m      5\u001b[0m \u001b[0;32mimport\u001b[0m \u001b[0mpandas\u001b[0m \u001b[0;32mas\u001b[0m \u001b[0mpd\u001b[0m\u001b[0;34m\u001b[0m\u001b[0;34m\u001b[0m\u001b[0m\n",
      "\u001b[0;31mModuleNotFoundError\u001b[0m: No module named 'matplotlib'"
     ]
    }
   ],
   "source": [
    "from matplotlib import pyplot as plt\n",
    "import numpy as np\n",
    "import csv\n",
    "import math\n",
    "import pandas as pd\n",
    "import seaborn as sns\n",
    "\n",
    "from sklearn.model_selection import train_test_split\n",
    "from sklearn.metrics import f1_score, roc_curve, auc, confusion_matrix"
   ]
  },
  {
   "cell_type": "markdown",
   "metadata": {},
   "source": [
    "### Read data"
   ]
  },
  {
   "cell_type": "code",
   "execution_count": 2,
   "metadata": {},
   "outputs": [
    {
     "data": {
      "text/html": [
       "<div>\n",
       "<style scoped>\n",
       "    .dataframe tbody tr th:only-of-type {\n",
       "        vertical-align: middle;\n",
       "    }\n",
       "\n",
       "    .dataframe tbody tr th {\n",
       "        vertical-align: top;\n",
       "    }\n",
       "\n",
       "    .dataframe thead th {\n",
       "        text-align: right;\n",
       "    }\n",
       "</style>\n",
       "<table border=\"1\" class=\"dataframe\">\n",
       "  <thead>\n",
       "    <tr style=\"text-align: right;\">\n",
       "      <th></th>\n",
       "      <th>sd</th>\n",
       "      <th>median</th>\n",
       "      <th>Q25</th>\n",
       "      <th>Q75</th>\n",
       "      <th>IQR</th>\n",
       "      <th>skew</th>\n",
       "      <th>kurt</th>\n",
       "      <th>sp.ent</th>\n",
       "      <th>sfm</th>\n",
       "      <th>mode</th>\n",
       "      <th>centroid</th>\n",
       "      <th>meanfun</th>\n",
       "      <th>minfun</th>\n",
       "      <th>maxfun</th>\n",
       "      <th>meandom</th>\n",
       "      <th>mindom</th>\n",
       "      <th>maxdom</th>\n",
       "      <th>dfrange</th>\n",
       "      <th>modindx</th>\n",
       "      <th>label</th>\n",
       "    </tr>\n",
       "  </thead>\n",
       "  <tbody>\n",
       "    <tr>\n",
       "      <th>184</th>\n",
       "      <td>0.067298</td>\n",
       "      <td>0.114685</td>\n",
       "      <td>0.089016</td>\n",
       "      <td>0.214062</td>\n",
       "      <td>0.125046</td>\n",
       "      <td>2.936318</td>\n",
       "      <td>17.153565</td>\n",
       "      <td>0.931458</td>\n",
       "      <td>0.564359</td>\n",
       "      <td>0.085719</td>\n",
       "      <td>0.145021</td>\n",
       "      <td>0.097881</td>\n",
       "      <td>0.016310</td>\n",
       "      <td>0.271186</td>\n",
       "      <td>0.214193</td>\n",
       "      <td>0.007812</td>\n",
       "      <td>3.171875</td>\n",
       "      <td>3.164062</td>\n",
       "      <td>0.107342</td>\n",
       "      <td>1.0</td>\n",
       "    </tr>\n",
       "    <tr>\n",
       "      <th>1010</th>\n",
       "      <td>0.060491</td>\n",
       "      <td>0.196663</td>\n",
       "      <td>0.133213</td>\n",
       "      <td>0.246223</td>\n",
       "      <td>0.113010</td>\n",
       "      <td>1.160150</td>\n",
       "      <td>3.992715</td>\n",
       "      <td>0.924797</td>\n",
       "      <td>0.393175</td>\n",
       "      <td>0.198241</td>\n",
       "      <td>0.189995</td>\n",
       "      <td>0.117401</td>\n",
       "      <td>0.047244</td>\n",
       "      <td>0.277457</td>\n",
       "      <td>0.949006</td>\n",
       "      <td>0.023438</td>\n",
       "      <td>5.296875</td>\n",
       "      <td>5.273438</td>\n",
       "      <td>0.088526</td>\n",
       "      <td>1.0</td>\n",
       "    </tr>\n",
       "    <tr>\n",
       "      <th>1587</th>\n",
       "      <td>0.072087</td>\n",
       "      <td>0.204656</td>\n",
       "      <td>0.180611</td>\n",
       "      <td>0.255954</td>\n",
       "      <td>0.075344</td>\n",
       "      <td>2.392326</td>\n",
       "      <td>10.061489</td>\n",
       "      <td>0.907115</td>\n",
       "      <td>0.524209</td>\n",
       "      <td>0.193435</td>\n",
       "      <td>0.195280</td>\n",
       "      <td>0.182629</td>\n",
       "      <td>0.024922</td>\n",
       "      <td>0.275862</td>\n",
       "      <td>0.269531</td>\n",
       "      <td>0.054688</td>\n",
       "      <td>0.703125</td>\n",
       "      <td>0.648438</td>\n",
       "      <td>0.294717</td>\n",
       "      <td>0.0</td>\n",
       "    </tr>\n",
       "    <tr>\n",
       "      <th>1547</th>\n",
       "      <td>0.060920</td>\n",
       "      <td>0.133009</td>\n",
       "      <td>0.117278</td>\n",
       "      <td>0.227391</td>\n",
       "      <td>0.110112</td>\n",
       "      <td>2.806798</td>\n",
       "      <td>13.195741</td>\n",
       "      <td>0.910558</td>\n",
       "      <td>0.408569</td>\n",
       "      <td>0.121473</td>\n",
       "      <td>0.165113</td>\n",
       "      <td>0.114636</td>\n",
       "      <td>0.026882</td>\n",
       "      <td>0.270270</td>\n",
       "      <td>0.537109</td>\n",
       "      <td>0.004883</td>\n",
       "      <td>0.952148</td>\n",
       "      <td>0.947266</td>\n",
       "      <td>0.384255</td>\n",
       "      <td>1.0</td>\n",
       "    </tr>\n",
       "    <tr>\n",
       "      <th>386</th>\n",
       "      <td>0.084685</td>\n",
       "      <td>0.143077</td>\n",
       "      <td>0.089231</td>\n",
       "      <td>0.232308</td>\n",
       "      <td>0.143077</td>\n",
       "      <td>1.401218</td>\n",
       "      <td>5.004322</td>\n",
       "      <td>0.946083</td>\n",
       "      <td>0.683197</td>\n",
       "      <td>0.115385</td>\n",
       "      <td>0.153610</td>\n",
       "      <td>0.115410</td>\n",
       "      <td>0.041885</td>\n",
       "      <td>0.140351</td>\n",
       "      <td>0.280469</td>\n",
       "      <td>0.125000</td>\n",
       "      <td>0.562500</td>\n",
       "      <td>0.437500</td>\n",
       "      <td>0.224206</td>\n",
       "      <td>1.0</td>\n",
       "    </tr>\n",
       "  </tbody>\n",
       "</table>\n",
       "</div>"
      ],
      "text/plain": [
       "            sd    median       Q25       Q75       IQR      skew       kurt  \\\n",
       "184   0.067298  0.114685  0.089016  0.214062  0.125046  2.936318  17.153565   \n",
       "1010  0.060491  0.196663  0.133213  0.246223  0.113010  1.160150   3.992715   \n",
       "1587  0.072087  0.204656  0.180611  0.255954  0.075344  2.392326  10.061489   \n",
       "1547  0.060920  0.133009  0.117278  0.227391  0.110112  2.806798  13.195741   \n",
       "386   0.084685  0.143077  0.089231  0.232308  0.143077  1.401218   5.004322   \n",
       "\n",
       "        sp.ent       sfm      mode  centroid   meanfun    minfun    maxfun  \\\n",
       "184   0.931458  0.564359  0.085719  0.145021  0.097881  0.016310  0.271186   \n",
       "1010  0.924797  0.393175  0.198241  0.189995  0.117401  0.047244  0.277457   \n",
       "1587  0.907115  0.524209  0.193435  0.195280  0.182629  0.024922  0.275862   \n",
       "1547  0.910558  0.408569  0.121473  0.165113  0.114636  0.026882  0.270270   \n",
       "386   0.946083  0.683197  0.115385  0.153610  0.115410  0.041885  0.140351   \n",
       "\n",
       "       meandom    mindom    maxdom   dfrange   modindx  label  \n",
       "184   0.214193  0.007812  3.171875  3.164062  0.107342    1.0  \n",
       "1010  0.949006  0.023438  5.296875  5.273438  0.088526    1.0  \n",
       "1587  0.269531  0.054688  0.703125  0.648438  0.294717    0.0  \n",
       "1547  0.537109  0.004883  0.952148  0.947266  0.384255    1.0  \n",
       "386   0.280469  0.125000  0.562500  0.437500  0.224206    1.0  "
      ]
     },
     "execution_count": 2,
     "metadata": {},
     "output_type": "execute_result"
    }
   ],
   "source": [
    "data = pd.read_csv('dados_voz_genero.csv', delimiter = ',')\n",
    "names = list(data.keys())\n",
    "data.sample(5)"
   ]
  },
  {
   "cell_type": "markdown",
   "metadata": {},
   "source": [
    "### Check balance"
   ]
  },
  {
   "cell_type": "code",
   "execution_count": 3,
   "metadata": {},
   "outputs": [
    {
     "data": {
      "image/png": "[encoded data removed]",
      "text/plain": [
       "<Figure size 432x288 with 1 Axes>"
      ]
     },
     "metadata": {
      "needs_background": "light"
     },
     "output_type": "display_data"
    }
   ],
   "source": [
    "sns.countplot(x='label', data=data)\n",
    "plt.show()"
   ]
  },
  {
   "cell_type": "markdown",
   "metadata": {},
   "source": [
    "Data is balanced"
   ]
  },
  {
   "cell_type": "markdown",
   "metadata": {},
   "source": [
    "### Prepare data"
   ]
  },
  {
   "cell_type": "code",
   "execution_count": 4,
   "metadata": {},
   "outputs": [],
   "source": [
    "# Divide X and y\n",
    "names = list(data.keys())\n",
    "X = data[names[:-1]]\n",
    "y = data[names[-1]]\n",
    "\n",
    "# Train-test split\n",
    "X_train, X_test, y_train, y_test = train_test_split(X, y, test_size=0.2, random_state=42)"
   ]
  },
  {
   "cell_type": "markdown",
   "metadata": {},
   "source": [
    "### Make and train model"
   ]
  },
  {
   "cell_type": "code",
   "execution_count": 7,
   "metadata": {},
   "outputs": [],
   "source": [
    "def sigmoid(z):\n",
    "    import numpy as np\n",
    "    sigm = 1/(1+np.exp(-z))\n",
    "    return sigm\n",
    "\n",
    "def loss(h, y):\n",
    "    import numpy as np\n",
    "    loss = (-y * np.log(h) - (1 - y) * np.log(1 - h)).mean()\n",
    "    return loss"
   ]
  },
  {
   "cell_type": "code",
   "execution_count": 11,
   "metadata": {
    "scrolled": true
   },
   "outputs": [
    {
     "name": "stdout",
     "output_type": "stream",
     "text": [
      "Iteration: 0 -- Loss: 0.7086306520485129\n",
      "Iteration: 10000 -- Loss: 0.6414967989624071\n",
      "Iteration: 20000 -- Loss: 0.6213154766701036\n",
      "Iteration: 30000 -- Loss: 0.6078387317336558\n",
      "Iteration: 40000 -- Loss: 0.5988797234726271\n",
      "Iteration: 50000 -- Loss: 0.5924025454138977\n",
      "Iteration: 60000 -- Loss: 0.5873988791390821\n",
      "Iteration: 70000 -- Loss: 0.5833291791297012\n",
      "Iteration: 80000 -- Loss: 0.5798837871943052\n",
      "Iteration: 90000 -- Loss: 0.5769712986346388\n",
      "Iteration: 100000 -- Loss: 0.5744205219438281\n",
      "Iteration: 110000 -- Loss: 0.5720425335728586\n",
      "Iteration: 120000 -- Loss: 0.5697931489802134\n",
      "Iteration: 130000 -- Loss: 0.5676423544842889\n",
      "Iteration: 140000 -- Loss: 0.5655693150427613\n",
      "Iteration: 150000 -- Loss: 0.5635592745910959\n",
      "Iteration: 160000 -- Loss: 0.5616015820605383\n",
      "Iteration: 170000 -- Loss: 0.5596884061399013\n",
      "Iteration: 180000 -- Loss: 0.5578138834588463\n",
      "Iteration: 190000 -- Loss: 0.5562038208165302\n",
      "Iteration: 200000 -- Loss: 0.5545293164942469\n",
      "Iteration: 210000 -- Loss: 0.5528880833095143\n",
      "Iteration: 220000 -- Loss: 0.5512763196443291\n",
      "Iteration: 230000 -- Loss: 0.5496910629948871\n",
      "Iteration: 240000 -- Loss: 0.5481298691167242\n",
      "Iteration: 250000 -- Loss: 0.5465906948046297\n",
      "Iteration: 260000 -- Loss: 0.5450718123926475\n",
      "Iteration: 270000 -- Loss: 0.5435717457829491\n",
      "Iteration: 280000 -- Loss: 0.5420892219202809\n",
      "Iteration: 290000 -- Loss: 0.5406231335361146\n",
      "Iteration: 300000 -- Loss: 0.539172510223802\n",
      "Iteration: 310000 -- Loss: 0.5377364957390363\n",
      "Iteration: 320000 -- Loss: 0.536314329996741\n",
      "Iteration: 330000 -- Loss: 0.5349053346430119\n",
      "Iteration: 340000 -- Loss: 0.5335089013725778\n",
      "Iteration: 350000 -- Loss: 0.5321244823736182\n",
      "Iteration: 360000 -- Loss: 0.5307515824358748\n",
      "Iteration: 370000 -- Loss: 0.5293897523713195\n",
      "Iteration: 380000 -- Loss: 0.5280385834802639\n",
      "Iteration: 390000 -- Loss: 0.5266977028580527\n",
      "Iteration: 400000 -- Loss: 0.5253667693839263\n",
      "Iteration: 410000 -- Loss: 0.5240454702686148\n",
      "Iteration: 420000 -- Loss: 0.5227335180636504\n",
      "Iteration: 430000 -- Loss: 0.5214306480554914\n",
      "Iteration: 440000 -- Loss: 0.520136615982955\n",
      "Iteration: 450000 -- Loss: 0.5188511960284137\n",
      "Iteration: 460000 -- Loss: 0.5175741790423655\n",
      "Iteration: 470000 -- Loss: 0.5163053709682881\n",
      "Iteration: 480000 -- Loss: 0.5150445914404447\n",
      "Iteration: 490000 -- Loss: 0.5137916725317683\n",
      "Iteration: 500000 -- Loss: 0.5125464576327146\n",
      "Iteration: 510000 -- Loss: 0.5113088004448398\n",
      "Iteration: 520000 -- Loss: 0.5100785640753683\n",
      "Iteration: 530000 -- Loss: 0.5088556202209046\n",
      "Iteration: 540000 -- Loss: 0.507639848430175\n",
      "Iteration: 550000 -- Loss: 0.5064311354369835\n",
      "Iteration: 560000 -- Loss: 0.5052293745557849\n",
      "Iteration: 570000 -- Loss: 0.5040344651331686\n",
      "Iteration: 580000 -- Loss: 0.5028463120494661\n",
      "Iteration: 590000 -- Loss: 0.5016648252653362\n",
      "Iteration: 600000 -- Loss: 0.5004899194087895\n",
      "Iteration: 610000 -- Loss: 0.49932151339869263\n",
      "Iteration: 620000 -- Loss: 0.4981595301011522\n",
      "Iteration: 630000 -- Loss: 0.49700389601568346\n",
      "Iteration: 640000 -- Loss: 0.49585454098830456\n",
      "Iteration: 650000 -- Loss: 0.49471139794906716\n",
      "Iteration: 660000 -- Loss: 0.4935744026717823\n",
      "Iteration: 670000 -- Loss: 0.49244349355390243\n",
      "Iteration: 680000 -- Loss: 0.4913186114147695\n",
      "Iteration: 690000 -- Loss: 0.49019969931059454\n",
      "Iteration: 700000 -- Loss: 0.4890867023646858\n",
      "Iteration: 710000 -- Loss: 0.48797956761160477\n",
      "Iteration: 720000 -- Loss: 0.4868782438540751\n",
      "Iteration: 730000 -- Loss: 0.48578268153148585\n",
      "Iteration: 740000 -- Loss: 0.48469283259911966\n",
      "Iteration: 750000 -- Loss: 0.4836086504170638\n",
      "Iteration: 760000 -- Loss: 0.482530089648132\n",
      "Iteration: 770000 -- Loss: 0.4814571061639438\n",
      "Iteration: 780000 -- Loss: 0.48038965695857067\n",
      "Iteration: 790000 -- Loss: 0.4793277000690694\n",
      "Iteration: 800000 -- Loss: 0.478271194502373\n",
      "Iteration: 810000 -- Loss: 0.47722010016802513\n",
      "Iteration: 820000 -- Loss: 0.4761743778162835\n",
      "Iteration: 830000 -- Loss: 0.47513398898114406\n",
      "Iteration: 840000 -- Loss: 0.474098895927915\n",
      "Iteration: 850000 -- Loss: 0.4730690616049947\n",
      "Iteration: 860000 -- Loss: 0.472044449599447\n",
      "Iteration: 870000 -- Loss: 0.4710250240961777\n",
      "Iteration: 880000 -- Loss: 0.4700107498403306\n",
      "Iteration: 890000 -- Loss: 0.46900159210272185\n",
      "Iteration: 900000 -- Loss: 0.46799751664802175\n",
      "Iteration: 910000 -- Loss: 0.4669984897055166\n",
      "Iteration: 920000 -- Loss: 0.46600447794218497\n",
      "Iteration: 930000 -- Loss: 0.46501544843798537\n",
      "Iteration: 940000 -- Loss: 0.46403136866311917\n",
      "Iteration: 950000 -- Loss: 0.4630522064571219\n",
      "Iteration: 960000 -- Loss: 0.46207793000969016\n",
      "Iteration: 970000 -- Loss: 0.4611085078430417\n",
      "Iteration: 980000 -- Loss: 0.4601439087957239\n",
      "Iteration: 990000 -- Loss: 0.45918410200775567\n"
     ]
    }
   ],
   "source": [
    "# Inicialize weights\n",
    "theta = np.zeros(X_train.shape[1])\n",
    "\n",
    "# Learning rate\n",
    "lr = 0.005\n",
    "\n",
    "# Threshold\n",
    "threshold = 0.5\n",
    "\n",
    "# Number of iterations\n",
    "iterations = 1000000\n",
    "\n",
    "# Training loop\n",
    "for i in range(iterations):\n",
    "    \n",
    "    # Input x Weights\n",
    "    z = np.dot(X_train, theta)\n",
    "    \n",
    "    # Sigmoid\n",
    "    h = sigmoid(z)\n",
    "\n",
    "    # Gradient descent\n",
    "    gradient = np.dot(X_train.transpose(), h-y_train)/y_train.size\n",
    "    theta = theta - lr * gradient\n",
    "    \n",
    "    # Print info\n",
    "    if(i%10000 == 0):\n",
    "        h = sigmoid(np.dot(X_train, theta))\n",
    "        ls = loss(h, y_train)\n",
    "        print('Iteration: {} -- Loss: {}'. format(i, ls))\n",
    "        "
   ]
  },
  {
   "cell_type": "markdown",
   "metadata": {},
   "source": [
    "### Test model"
   ]
  },
  {
   "cell_type": "code",
   "execution_count": 13,
   "metadata": {},
   "outputs": [],
   "source": [
    "# Add 1's collumn\n",
    "ones = np.ones((X_test.shape[0], 1))\n",
    "X1 = np.concatenate((ones, X_test), axis=1)\n",
    "\n",
    "# Predict probability\n",
    "prob = sigmoid(np.dot(X_test, theta))\n",
    "y_pred = prob >= threshold"
   ]
  },
  {
   "cell_type": "markdown",
   "metadata": {},
   "source": [
    "### Metrics"
   ]
  },
  {
   "cell_type": "code",
   "execution_count": 24,
   "metadata": {
    "scrolled": true
   },
   "outputs": [
    {
     "name": "stdout",
     "output_type": "stream",
     "text": [
      "Accuracy: 0.8643533123028391\n",
      "F1 Score: 0.873900293255132\n"
     ]
    },
    {
     "data": {
      "image/png": "[encoded data removed]",
      "text/plain": [
       "<Figure size 432x288 with 1 Axes>"
      ]
     },
     "metadata": {
      "needs_background": "light"
     },
     "output_type": "display_data"
    }
   ],
   "source": [
    "# Accuracy\n",
    "print('Accuracy: {}'.format((y_pred == y_test).mean()))\n",
    "\n",
    "# F1 Score\n",
    "print('F1 Score: {}'.format(f1_score(y_test, y_pred, average='binary')))\n",
    "\n",
    "# ROC\n",
    "fpr, tpr, _ = roc_curve(y_test, y_pred)\n",
    "roc_auc = auc(fpr, tpr)\n",
    "\n",
    "plt.figure()\n",
    "plt.plot(fpr, tpr, color='darkorange',\n",
    "         label='ROC curve (area = %0.2f)' % roc_auc)\n",
    "plt.plot([0, 1], [0, 1], color='navy', linestyle='--')\n",
    "plt.xlim([0.0, 1.0])\n",
    "plt.ylim([0.0, 1.0])\n",
    "plt.xlabel('False Positive Rate')\n",
    "plt.ylabel('True Positive Rate')\n",
    "plt.title('ROC Curve')\n",
    "plt.legend(loc=\"lower right\")\n",
    "plt.show()"
   ]
  },
  {
   "cell_type": "markdown",
   "metadata": {},
   "source": [
    "### Choosing threshold"
   ]
  },
  {
   "cell_type": "code",
   "execution_count": 53,
   "metadata": {},
   "outputs": [
    {
     "name": "stdout",
     "output_type": "stream",
     "text": [
      "Highest Accuracy: 0.8659 - Threshold: 0.45\n",
      "Highest F1 Score: 0.8798 - Threshold: 0.40\n",
      "Largest ROC Area: 0.8630 - Threshold: 0.50\n"
     ]
    },
    {
     "data": {
      "image/png": "[encoded data removed]",
      "text/plain": [
       "<Figure size 864x720 with 1 Axes>"
      ]
     },
     "metadata": {
      "needs_background": "light"
     },
     "output_type": "display_data"
    }
   ],
   "source": [
    "thresholds = np.linspace(0.05,0.95,19)\n",
    "acc = []\n",
    "f1s = []\n",
    "roc = []\n",
    "\n",
    "for th in thresholds:\n",
    "    y_pred = prob >= th\n",
    "    \n",
    "    # Title\n",
    "    #print('Threshold: {}'.format(th))\n",
    "    \n",
    "    # Accuracy\n",
    "    #print('Accuracy: {}'.format((y_pred == y_test).mean()))\n",
    "\n",
    "    # F1 Score\n",
    "    #print('F1 Score: {}'.format(f1_score(y_test, y_pred, average='binary')))\n",
    "\n",
    "    # ROC\n",
    "    fpr, tpr, _ = roc_curve(y_test, y_pred)\n",
    "    roc_auc = auc(fpr, tpr)\n",
    "    #print('ROC Area: {}'.format(roc_auc))\n",
    "    \n",
    "    #print('---------------------------------------')\n",
    "    \n",
    "    '''\n",
    "    plt.figure()\n",
    "    plt.plot(fpr, tpr, color='darkorange',\n",
    "             label='ROC curve (area = %0.2f)' % roc_auc)\n",
    "    plt.plot([0, 1], [0, 1], color='navy', linestyle='--')\n",
    "    plt.xlim([0.0, 1.0])\n",
    "    plt.ylim([0.0, 1.0])\n",
    "    plt.xlabel('False Positive Rate')\n",
    "    plt.ylabel('True Positive Rate')\n",
    "    plt.title('ROC Curve')\n",
    "    plt.legend(loc=\"lower right\")\n",
    "    plt.show()    \n",
    "    '''\n",
    "    \n",
    "    acc.append((y_pred == y_test).mean())\n",
    "    f1s.append(f1_score(y_test, y_pred, average='binary'))\n",
    "    roc.append(roc_auc)\n",
    "    \n",
    "print('Highest Accuracy: {0:.4f} - Threshold: {1:.2f}'.format(np.max(acc), thresholds[acc.index(np.max(acc))]))\n",
    "print('Highest F1 Score: {0:.4f} - Threshold: {1:.2f}'.format(np.max(f1s), thresholds[f1s.index(np.max(f1s))]))\n",
    "print('Largest ROC Area: {0:.4f} - Threshold: {1:.2f}'.format(np.max(roc), thresholds[roc.index(np.max(roc))]))\n",
    "    \n",
    "plt.figure(figsize = (12,10))\n",
    "plt.plot(thresholds, acc, label='Accuracy')\n",
    "plt.plot(thresholds, f1s, label='F1 Score')\n",
    "plt.plot(thresholds, roc, label='ROC Area')\n",
    "plt.legend()\n",
    "plt.show()"
   ]
  },
  {
   "cell_type": "markdown",
   "metadata": {},
   "source": [
    "### Confusion matrix\n",
    "Using the chosen threshold"
   ]
  },
  {
   "cell_type": "code",
   "execution_count": 67,
   "metadata": {},
   "outputs": [
    {
     "name": "stdout",
     "output_type": "stream",
     "text": [
      "Accuracy for threshold 0.50: 0.8644\n"
     ]
    },
    {
     "data": {
      "image/png": "[encoded data removed]",
      "text/plain": [
       "<Figure size 432x288 with 2 Axes>"
      ]
     },
     "metadata": {
      "needs_background": "light"
     },
     "output_type": "display_data"
    },
    {
     "data": {
      "image/png": "[encoded data removed]",
      "text/plain": [
       "<Figure size 432x288 with 2 Axes>"
      ]
     },
     "metadata": {
      "needs_background": "light"
     },
     "output_type": "display_data"
    }
   ],
   "source": [
    "# Most adequate threshold (largest roc area?)\n",
    "th = 0.5\n",
    "y_pred = prob >= th\n",
    "\n",
    "# Accuracy\n",
    "print('Accuracy for threshold {0:.2f}: {1:.4f}'.format(th, (y_pred == y_test).mean()))\n",
    "\n",
    "# Confusion matrix\n",
    "normalize = False\n",
    "cm = confusion_matrix(y_test, y_pred)\n",
    "cmap = plt.cm.Blues\n",
    "classes = ['0', '1']\n",
    "\n",
    "for normalize in [False, True]:\n",
    "\n",
    "    # Normalization\n",
    "    if normalize:\n",
    "        cm = cm.astype('float') / cm.sum(axis=1)[:, np.newaxis]\n",
    "        title = 'Normalized confusion matrix'\n",
    "    else:\n",
    "        title = 'Confusion matrix, without normalization'\n",
    "\n",
    "    fig, ax = plt.subplots()\n",
    "    im = ax.imshow(cm, interpolation='nearest', cmap=cmap)\n",
    "    ax.figure.colorbar(im, ax=ax)\n",
    "    ax.set(xticks=np.arange(cm.shape[1]),\n",
    "           yticks=np.arange(cm.shape[0]),\n",
    "           xticklabels=classes, yticklabels=classes,\n",
    "           title=title,\n",
    "           ylabel='True label',\n",
    "           xlabel='Predicted label')\n",
    "\n",
    "    # Rotate the tick labels and set their alignment.\n",
    "    plt.setp(ax.get_xticklabels(), rotation=45, ha=\"right\",\n",
    "             rotation_mode=\"anchor\")\n",
    "\n",
    "    # Loop over data dimensions and create text annotations.\n",
    "    fmt = '.2f' if normalize else 'd'\n",
    "    thresh = cm.max() / 2.\n",
    "    for i in range(cm.shape[0]):\n",
    "        for j in range(cm.shape[1]):\n",
    "            ax.text(j, i, format(cm[i, j], fmt),\n",
    "                    ha=\"center\", va=\"center\",\n",
    "                    color=\"white\" if cm[i, j] > thresh else \"black\")\n",
    "    fig.tight_layout()\n",
    "    plt.show()\n"
   ]
  }
 ],
 "metadata": {
  "kernelspec": {
   "display_name": "Python 3",
   "language": "python",
   "name": "python3"
  },
  "language_info": {
   "codemirror_mode": {
    "name": "ipython",
    "version": 3
   },
   "file_extension": ".py",
   "mimetype": "text/x-python",
   "name": "python",
   "nbconvert_exporter": "python",
   "pygments_lexer": "ipython3",
   "version": "3.7.3"
  }
 },
 "nbformat": 4,
 "nbformat_minor": 2
}
