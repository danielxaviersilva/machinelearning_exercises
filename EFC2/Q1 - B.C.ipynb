{
 "cells": [
  {
   "cell_type": "code",
   "execution_count": 2,
   "metadata": {},
   "outputs": [],
   "source": [
    "from matplotlib import pyplot as plt\n",
    "import numpy as np\n",
    "import csv\n",
    "import math\n",
    "import pandas as pd\n",
    "import seaborn as sns\n",
    "\n",
    "from sklearn.model_selection import train_test_split\n",
    "from sklearn.metrics import f1_score, roc_curve, auc, confusion_matrix"
   ]
  },
  {
   "cell_type": "markdown",
   "metadata": {},
   "source": [
    "### Read data"
   ]
  },
  {
   "cell_type": "code",
   "execution_count": 3,
   "metadata": {},
   "outputs": [
    {
     "data": {
      "text/html": [
       "<div>\n",
       "<style scoped>\n",
       "    .dataframe tbody tr th:only-of-type {\n",
       "        vertical-align: middle;\n",
       "    }\n",
       "\n",
       "    .dataframe tbody tr th {\n",
       "        vertical-align: top;\n",
       "    }\n",
       "\n",
       "    .dataframe thead th {\n",
       "        text-align: right;\n",
       "    }\n",
       "</style>\n",
       "<table border=\"1\" class=\"dataframe\">\n",
       "  <thead>\n",
       "    <tr style=\"text-align: right;\">\n",
       "      <th></th>\n",
       "      <th>sd</th>\n",
       "      <th>median</th>\n",
       "      <th>Q25</th>\n",
       "      <th>Q75</th>\n",
       "      <th>IQR</th>\n",
       "      <th>skew</th>\n",
       "      <th>kurt</th>\n",
       "      <th>sp.ent</th>\n",
       "      <th>sfm</th>\n",
       "      <th>mode</th>\n",
       "      <th>centroid</th>\n",
       "      <th>meanfun</th>\n",
       "      <th>minfun</th>\n",
       "      <th>maxfun</th>\n",
       "      <th>meandom</th>\n",
       "      <th>mindom</th>\n",
       "      <th>maxdom</th>\n",
       "      <th>dfrange</th>\n",
       "      <th>modindx</th>\n",
       "      <th>label</th>\n",
       "    </tr>\n",
       "  </thead>\n",
       "  <tbody>\n",
       "    <tr>\n",
       "      <th>36</th>\n",
       "      <td>0.067220</td>\n",
       "      <td>0.157240</td>\n",
       "      <td>0.136022</td>\n",
       "      <td>0.209526</td>\n",
       "      <td>0.073505</td>\n",
       "      <td>1.936065</td>\n",
       "      <td>6.334626</td>\n",
       "      <td>0.903982</td>\n",
       "      <td>0.482886</td>\n",
       "      <td>0.134506</td>\n",
       "      <td>0.167648</td>\n",
       "      <td>0.142748</td>\n",
       "      <td>0.016615</td>\n",
       "      <td>0.262295</td>\n",
       "      <td>0.239583</td>\n",
       "      <td>0.007812</td>\n",
       "      <td>0.601562</td>\n",
       "      <td>0.593750</td>\n",
       "      <td>0.347588</td>\n",
       "      <td>1.0</td>\n",
       "    </tr>\n",
       "    <tr>\n",
       "      <th>461</th>\n",
       "      <td>0.067387</td>\n",
       "      <td>0.114681</td>\n",
       "      <td>0.078564</td>\n",
       "      <td>0.191569</td>\n",
       "      <td>0.113005</td>\n",
       "      <td>1.687865</td>\n",
       "      <td>7.070532</td>\n",
       "      <td>0.963008</td>\n",
       "      <td>0.727981</td>\n",
       "      <td>0.104069</td>\n",
       "      <td>0.129028</td>\n",
       "      <td>0.106148</td>\n",
       "      <td>0.017998</td>\n",
       "      <td>0.275862</td>\n",
       "      <td>0.104083</td>\n",
       "      <td>0.007812</td>\n",
       "      <td>0.250000</td>\n",
       "      <td>0.242188</td>\n",
       "      <td>0.114839</td>\n",
       "      <td>1.0</td>\n",
       "    </tr>\n",
       "    <tr>\n",
       "      <th>919</th>\n",
       "      <td>0.062510</td>\n",
       "      <td>0.217990</td>\n",
       "      <td>0.130221</td>\n",
       "      <td>0.247087</td>\n",
       "      <td>0.116865</td>\n",
       "      <td>2.000917</td>\n",
       "      <td>7.600014</td>\n",
       "      <td>0.899887</td>\n",
       "      <td>0.400099</td>\n",
       "      <td>0.245656</td>\n",
       "      <td>0.192300</td>\n",
       "      <td>0.134046</td>\n",
       "      <td>0.050104</td>\n",
       "      <td>0.279070</td>\n",
       "      <td>0.514453</td>\n",
       "      <td>0.023438</td>\n",
       "      <td>2.578125</td>\n",
       "      <td>2.554688</td>\n",
       "      <td>0.073649</td>\n",
       "      <td>1.0</td>\n",
       "    </tr>\n",
       "    <tr>\n",
       "      <th>160</th>\n",
       "      <td>0.068045</td>\n",
       "      <td>0.177171</td>\n",
       "      <td>0.099981</td>\n",
       "      <td>0.217190</td>\n",
       "      <td>0.117209</td>\n",
       "      <td>21.579705</td>\n",
       "      <td>598.392640</td>\n",
       "      <td>0.926462</td>\n",
       "      <td>0.534102</td>\n",
       "      <td>0.060097</td>\n",
       "      <td>0.163180</td>\n",
       "      <td>0.071791</td>\n",
       "      <td>0.016377</td>\n",
       "      <td>0.258065</td>\n",
       "      <td>0.090461</td>\n",
       "      <td>0.070312</td>\n",
       "      <td>0.695312</td>\n",
       "      <td>0.625000</td>\n",
       "      <td>0.054911</td>\n",
       "      <td>1.0</td>\n",
       "    </tr>\n",
       "    <tr>\n",
       "      <th>1524</th>\n",
       "      <td>0.069933</td>\n",
       "      <td>0.140259</td>\n",
       "      <td>0.107918</td>\n",
       "      <td>0.219123</td>\n",
       "      <td>0.111204</td>\n",
       "      <td>5.448489</td>\n",
       "      <td>58.052852</td>\n",
       "      <td>0.887048</td>\n",
       "      <td>0.463191</td>\n",
       "      <td>0.000000</td>\n",
       "      <td>0.155083</td>\n",
       "      <td>0.109726</td>\n",
       "      <td>0.015936</td>\n",
       "      <td>0.271186</td>\n",
       "      <td>0.090732</td>\n",
       "      <td>0.007812</td>\n",
       "      <td>0.632812</td>\n",
       "      <td>0.625000</td>\n",
       "      <td>0.132738</td>\n",
       "      <td>1.0</td>\n",
       "    </tr>\n",
       "  </tbody>\n",
       "</table>\n",
       "</div>"
      ],
      "text/plain": [
       "            sd    median       Q25       Q75       IQR       skew        kurt  \\\n",
       "36    0.067220  0.157240  0.136022  0.209526  0.073505   1.936065    6.334626   \n",
       "461   0.067387  0.114681  0.078564  0.191569  0.113005   1.687865    7.070532   \n",
       "919   0.062510  0.217990  0.130221  0.247087  0.116865   2.000917    7.600014   \n",
       "160   0.068045  0.177171  0.099981  0.217190  0.117209  21.579705  598.392640   \n",
       "1524  0.069933  0.140259  0.107918  0.219123  0.111204   5.448489   58.052852   \n",
       "\n",
       "        sp.ent       sfm      mode  centroid   meanfun    minfun    maxfun  \\\n",
       "36    0.903982  0.482886  0.134506  0.167648  0.142748  0.016615  0.262295   \n",
       "461   0.963008  0.727981  0.104069  0.129028  0.106148  0.017998  0.275862   \n",
       "919   0.899887  0.400099  0.245656  0.192300  0.134046  0.050104  0.279070   \n",
       "160   0.926462  0.534102  0.060097  0.163180  0.071791  0.016377  0.258065   \n",
       "1524  0.887048  0.463191  0.000000  0.155083  0.109726  0.015936  0.271186   \n",
       "\n",
       "       meandom    mindom    maxdom   dfrange   modindx  label  \n",
       "36    0.239583  0.007812  0.601562  0.593750  0.347588    1.0  \n",
       "461   0.104083  0.007812  0.250000  0.242188  0.114839    1.0  \n",
       "919   0.514453  0.023438  2.578125  2.554688  0.073649    1.0  \n",
       "160   0.090461  0.070312  0.695312  0.625000  0.054911    1.0  \n",
       "1524  0.090732  0.007812  0.632812  0.625000  0.132738    1.0  "
      ]
     },
     "execution_count": 3,
     "metadata": {},
     "output_type": "execute_result"
    }
   ],
   "source": [
    "data = pd.read_csv('dados_voz_genero.csv', delimiter = ',')\n",
    "data = data.drop(\"Unnamed: 0\", axis=1)\n",
    "names = list(data.keys())\n",
    "data.sample(5)"
   ]
  },
  {
   "cell_type": "markdown",
   "metadata": {},
   "source": [
    "### Check balance"
   ]
  },
  {
   "cell_type": "code",
   "execution_count": 4,
   "metadata": {},
   "outputs": [
    {
     "data": {
      "image/png": "[encoded data removed]",
      "text/plain": [
       "<Figure size 432x288 with 1 Axes>"
      ]
     },
     "metadata": {
      "needs_background": "light"
     },
     "output_type": "display_data"
    }
   ],
   "source": [
    "sns.countplot(x='label', data=data)\n",
    "plt.show()"
   ]
  },
  {
   "cell_type": "markdown",
   "metadata": {},
   "source": [
    "Data is balanced"
   ]
  },
  {
   "cell_type": "markdown",
   "metadata": {},
   "source": [
    "### Prepare data"
   ]
  },
  {
   "cell_type": "code",
   "execution_count": 5,
   "metadata": {},
   "outputs": [],
   "source": [
    "def sigmoid(z):\n",
    "    import numpy as np\n",
    "    sigm = 1/(1+np.exp(-z))\n",
    "    return sigm\n",
    "\n",
    "def loss(h, y):\n",
    "    import numpy as np\n",
    "    loss = (-y * np.log(h) - (1 - y) * np.log(1 - h)).mean()\n",
    "    return loss\n",
    "\n",
    "def normalize(x, interval):\n",
    "    import numpy as np\n",
    "    x1 = np.array(x)\n",
    "    x_normalized =  interval[0] + (x1 - min(x))*(interval[1] - interval[0])/(max(x) - min(x))\n",
    "    return x_normalized"
   ]
  },
  {
   "cell_type": "code",
   "execution_count": 6,
   "metadata": {},
   "outputs": [],
   "source": [
    "# Divide X and y\n",
    "names = list(data.keys())\n",
    "\n",
    "X = data.copy()\n",
    "left_ones = np.ones(data.shape[0])\n",
    "X['ones'] = left_ones\n",
    "X = X.drop(columns = 'label')\n",
    "\n",
    "cols = list(X.columns)\n",
    "cols = [cols[-1]] + cols[:-1]\n",
    "X = X[cols]\n",
    "\n",
    "for i in range(1,X.shape[1] -1):\n",
    "    X.iloc[:,i] = normalize(X.iloc[:,i], [-1,1])\n",
    "    \n",
    "y = data['label']\n",
    "\n",
    "# Train-test split\n",
    "X_train, X_test, y_train, y_test = train_test_split(X, y, test_size=0.2, random_state=42)"
   ]
  },
  {
   "cell_type": "markdown",
   "metadata": {},
   "source": [
    "### Make and train model"
   ]
  },
  {
   "cell_type": "code",
   "execution_count": 7,
   "metadata": {
    "scrolled": true
   },
   "outputs": [
    {
     "name": "stdout",
     "output_type": "stream",
     "text": [
      "Iteration: 0 -- Training Loss: 0.657626604786613 -- Validation Loss: 0.6581660706947473\n",
      "Amount of iterations after the current minimum loss function on the validation set: 0\n",
      "Iteration: 1000 -- Training Loss: 0.09798519552965321 -- Validation Loss: 0.14261718167306722\n",
      "Amount of iterations after the current minimum loss function on the validation set: 0\n",
      "Iteration: 2000 -- Training Loss: 0.08529403819831514 -- Validation Loss: 0.14017056567740435\n",
      "Amount of iterations after the current minimum loss function on the validation set: 254\n",
      "Iteration: 3000 -- Training Loss: 0.08110367708933437 -- Validation Loss: 0.14179692041470587\n",
      "Amount of iterations after the current minimum loss function on the validation set: 1254\n",
      "Iteration: 4000 -- Training Loss: 0.07912285902525454 -- Validation Loss: 0.14379501054839117\n",
      "Amount of iterations after the current minimum loss function on the validation set: 2254\n",
      "Iteration: 5000 -- Training Loss: 0.07801527374949764 -- Validation Loss: 0.14565512405728667\n",
      "Amount of iterations after the current minimum loss function on the validation set: 3254\n",
      "Iteration: 6000 -- Training Loss: 0.07732950989479388 -- Validation Loss: 0.14729611169045914\n",
      "Amount of iterations after the current minimum loss function on the validation set: 4254\n",
      "Iteration: 7000 -- Training Loss: 0.07687377352289497 -- Validation Loss: 0.148724379148143\n",
      "Amount of iterations after the current minimum loss function on the validation set: 5254\n",
      "Iteration: 8000 -- Training Loss: 0.0765543021887568 -- Validation Loss: 0.14996499554868134\n",
      "Amount of iterations after the current minimum loss function on the validation set: 6254\n",
      "Iteration: 9000 -- Training Loss: 0.07632065538134167 -- Validation Loss: 0.15104464524804864\n",
      "Amount of iterations after the current minimum loss function on the validation set: 7254\n",
      "Iteration: 10000 -- Training Loss: 0.07614373109276239 -- Validation Loss: 0.15198730246310538\n",
      "Amount of iterations after the current minimum loss function on the validation set: 8254\n",
      "Iteration: 11000 -- Training Loss: 0.07600580952532156 -- Validation Loss: 0.15281344744758898\n",
      "Amount of iterations after the current minimum loss function on the validation set: 9254\n",
      "Iteration: 11746 -- Training Loss: 0.07592144326573069 -- Validation Loss: 0.15336424139451255\n"
     ]
    }
   ],
   "source": [
    "# Inicialize weights\n",
    "VAL_PROPORTION = 0.25\n",
    "theta = np.zeros(X_train.shape[1])\n",
    "\n",
    "ls_training = []\n",
    "ls_val = []\n",
    "\n",
    "# Learning rate\n",
    "lr = 0.5\n",
    "\n",
    "# Threshold\n",
    "threshold = 0.5\n",
    "\n",
    "# Number of iterations\n",
    "iterations = 100000\n",
    "\n",
    "#Number of additional iterations after a minimum on validation set\n",
    "MAX_IT_AFTER_MIN = 10000\n",
    "it_after_min = 0\n",
    "min_cost_val = 2**10 #high number\n",
    "\n",
    "# Training loop\n",
    "X_training, X_val, y_training, y_val = train_test_split(X_train, y_train, test_size=VAL_PROPORTION, random_state=42)\n",
    "\n",
    "\n",
    "for i in range(iterations):\n",
    "    it_after_min = it_after_min + 1   \n",
    "    \n",
    "    # Input x Weights\n",
    "    z = np.dot(X_training, theta)    \n",
    "    # Sigmoid\n",
    "    h_training = sigmoid(z)\n",
    "    # Gradient descent\n",
    "    gradient = np.dot(X_training.transpose() , h_training - y_training)/y_training.size\n",
    "    theta = theta - lr * gradient\n",
    "    \n",
    "    h_training = sigmoid(np.dot(X_training, theta))\n",
    "    ls_training.append(loss(h_training, y_training))\n",
    "\n",
    "    h_val = sigmoid(np.dot(X_val, theta))\n",
    "    ls_val.append(loss(h_val, y_val))\n",
    "    \n",
    "    if ls_val[-1] < min_cost_val:\n",
    "        it_after_min = 0\n",
    "        opt_theta = theta\n",
    "        min_cost_val = ls_val[-1]\n",
    "        best_it_idx = i\n",
    "        \n",
    "    if it_after_min == MAX_IT_AFTER_MIN:\n",
    "        print('Iteration: {} -- Training Loss: {} -- Validation Loss: {}'. format(i, ls_training[-1], ls_val[-1]))\n",
    "        break        \n",
    "    \n",
    "    # Print info\n",
    "    if(i%1000 == 0):        \n",
    "        print('Iteration: {} -- Training Loss: {} -- Validation Loss: {}'. format(i, ls_training[-1], ls_val[-1]))\n",
    "        print('Amount of iterations after the current minimum loss function on the validation set: {}'.format(it_after_min))\n",
    "theta = opt_theta\n",
    "        \n",
    "        "
   ]
  },
  {
   "cell_type": "code",
   "execution_count": 20,
   "metadata": {},
   "outputs": [
    {
     "data": {
      "image/png": "[encoded data removed]",
      "text/plain": [
       "<Figure size 432x288 with 1 Axes>"
      ]
     },
     "metadata": {
      "needs_background": "light"
     },
     "output_type": "display_data"
    }
   ],
   "source": [
    "plt.plot(ls_val, color = 'red', label=\"Cost Function - Validation\")\n",
    "plt.plot(ls_training, color = 'blue', label =\"Cost Function - Training\")\n",
    "plt.axvline(x=best_it_idx)\n",
    "plt.ylim(0, 0.175)\n",
    "plt.xlabel('Iterations')\n",
    "plt.ylabel('Cost function')\n",
    "plt.legend()\n",
    "plt.show()"
   ]
  },
  {
   "cell_type": "markdown",
   "metadata": {},
   "source": [
    "### Test model"
   ]
  },
  {
   "cell_type": "code",
   "execution_count": 11,
   "metadata": {},
   "outputs": [
    {
     "data": {
      "text/plain": [
       "array([False,  True,  True, False, False, False,  True,  True, False,\n",
       "        True, False, False, False, False, False, False, False, False,\n",
       "       False,  True,  True, False,  True, False,  True, False,  True,\n",
       "        True,  True,  True,  True, False, False,  True,  True, False,\n",
       "        True,  True,  True,  True, False,  True,  True, False, False,\n",
       "        True,  True, False,  True,  True, False,  True, False, False,\n",
       "       False,  True, False,  True,  True, False,  True, False,  True,\n",
       "       False,  True, False, False,  True, False,  True, False, False,\n",
       "       False,  True,  True, False,  True,  True, False, False, False,\n",
       "        True,  True,  True,  True,  True, False,  True, False,  True,\n",
       "       False, False, False,  True, False,  True,  True,  True, False,\n",
       "       False, False,  True, False, False,  True, False,  True,  True,\n",
       "       False, False, False, False,  True, False, False, False,  True,\n",
       "       False,  True,  True,  True, False,  True,  True,  True,  True,\n",
       "        True, False,  True,  True,  True,  True,  True,  True,  True,\n",
       "        True, False, False,  True, False,  True, False,  True,  True,\n",
       "        True, False, False, False, False,  True, False, False,  True,\n",
       "       False,  True,  True, False, False, False,  True,  True,  True,\n",
       "       False,  True,  True,  True,  True, False, False, False,  True,\n",
       "        True, False,  True,  True,  True,  True, False, False, False,\n",
       "       False,  True,  True,  True, False, False, False, False,  True,\n",
       "        True,  True,  True,  True, False,  True,  True, False,  True,\n",
       "       False,  True, False, False,  True,  True, False, False, False,\n",
       "        True,  True,  True,  True,  True,  True, False,  True, False,\n",
       "        True, False, False, False, False,  True, False, False, False,\n",
       "        True,  True,  True, False,  True,  True, False,  True, False,\n",
       "       False,  True,  True, False,  True, False,  True, False, False,\n",
       "        True,  True, False,  True, False,  True,  True,  True, False,\n",
       "       False,  True,  True, False, False, False,  True, False,  True,\n",
       "       False,  True,  True, False, False,  True,  True, False, False,\n",
       "       False, False, False,  True, False,  True, False, False, False,\n",
       "        True,  True,  True, False,  True, False,  True,  True,  True,\n",
       "       False, False,  True,  True, False,  True,  True, False,  True,\n",
       "       False, False, False,  True, False, False,  True,  True,  True,\n",
       "       False,  True, False,  True, False,  True, False, False, False,\n",
       "        True,  True,  True, False,  True,  True, False,  True, False,\n",
       "       False, False,  True, False,  True,  True, False, False, False,\n",
       "        True, False, False,  True,  True,  True,  True,  True, False,\n",
       "        True, False, False, False, False, False,  True,  True,  True,\n",
       "        True,  True, False, False,  True, False, False,  True,  True,\n",
       "        True, False, False, False, False,  True,  True, False, False,\n",
       "        True,  True,  True, False, False,  True,  True,  True,  True,\n",
       "        True,  True, False, False, False,  True, False, False, False,\n",
       "       False, False,  True,  True, False, False,  True, False,  True,\n",
       "       False, False, False, False, False,  True,  True, False, False,\n",
       "        True,  True,  True, False, False, False,  True,  True, False,\n",
       "        True, False,  True,  True,  True, False, False, False,  True,\n",
       "        True,  True,  True, False,  True,  True, False, False, False,\n",
       "        True,  True, False, False,  True,  True, False,  True, False,\n",
       "        True,  True,  True,  True, False,  True,  True,  True,  True,\n",
       "       False,  True, False, False, False,  True, False, False, False,\n",
       "        True,  True, False,  True,  True,  True,  True,  True,  True,\n",
       "        True, False, False, False,  True,  True,  True, False,  True,\n",
       "       False, False, False,  True, False,  True,  True, False, False,\n",
       "        True,  True,  True, False,  True, False,  True,  True, False,\n",
       "       False,  True,  True,  True,  True, False, False,  True, False,\n",
       "        True, False, False, False,  True,  True,  True,  True, False,\n",
       "       False, False, False, False, False,  True,  True, False,  True,\n",
       "       False,  True, False, False,  True, False, False, False, False,\n",
       "       False, False, False,  True, False, False,  True,  True, False,\n",
       "        True, False,  True,  True, False,  True,  True, False,  True,\n",
       "        True,  True, False, False,  True, False, False,  True, False,\n",
       "       False, False,  True,  True, False,  True,  True,  True,  True,\n",
       "        True, False,  True, False,  True, False, False,  True, False,\n",
       "        True,  True, False,  True,  True,  True,  True, False,  True,\n",
       "        True,  True, False, False, False,  True,  True,  True, False,\n",
       "        True,  True,  True, False, False,  True,  True,  True,  True,\n",
       "        True,  True, False, False, False,  True, False,  True, False,\n",
       "        True,  True,  True,  True,  True,  True,  True,  True,  True,\n",
       "        True, False, False,  True,  True, False,  True,  True, False,\n",
       "        True,  True,  True, False])"
      ]
     },
     "execution_count": 11,
     "metadata": {},
     "output_type": "execute_result"
    }
   ],
   "source": [
    "# Predict probability\n",
    "prob = sigmoid(np.dot(X_test, theta))\n",
    "y_pred = prob >= threshold\n",
    "y_pred"
   ]
  },
  {
   "cell_type": "markdown",
   "metadata": {},
   "source": [
    "### Metrics"
   ]
  },
  {
   "cell_type": "code",
   "execution_count": 12,
   "metadata": {
    "scrolled": true
   },
   "outputs": [
    {
     "name": "stdout",
     "output_type": "stream",
     "text": [
      "Accuracy: 0.9810725552050473\n",
      "F1 Score: 0.982142857142857\n"
     ]
    },
    {
     "data": {
      "image/png": "[encoded data removed]",
      "text/plain": [
       "<Figure size 432x288 with 1 Axes>"
      ]
     },
     "metadata": {
      "needs_background": "light"
     },
     "output_type": "display_data"
    }
   ],
   "source": [
    "# Accuracy\n",
    "print('Accuracy: {}'.format((y_pred == y_test).mean()))\n",
    "\n",
    "# F1 Score\n",
    "print('F1 Score: {}'.format(f1_score(y_test, y_pred, average='binary')))\n",
    "\n",
    "# ROC\n",
    "fpr, tpr, _ = roc_curve(y_test, y_pred)\n",
    "roc_auc = auc(fpr, tpr)\n",
    "\n",
    "plt.figure()\n",
    "plt.plot(fpr, tpr, color='darkorange',\n",
    "         label='ROC curve (area = %0.2f)' % roc_auc)\n",
    "plt.plot([0, 1], [0, 1], color='navy', linestyle='--')\n",
    "plt.xlim([0.0, 1.0])\n",
    "plt.ylim([0.0, 1.0])\n",
    "plt.xlabel('False Positive Rate')\n",
    "plt.ylabel('True Positive Rate')\n",
    "plt.title('ROC Curve')\n",
    "plt.legend(loc=\"lower right\")\n",
    "plt.show()"
   ]
  },
  {
   "cell_type": "markdown",
   "metadata": {},
   "source": [
    "### Choosing threshold"
   ]
  },
  {
   "cell_type": "code",
   "execution_count": 33,
   "metadata": {},
   "outputs": [
    {
     "name": "stdout",
     "output_type": "stream",
     "text": [
      "Highest Accuracy: 0.9811 - Threshold: 0.50\n",
      "Highest F1 Score: 0.9821 - Threshold: 0.50\n",
      "Highest ROC Area: 0.9812 - Threshold: 0.50\n"
     ]
    },
    {
     "data": {
      "image/png": "[encoded data removed]",
      "text/plain": [
       "<Figure size 864x720 with 1 Axes>"
      ]
     },
     "metadata": {
      "needs_background": "light"
     },
     "output_type": "display_data"
    }
   ],
   "source": [
    "thresholds = np.linspace(0.05,0.95,19)\n",
    "acc = []\n",
    "f1s = []\n",
    "roc = []\n",
    "\n",
    "for th in thresholds:\n",
    "    y_pred = prob >= th\n",
    "    \n",
    "    # Title\n",
    "    #print('Threshold: {}'.format(th))\n",
    "    \n",
    "    # Accuracy\n",
    "    #print('Accuracy: {}'.format((y_pred == y_test).mean()))\n",
    "\n",
    "    # F1 Score\n",
    "    #print('F1 Score: {}'.format(f1_score(y_test, y_pred, average='binary')))\n",
    "\n",
    "    # ROC\n",
    "    fpr, tpr, _ = roc_curve(y_test, y_pred)\n",
    "    roc_auc = auc(fpr, tpr)\n",
    "    #print('ROC Area: {}'.format(roc_auc))\n",
    "    \n",
    "    #print('---------------------------------------')\n",
    "    \n",
    "    '''\n",
    "    plt.figure()\n",
    "    plt.plot(fpr, tpr, color='darkorange',\n",
    "             label='ROC curve (area = %0.2f)' % roc_auc)\n",
    "    plt.plot([0, 1], [0, 1], color='navy', linestyle='--')\n",
    "    plt.xlim([0.0, 1.0])\n",
    "    plt.ylim([0.0, 1.0])\n",
    "    plt.xlabel('False Positive Rate')\n",
    "    plt.ylabel('True Positive Rate')\n",
    "    plt.title('ROC Curve')\n",
    "    plt.legend(loc=\"lower right\")\n",
    "    plt.show()    \n",
    "    '''\n",
    "    \n",
    "    acc.append((y_pred == y_test).mean())\n",
    "    f1s.append(f1_score(y_test, y_pred, average='binary'))\n",
    "    roc.append(roc_auc)\n",
    "    \n",
    "print('Highest Accuracy: {0:.4f} - Threshold: {1:.2f}'.format(np.max(acc), thresholds[acc.index(np.max(acc))]))\n",
    "print('Highest F1 Score: {0:.4f} - Threshold: {1:.2f}'.format(np.max(f1s), thresholds[f1s.index(np.max(f1s))]))\n",
    "print('Highest ROC Area: {0:.4f} - Threshold: {1:.2f}'.format(np.max(roc), thresholds[roc.index(np.max(roc))]))\n",
    "    \n",
    "plt.figure(figsize = (12,10))\n",
    "plt.plot(thresholds, acc, label='Accuracy')\n",
    "plt.plot(thresholds, f1s, label='F1 Score')\n",
    "plt.plot(thresholds, roc, label='ROC Area')\n",
    "plt.xlabel('threshold')\n",
    "plt.legend()\n",
    "plt.show()"
   ]
  },
  {
   "cell_type": "code",
   "execution_count": 12,
   "metadata": {},
   "outputs": [
    {
     "name": "stdout",
     "output_type": "stream",
     "text": [
      "Accuracy for threshold 0.50: 0.9811\n"
     ]
    },
    {
     "data": {
      "image/png": "[encoded data removed]",
      "text/plain": [
       "<Figure size 432x288 with 2 Axes>"
      ]
     },
     "metadata": {
      "needs_background": "light"
     },
     "output_type": "display_data"
    },
    {
     "data": {
      "image/png": "[encoded data removed]",
      "text/plain": [
       "<Figure size 432x288 with 2 Axes>"
      ]
     },
     "metadata": {
      "needs_background": "light"
     },
     "output_type": "display_data"
    }
   ],
   "source": [
    "# Most adequate threshold (largest roc area?)\n",
    "th = 0.5\n",
    "y_pred = prob >= th\n",
    "\n",
    "# Accuracy\n",
    "print('Accuracy for threshold {0:.2f}: {1:.4f}'.format(th, (y_pred == y_test).mean()))\n",
    "\n",
    "# Confusion matrix\n",
    "normalize = False\n",
    "cm = confusion_matrix(y_test, y_pred)\n",
    "cmap = plt.cm.Blues\n",
    "classes = ['0', '1']\n",
    "\n",
    "for normalize in [False, True]:\n",
    "\n",
    "    # Normalization\n",
    "    if normalize:\n",
    "        cm = cm.astype('float') / cm.sum(axis=1)[:, np.newaxis]\n",
    "        title = 'Normalized confusion matrix'\n",
    "    else:\n",
    "        title = 'Confusion matrix, without normalization'\n",
    "\n",
    "    fig, ax = plt.subplots()\n",
    "    im = ax.imshow(cm, interpolation='nearest', cmap=cmap)\n",
    "    ax.figure.colorbar(im, ax=ax)\n",
    "    ax.set(xticks=np.arange(cm.shape[1]),\n",
    "           yticks=np.arange(cm.shape[0]),\n",
    "           xticklabels=classes, yticklabels=classes,\n",
    "           title=title,\n",
    "           ylabel='True label',\n",
    "           xlabel='Predicted label')\n",
    "\n",
    "    # Rotate the tick labels and set their alignment.\n",
    "    plt.setp(ax.get_xticklabels(), rotation=45, ha=\"right\",\n",
    "             rotation_mode=\"anchor\")\n",
    "\n",
    "    # Loop over data dimensions and create text annotations.\n",
    "    fmt = '.2f' if normalize else 'd'\n",
    "    thresh = cm.max() / 2.\n",
    "    for i in range(cm.shape[0]):\n",
    "        for j in range(cm.shape[1]):\n",
    "            ax.text(j, i, format(cm[i, j], fmt),\n",
    "                    ha=\"center\", va=\"center\",\n",
    "                    color=\"white\" if cm[i, j] > thresh else \"black\")\n",
    "    fig.tight_layout()\n",
    "    plt.show()\n",
    "\n"
   ]
  }
 ],
 "metadata": {
  "kernelspec": {
   "display_name": "Python 3",
   "language": "python",
   "name": "python3"
  },
  "language_info": {
   "codemirror_mode": {
    "name": "ipython",
    "version": 3
   },
   "file_extension": ".py",
   "mimetype": "text/x-python",
   "name": "python",
   "nbconvert_exporter": "python",
   "pygments_lexer": "ipython3",
   "version": "3.7.3"
  }
 },
 "nbformat": 4,
 "nbformat_minor": 2
}
