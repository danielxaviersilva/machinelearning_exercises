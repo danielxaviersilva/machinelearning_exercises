{
 "cells": [
  {
   "cell_type": "code",
   "execution_count": 1,
   "metadata": {},
   "outputs": [],
   "source": [
    "from matplotlib import pyplot as plt\n",
    "import numpy as np\n",
    "import csv\n",
    "import math\n",
    "import pandas as pd\n",
    "import seaborn as sns\n",
    "\n",
    "from sklearn.model_selection import train_test_split\n",
    "from sklearn.metrics import f1_score, roc_curve, auc, confusion_matrix"
   ]
  },
  {
   "cell_type": "code",
   "execution_count": 2,
   "metadata": {},
   "outputs": [],
   "source": [
    "def sigmoid(z):\n",
    "    import numpy as np\n",
    "    sigm = 1/(1+np.exp(-z))\n",
    "    return sigm\n",
    "\n",
    "def loss(h, y):\n",
    "    import numpy as np\n",
    "    temp = np.multiply(y, np.log2(h))\n",
    "    loss = -np.sum(temp, axis=1)        \n",
    "    return loss\n",
    "\n",
    "def normalize(x, interval):\n",
    "    import numpy as np\n",
    "    x1 = np.array(x)\n",
    "    x_normalized =  interval[0] + (x1 - min(x))*(interval[1] - interval[0])/(max(x) - min(x))\n",
    "    return x_normalized\n",
    "\n",
    "def add_ones_left(df):\n",
    "    left_ones = np.ones(df.shape[0])\n",
    "    df['ones'] = left_ones\n",
    "\n",
    "    cols = list(df.columns)\n",
    "    cols = [cols[-1]] + cols[:-1]\n",
    "    df = df[cols]    \n",
    "    return df\n",
    "\n",
    "def softmax(df):\n",
    "    out = df.copy()\n",
    "    for i in range(df.shape[0]):\n",
    "        temp = 0\n",
    "        for j in range(df.shape[1]):\n",
    "            temp = temp + math.exp(df[i,j])\n",
    "        for j in range(df.shape[1]):\n",
    "            out[i,j] = math.exp(df[i,j])/temp\n",
    "    return out"
   ]
  },
  {
   "cell_type": "markdown",
   "metadata": {},
   "source": [
    "### Read data"
   ]
  },
  {
   "cell_type": "code",
   "execution_count": 5,
   "metadata": {},
   "outputs": [],
   "source": [
    "X_train = pd.read_csv('har_smartphone/X_train.txt', delimiter = '\\s+', header = None)\n",
    "X_test = pd.read_csv('har_smartphone/X_test.txt', delimiter = '\\s+', header = None)\n",
    "y_train_data = pd.read_csv('har_smartphone/y_train.txt', delimiter = '\\s+', header = None)\n",
    "y_test_data = pd.read_csv('har_smartphone/y_test.txt', delimiter = '\\s+', header = None)\n",
    "\n",
    "X_train = add_ones_left(X_train)\n",
    "X_test  = add_ones_left(X_test)"
   ]
  },
  {
   "cell_type": "markdown",
   "metadata": {},
   "source": [
    "### One-hot encoding"
   ]
  },
  {
   "cell_type": "code",
   "execution_count": 6,
   "metadata": {},
   "outputs": [],
   "source": [
    "N_CLASSES = 6\n",
    "y_train = np.zeros([y_train_data.shape[0], N_CLASSES])\n",
    "for idx, v in enumerate(y_train_data[0]):\n",
    "    y_train[idx, v-1] = 1\n",
    "\n",
    "y_test = np.zeros([y_test_data.shape[0], N_CLASSES])\n",
    "for idx, v in enumerate(y_test_data[0]):\n",
    "    y_test[idx, v-1] = 1"
   ]
  },
  {
   "cell_type": "markdown",
   "metadata": {},
   "source": [
    "### Check data balance"
   ]
  },
  {
   "cell_type": "code",
   "execution_count": 8,
   "metadata": {},
   "outputs": [
    {
     "data": {
      "image/png": "[encoded data removed]",
      "text/plain": [
       "<Figure size 432x288 with 1 Axes>"
      ]
     },
     "metadata": {
      "needs_background": "light"
     },
     "output_type": "display_data"
    },
    {
     "data": {
      "image/png": "[encoded data removed]",
      "text/plain": [
       "<Figure size 432x288 with 1 Axes>"
      ]
     },
     "metadata": {
      "needs_background": "light"
     },
     "output_type": "display_data"
    }
   ],
   "source": [
    "sns.countplot(x=0, data=y_train_data)\n",
    "plt.show()\n",
    "\n",
    "sns.countplot(x=0, data=y_test_data)\n",
    "plt.show()"
   ]
  },
  {
   "cell_type": "markdown",
   "metadata": {},
   "source": [
    "### Model and training"
   ]
  },
  {
   "cell_type": "code",
   "execution_count": 9,
   "metadata": {},
   "outputs": [
    {
     "name": "stdout",
     "output_type": "stream",
     "text": [
      "Iteration: 1000 -- Training Loss: 0.20151369050888482 -- Validation Loss: 0.23431861142560512\n",
      "Amount of iterations after the current minimum loss function on the validation set: 1\n",
      "Iteration: 2000 -- Training Loss: 0.11525786200005243 -- Validation Loss: 0.14843896114998176\n",
      "Amount of iterations after the current minimum loss function on the validation set: 0\n",
      "Iteration: 3000 -- Training Loss: 0.09808234843341385 -- Validation Loss: 0.13208828623214836\n",
      "Amount of iterations after the current minimum loss function on the validation set: 0\n",
      "Iteration: 4000 -- Training Loss: 0.08742076859794487 -- Validation Loss: 0.12173804606828068\n",
      "Amount of iterations after the current minimum loss function on the validation set: 0\n",
      "Iteration: 5000 -- Training Loss: 0.07994378523137508 -- Validation Loss: 0.11450693064297317\n",
      "Amount of iterations after the current minimum loss function on the validation set: 0\n"
     ]
    },
    {
     "data": {
      "image/png": "[encoded data removed]",
      "text/plain": [
       "<Figure size 432x288 with 1 Axes>"
      ]
     },
     "metadata": {
      "needs_background": "light"
     },
     "output_type": "display_data"
    }
   ],
   "source": [
    "# Inicialize weights\n",
    "VAL_PROPORTION = 0.2\n",
    "theta = np.zeros((X_train.shape[1], N_CLASSES))\n",
    "\n",
    "ls_training = []\n",
    "ls_val = []\n",
    "\n",
    "# Learning rate\n",
    "lr = 0.1\n",
    "\n",
    "# Threshold\n",
    "threshold = 0.5\n",
    "\n",
    "# Number of iterations\n",
    "iterations = 5000\n",
    "\n",
    "#Number of additional iterations after a minimum on validation set\n",
    "MAX_IT_AFTER_MIN = 10000\n",
    "it_after_min = 0\n",
    "min_cost_val = 2**10 #high number\n",
    "\n",
    "# Training loop\n",
    "X_training, X_val, y_training, y_val = train_test_split(X_train, y_train, test_size=VAL_PROPORTION, random_state=42)\n",
    "\n",
    "\n",
    "for i in range(iterations):    \n",
    "    it_after_min = it_after_min + 1    \n",
    "    # Input x Weights\n",
    "    \n",
    "    z = np.dot(X_training, theta)    \n",
    "    # Sigmoid\n",
    "    h_training = softmax(z)\n",
    "    # Gradient descent\n",
    "    gradient = np.dot(X_training.transpose() , h_training - y_training)/y_training.shape[0]\n",
    "    #print(gradient)\n",
    "    theta = theta - lr * gradient\n",
    "    \n",
    "    h_training = softmax(np.dot(X_training, theta))\n",
    "    cross_entropy = loss(h_training, y_training).mean()\n",
    "    ls_training.append(cross_entropy)\n",
    "\n",
    "    h_val = softmax(np.dot(X_val, theta))\n",
    "    ls_val.append(loss(h_val, y_val).mean())\n",
    "    \n",
    "    if ls_val[-1] < min_cost_val:\n",
    "        it_after_min = 0\n",
    "        opt_theta = theta\n",
    "        min_cost_val = ls_val[-1]\n",
    "        best_it_idx = i\n",
    "        \n",
    "    if it_after_min == MAX_IT_AFTER_MIN:\n",
    "        print('Iteration: {} -- Training Loss: {} -- Validation Loss: {}'. format(i, ls_training[-1], ls_val[-1]))\n",
    "        break        \n",
    "    \n",
    "    # Print info\n",
    "    if((i+1)%1000 == 0):        \n",
    "        print('Iteration: {} -- Training Loss: {} -- Validation Loss: {}'. format(i+1, ls_training[-1], ls_val[-1]))\n",
    "        print('Amount of iterations after the current minimum loss function on the validation set: {}'.format(it_after_min))\n",
    "theta = opt_theta\n",
    "        \n",
    "    \n",
    "# Plot loss\n",
    "plt.plot(ls_val, color = 'red', label=\"Cost Function - Validation\")\n",
    "plt.plot(ls_training, color = 'blue', label =\"Cost Function - Training\")\n",
    "plt.axvline(x=best_it_idx)\n",
    "plt.ylim(0, 0.175)\n",
    "plt.xlabel('Iterations')\n",
    "plt.ylabel('Cost function')\n",
    "plt.legend()\n",
    "plt.show()    "
   ]
  },
  {
   "cell_type": "markdown",
   "metadata": {},
   "source": [
    "### Predict and get metrics"
   ]
  },
  {
   "cell_type": "code",
   "execution_count": 1,
   "metadata": {},
   "outputs": [
    {
     "ename": "NameError",
     "evalue": "name 'softmax' is not defined",
     "output_type": "error",
     "traceback": [
      "\u001b[0;31m---------------------------------------------------------------------------\u001b[0m",
      "\u001b[0;31mNameError\u001b[0m                                 Traceback (most recent call last)",
      "\u001b[0;32m<ipython-input-1-5e4158b82725>\u001b[0m in \u001b[0;36m<module>\u001b[0;34m\u001b[0m\n\u001b[0;32m----> 1\u001b[0;31m \u001b[0mprob\u001b[0m \u001b[0;34m=\u001b[0m \u001b[0msoftmax\u001b[0m\u001b[0;34m(\u001b[0m\u001b[0mnp\u001b[0m\u001b[0;34m.\u001b[0m\u001b[0mdot\u001b[0m\u001b[0;34m(\u001b[0m\u001b[0mX_test\u001b[0m\u001b[0;34m,\u001b[0m \u001b[0mtheta\u001b[0m\u001b[0;34m)\u001b[0m\u001b[0;34m)\u001b[0m\u001b[0;34m\u001b[0m\u001b[0;34m\u001b[0m\u001b[0m\n\u001b[0m\u001b[1;32m      2\u001b[0m \u001b[0my_pred\u001b[0m \u001b[0;34m=\u001b[0m \u001b[0mnp\u001b[0m\u001b[0;34m.\u001b[0m\u001b[0margmax\u001b[0m\u001b[0;34m(\u001b[0m\u001b[0mprob\u001b[0m\u001b[0;34m,\u001b[0m \u001b[0maxis\u001b[0m \u001b[0;34m=\u001b[0m \u001b[0;36m1\u001b[0m\u001b[0;34m)\u001b[0m \u001b[0;34m+\u001b[0m \u001b[0;36m1\u001b[0m\u001b[0;34m\u001b[0m\u001b[0;34m\u001b[0m\u001b[0m\n\u001b[1;32m      3\u001b[0m \u001b[0;34m\u001b[0m\u001b[0m\n\u001b[1;32m      4\u001b[0m \u001b[0;31m# Accuracy\u001b[0m\u001b[0;34m\u001b[0m\u001b[0;34m\u001b[0m\u001b[0;34m\u001b[0m\u001b[0m\n\u001b[1;32m      5\u001b[0m \u001b[0mprint\u001b[0m\u001b[0;34m(\u001b[0m\u001b[0;34m'Accuracy: {}'\u001b[0m\u001b[0;34m.\u001b[0m\u001b[0mformat\u001b[0m\u001b[0;34m(\u001b[0m\u001b[0mnp\u001b[0m\u001b[0;34m.\u001b[0m\u001b[0mequal\u001b[0m\u001b[0;34m(\u001b[0m\u001b[0my_pred\u001b[0m \u001b[0;34m,\u001b[0m\u001b[0my_test_data\u001b[0m\u001b[0;34m[\u001b[0m\u001b[0;36m0\u001b[0m\u001b[0;34m]\u001b[0m\u001b[0;34m)\u001b[0m\u001b[0;34m.\u001b[0m\u001b[0mmean\u001b[0m\u001b[0;34m(\u001b[0m\u001b[0;34m)\u001b[0m\u001b[0;34m)\u001b[0m\u001b[0;34m)\u001b[0m\u001b[0;34m\u001b[0m\u001b[0;34m\u001b[0m\u001b[0m\n",
      "\u001b[0;31mNameError\u001b[0m: name 'softmax' is not defined"
     ]
    }
   ],
   "source": [
    "prob = softmax(np.dot(X_test, theta))\n",
    "y_pred = np.argmax(prob, axis = 1) + 1\n",
    "\n",
    "# Accuracy\n",
    "print('Accuracy: {}'.format(np.equal(y_pred ,y_test_data[0]).mean()))\n",
    "\n",
    "# F1 Score\n",
    "print('F1 Score: {}'.format(f1_score(y_test_data[0], y_pred, average='weighted')))"
   ]
  },
  {
   "cell_type": "markdown",
   "metadata": {},
   "source": [
    "### Confusion matrix"
   ]
  },
  {
   "cell_type": "code",
   "execution_count": 4,
   "metadata": {},
   "outputs": [
    {
     "ename": "NameError",
     "evalue": "name 'confusion_matrix' is not defined",
     "output_type": "error",
     "traceback": [
      "\u001b[0;31m---------------------------------------------------------------------------\u001b[0m",
      "\u001b[0;31mNameError\u001b[0m                                 Traceback (most recent call last)",
      "\u001b[0;32m<ipython-input-4-6b7e5eb338ba>\u001b[0m in \u001b[0;36m<module>\u001b[0;34m\u001b[0m\n\u001b[1;32m      1\u001b[0m \u001b[0mnormalize\u001b[0m \u001b[0;34m=\u001b[0m \u001b[0;32mFalse\u001b[0m\u001b[0;34m\u001b[0m\u001b[0;34m\u001b[0m\u001b[0m\n\u001b[0;32m----> 2\u001b[0;31m \u001b[0mcm\u001b[0m \u001b[0;34m=\u001b[0m \u001b[0mconfusion_matrix\u001b[0m\u001b[0;34m(\u001b[0m\u001b[0my_test_data\u001b[0m\u001b[0;34m[\u001b[0m\u001b[0;36m0\u001b[0m\u001b[0;34m]\u001b[0m\u001b[0;34m,\u001b[0m \u001b[0my_pred\u001b[0m\u001b[0;34m)\u001b[0m\u001b[0;34m\u001b[0m\u001b[0;34m\u001b[0m\u001b[0m\n\u001b[0m\u001b[1;32m      3\u001b[0m \u001b[0mcmap\u001b[0m \u001b[0;34m=\u001b[0m \u001b[0mplt\u001b[0m\u001b[0;34m.\u001b[0m\u001b[0mcm\u001b[0m\u001b[0;34m.\u001b[0m\u001b[0mBlues\u001b[0m\u001b[0;34m\u001b[0m\u001b[0;34m\u001b[0m\u001b[0m\n\u001b[1;32m      4\u001b[0m \u001b[0mclasses\u001b[0m \u001b[0;34m=\u001b[0m \u001b[0;34m[\u001b[0m\u001b[0;34m'1'\u001b[0m\u001b[0;34m,\u001b[0m \u001b[0;34m'2'\u001b[0m\u001b[0;34m,\u001b[0m \u001b[0;34m'3'\u001b[0m\u001b[0;34m,\u001b[0m \u001b[0;34m'4'\u001b[0m\u001b[0;34m,\u001b[0m \u001b[0;34m'5'\u001b[0m\u001b[0;34m,\u001b[0m \u001b[0;34m'6'\u001b[0m\u001b[0;34m]\u001b[0m\u001b[0;34m\u001b[0m\u001b[0;34m\u001b[0m\u001b[0m\n\u001b[1;32m      5\u001b[0m \u001b[0;34m\u001b[0m\u001b[0m\n",
      "\u001b[0;31mNameError\u001b[0m: name 'confusion_matrix' is not defined"
     ]
    }
   ],
   "source": [
    "normalize = False\n",
    "cm = confusion_matrix(y_test_data[0], y_pred)\n",
    "cmap = plt.cm.Blues\n",
    "classes = ['1', '2', '3', '4', '5', '6']\n",
    "\n",
    "for normalize in [False, True]:\n",
    "\n",
    "    # Normalization\n",
    "    if normalize:\n",
    "        cm = cm.astype('float') / cm.sum(axis=1)[:, np.newaxis]\n",
    "        title = 'Normalized confusion matrix'\n",
    "    else:\n",
    "        title = 'Confusion matrix, without normalization'\n",
    "\n",
    "    fig, ax = plt.subplots()\n",
    "    im = ax.imshow(cm, interpolation='nearest', cmap=cmap)\n",
    "    ax.figure.colorbar(im, ax=ax)\n",
    "    ax.set(xticks=np.arange(cm.shape[1]),\n",
    "           yticks=np.arange(cm.shape[0]),\n",
    "           xticklabels=classes, yticklabels=classes,\n",
    "           title=title,\n",
    "           ylabel='True label',\n",
    "           xlabel='Predicted label')\n",
    "\n",
    "    # Rotate the tick labels and set their alignment.\n",
    "    plt.setp(ax.get_xticklabels(), rotation=45, ha=\"right\",\n",
    "             rotation_mode=\"anchor\")\n",
    "\n",
    "    # Loop over data dimensions and create text annotations.\n",
    "    fmt = '.2f' if normalize else 'd'\n",
    "    thresh = cm.max() / 2.\n",
    "    for i in range(cm.shape[0]):\n",
    "        for j in range(cm.shape[1]):\n",
    "            ax.text(j, i, format(cm[i, j], fmt),\n",
    "                    ha=\"center\", va=\"center\",\n",
    "                    color=\"white\" if cm[i, j] > thresh else \"black\")\n",
    "    fig.tight_layout()\n",
    "    plt.show()"
   ]
  },
  {
   "cell_type": "code",
   "execution_count": null,
   "metadata": {},
   "outputs": [],
   "source": []
  }
 ],
 "metadata": {
  "kernelspec": {
   "display_name": "Python 3",
   "language": "python",
   "name": "python3"
  },
  "language_info": {
   "codemirror_mode": {
    "name": "ipython",
    "version": 3
   },
   "file_extension": ".py",
   "mimetype": "text/x-python",
   "name": "python",
   "nbconvert_exporter": "python",
   "pygments_lexer": "ipython3",
   "version": "3.7.4"
  }
 },
 "nbformat": 4,
 "nbformat_minor": 2
}
