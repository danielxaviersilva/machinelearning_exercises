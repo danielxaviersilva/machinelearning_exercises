{
 "cells": [
  {
   "cell_type": "code",
   "execution_count": 5,
   "metadata": {},
   "outputs": [],
   "source": [
    "import nibabel as nib\n",
    "import pandas as pd\n",
    "import numpy as np\n",
    "import os\n",
    "import sys\n",
    "import matplotlib.pyplot as plt\n",
    "import glob\n",
    "import seaborn as sns\n",
    "\n",
    "from sklearn.model_selection import train_test_split\n",
    "from sklearn.metrics import classification_report, confusion_matrix\n",
    "from keras.utils import to_categorical\n",
    "\n",
    "import cv2 as cv\n",
    "from keras.models import Sequential\n",
    "from keras.layers import Dense, Conv2D, Flatten, MaxPooling2D\n",
    "from keras.callbacks import EarlyStopping\n",
    "from keras.models import load_model"
   ]
  },
  {
   "cell_type": "code",
   "execution_count": 6,
   "metadata": {},
   "outputs": [],
   "source": [
    "INPUT_IMAGE_W = 128\n",
    "INPUT_IMAGE_H = 128\n",
    "DIR = \"BrainHack/\""
   ]
  },
  {
   "cell_type": "code",
   "execution_count": 7,
   "metadata": {},
   "outputs": [
    {
     "name": "stdout",
     "output_type": "stream",
     "text": [
      "(727, 19)\n"
     ]
    },
    {
     "data": {
      "text/plain": [
       "Index(['Id', 'CT', 'MR', 'GE', 'Siemens', 'Philips', 'Toshiba', 'CTA', 'NCTT',\n",
       "       'T2W', 'T1W', 'DWI', 'FLAIR', 'GRE', ' 1_5', '3', 'AX', 'SAG', 'COR'],\n",
       "      dtype='object')"
      ]
     },
     "execution_count": 7,
     "metadata": {},
     "output_type": "execute_result"
    }
   ],
   "source": [
    "labels = pd.read_csv(DIR + 'dataset.csv', delimiter = ',', header = 0)\n",
    "print(labels.shape)\n",
    "labels.columns"
   ]
  },
  {
   "cell_type": "markdown",
   "metadata": {},
   "source": [
    "###### Get file names and associate with their labels"
   ]
  },
  {
   "cell_type": "code",
   "execution_count": 8,
   "metadata": {},
   "outputs": [],
   "source": [
    "files_MR = glob.glob(os.path.join(DIR,'MRI','*','*','*','*','*.nii'))\n",
    "files_MR_name = []\n",
    "for files_MR_element in files_MR:\n",
    "    files_MR_name.append((files_MR_element.rsplit('/', 1)[-1])[:-4])\n",
    "len(files_MR_name)\n",
    "\n",
    "label_set = pd.DataFrame(columns = labels.columns)\n",
    "for name_idx, name in enumerate(files_MR_name):\n",
    "    temp = np.where(labels[\"Id\"] == name)[0][0]\n",
    "    label_set.loc[name_idx] = (labels.iloc[temp,:])"
   ]
  },
  {
   "cell_type": "markdown",
   "metadata": {},
   "source": [
    "###### Get the slices, associate with their labels and put them in an adequate format"
   ]
  },
  {
   "cell_type": "code",
   "execution_count": 9,
   "metadata": {},
   "outputs": [],
   "source": [
    "raw_dataset = []\n",
    "raw_dataset_label = pd.DataFrame(columns = labels.columns)\n",
    "raw_dataset_label_idx = 0\n",
    "\n",
    "for file_idx, _ in enumerate(files_MR):\n",
    "    temp_file = nib.load(files_MR[file_idx], keep_file_open = False)\n",
    "    current_MRI_3D = temp_file.get_fdata()\n",
    "    temp_file.uncache()\n",
    "    #del temp_file\n",
    "    #print(\"\\rOpened the archive number {} of {}\". format(file_idx, len(files_MR)))\n",
    "    \n",
    "    if current_MRI_3D.ndim == 4:\n",
    "        for i in range(current_MRI_3D.shape[2]):\n",
    "            for j in range(current_MRI_3D.shape[3]):\n",
    "                raw_dataset.append(current_MRI_3D[:,:,i,j])\n",
    "                raw_dataset_label.loc[raw_dataset_label_idx] = label_set.loc[file_idx]\n",
    "                raw_dataset_label[\"Id\"][raw_dataset_label_idx] = raw_dataset_label[\"Id\"][raw_dataset_label_idx] + str(i) + \"_\" + str(j)\n",
    "                raw_dataset_label_idx = raw_dataset_label_idx + 1\n",
    "                \n",
    "    elif current_MRI_3D.ndim == 3:\n",
    "        for i in range(current_MRI_3D.shape[2]):\n",
    "                raw_dataset.append(current_MRI_3D[:,:,i])\n",
    "                raw_dataset_label.loc[raw_dataset_label_idx] = label_set.loc[file_idx]\n",
    "                raw_dataset_label[\"Id\"][raw_dataset_label_idx] = raw_dataset_label[\"Id\"][raw_dataset_label_idx] + str(i) + \"_0\"\n",
    "                raw_dataset_label_idx = raw_dataset_label_idx + 1 \n"
   ]
  },
  {
   "cell_type": "markdown",
   "metadata": {},
   "source": [
    "###### Reshaping and normalizing images to fixed values, Res: INPUT_IMAGE_W x INPUT_IMAGE_H and values: [0 1]"
   ]
  },
  {
   "cell_type": "code",
   "execution_count": 10,
   "metadata": {},
   "outputs": [],
   "source": [
    "for img_idx, _ in enumerate(raw_dataset):\n",
    "    raw_dataset[img_idx] = cv.resize(raw_dataset[img_idx], (INPUT_IMAGE_W, INPUT_IMAGE_H), interpolation = cv.INTER_AREA)      # cubic spline interpolation in a 4x4 environment\n",
    "\n",
    "#Normalizing slices accordingly to its minimum and maximum value\n",
    "#Question: would it be better to normalize it accordingly mapping the slices accordingly to the volume's min and max?\n",
    "for img_idx, _ in enumerate(raw_dataset):\n",
    "    raw_dataset[img_idx] =  cv.normalize(raw_dataset[img_idx], None, alpha=0, beta=1, norm_type=cv.NORM_MINMAX, dtype=cv.CV_32F)"
   ]
  },
  {
   "cell_type": "code",
   "execution_count": 11,
   "metadata": {},
   "outputs": [],
   "source": [
    "X = np.asarray(raw_dataset) #-> OS DADOS ESTÃO ORGANIZADOS BONITINHOS AQUI!\n",
    "X = X.reshape(X.shape[0], X.shape[1], X.shape[2], 1) \n",
    "\n",
    "Y = raw_dataset_label.iloc[:,1:19]#->O GABARITO ESTÁ BONITINHO AQUI\n",
    "\n",
    "#WARNING: THERE IS A SPACE BEFORE 1_5!!! CORRECT THIS IN THE FUTURE\n",
    "Y_training = Y[[' 1_5', '3', 'AX', 'SAG', 'COR']]"
   ]
  },
  {
   "cell_type": "code",
   "execution_count": 12,
   "metadata": {},
   "outputs": [
    {
     "name": "stdout",
     "output_type": "stream",
     "text": [
      "Verifying if the data is balanced\n",
      "Slices:\n",
      "Axial:  19936\n",
      "Sagital:  1925\n",
      "Coronal:  1015\n",
      "\n",
      "Static Magnetic Field:\n",
      "1.5T:  10390\n",
      "3T:  12486\n"
     ]
    }
   ],
   "source": [
    "print(\"Verifying if the data is balanced\")\n",
    "print(\"Slices:\")\n",
    "print(\"Axial: \", sum(Y_training['AX'] == 1))\n",
    "print(\"Sagital: \", sum(Y_training['SAG'] == 1))\n",
    "print(\"Coronal: \", sum(Y_training['COR'] == 1))\n",
    "\n",
    "print(\"\\nStatic Magnetic Field:\")\n",
    "print(\"1.5T: \", sum(Y_training[' 1_5'] == 1))\n",
    "print(\"3T: \", sum(Y_training['3'] == 1))\n",
    "\n",
    "y_slice = Y_training[['AX', 'SAG', 'COR']]"
   ]
  },
  {
   "cell_type": "markdown",
   "metadata": {},
   "source": [
    "###### The slice projections are not balanced at all. The main static MF variations are. A strategy will be adopted before training the slices"
   ]
  },
  {
   "cell_type": "markdown",
   "metadata": {},
   "source": [
    "### Classifier for the MSMF"
   ]
  },
  {
   "cell_type": "code",
   "execution_count": 13,
   "metadata": {},
   "outputs": [],
   "source": [
    "X_training, X_test, y_training, y_test = train_test_split(X, Y_training, test_size=0.1, random_state=42)\n",
    "X_train, X_val, y_train, y_val = train_test_split(X_training, y_training, test_size=0.2222, random_state=42)"
   ]
  },
  {
   "cell_type": "code",
   "execution_count": 14,
   "metadata": {},
   "outputs": [],
   "source": [
    "y_train_FMS = y_train[[' 1_5', '3']]\n",
    "y_val_FMS = y_val[[' 1_5', '3']]\n",
    "y_test_FMS = y_test[[' 1_5', '3']]\n",
    "\n",
    "#y_train_slice = y_train[[ 'AX', 'SAG', 'COR']]\n",
    "#y_test_slice = y_test[[ 'AX', 'SAG', 'COR']]"
   ]
  },
  {
   "cell_type": "code",
   "execution_count": 15,
   "metadata": {},
   "outputs": [],
   "source": [
    "model_FMS = Sequential()\n",
    "model_FMS.add(Conv2D(64, kernel_size=7, activation=\"relu\", input_shape=(INPUT_IMAGE_W,INPUT_IMAGE_H,1)))\n",
    "model_FMS.add(MaxPooling2D(pool_size=(7, 7), strides=None, padding='valid', data_format=None))\n",
    "#model_FMS.add(Conv2D(32, kernel_size=5, activation=\"relu\"))\n",
    "model_FMS.add(Flatten())\n",
    "model_FMS.add(Dense(2, activation=\"softmax\"))"
   ]
  },
  {
   "cell_type": "code",
   "execution_count": 16,
   "metadata": {},
   "outputs": [],
   "source": [
    "model_FMS.compile(optimizer='adam', loss='categorical_crossentropy', metrics=['accuracy'])\n",
    "es = EarlyStopping(monitor='val_loss', mode='min', verbose=1, patience=20)"
   ]
  },
  {
   "cell_type": "code",
   "execution_count": null,
   "metadata": {},
   "outputs": [
    {
     "name": "stdout",
     "output_type": "stream",
     "text": [
      "Train on 16013 samples, validate on 4575 samples\n",
      "Epoch 1/150\n",
      "16013/16013 [==============================] - 261s 16ms/step - loss: 0.6185 - accuracy: 0.6506 - val_loss: 0.5777 - val_accuracy: 0.6931\n",
      "Epoch 2/150\n",
      "16013/16013 [==============================] - 220s 14ms/step - loss: 0.5257 - accuracy: 0.7342 - val_loss: 0.4964 - val_accuracy: 0.7657\n",
      "Epoch 3/150\n",
      "16013/16013 [==============================] - 226s 14ms/step - loss: 0.4566 - accuracy: 0.7840 - val_loss: 0.5006 - val_accuracy: 0.7569\n",
      "Epoch 4/150\n",
      "16013/16013 [==============================] - 220s 14ms/step - loss: 0.3967 - accuracy: 0.8220 - val_loss: 0.4023 - val_accuracy: 0.8188\n",
      "Epoch 5/150\n",
      "16013/16013 [==============================] - 215s 13ms/step - loss: 0.3500 - accuracy: 0.8530 - val_loss: 0.3703 - val_accuracy: 0.8380\n",
      "Epoch 6/150\n",
      "16013/16013 [==============================] - 215s 13ms/step - loss: 0.3089 - accuracy: 0.8737 - val_loss: 0.3991 - val_accuracy: 0.8197\n",
      "Epoch 7/150\n",
      "16013/16013 [==============================] - 225s 14ms/step - loss: 0.2819 - accuracy: 0.8878 - val_loss: 0.3502 - val_accuracy: 0.8496\n",
      "Epoch 8/150\n",
      "16013/16013 [==============================] - 199s 12ms/step - loss: 0.2519 - accuracy: 0.9035 - val_loss: 0.3169 - val_accuracy: 0.8689\n",
      "Epoch 9/150\n",
      " 4832/16013 [========>.....................] - ETA: 2:09 - loss: 0.2291 - accuracy: 0.9164"
     ]
    }
   ],
   "source": [
    "model_FMS.fit(X_train, y_train_FMS, validation_data=(X_val, y_val_FMS), epochs=150, callbacks=[es])"
   ]
  },
  {
   "cell_type": "code",
   "execution_count": null,
   "metadata": {},
   "outputs": [],
   "source": [
    "#Salvar e ir gerar acurácia para dados de treino\n",
    "model_FMS2.save(\"model_FMS.h5\")\n",
    "scores = model_FMS.evaluate(X_test, y_test_FMS, verbose=0)\n",
    "print(\"Accuracy: %.2f%%\" % (scores[1]*100))"
   ]
  },
  {
   "cell_type": "code",
   "execution_count": 14,
   "metadata": {},
   "outputs": [],
   "source": [
    "model_FMS2 = Sequential()\n",
    "model_FMS2.add(Conv2D(128, kernel_size=7, activation=\"relu\", input_shape=(INPUT_IMAGE_W,INPUT_IMAGE_H,1)))\n",
    "model_FMS2.add(MaxPooling2D(pool_size=(7, 7), strides=None, padding='valid', data_format=None))\n",
    "#model_FMS2.add(Conv2D(32, kernel_size=5, activation=\"relu\"))\n",
    "model_FMS2.add(Flatten())\n",
    "model_FMS2.add(Dense(2, activation=\"softmax\"))"
   ]
  },
  {
   "cell_type": "code",
   "execution_count": 16,
   "metadata": {},
   "outputs": [],
   "source": [
    "model_FMS2.compile(optimizer='adam', loss='categorical_crossentropy', metrics=['accuracy'])\n",
    "es = EarlyStopping(monitor='val_loss', mode='min', verbose=1, patience=20)"
   ]
  },
  {
   "cell_type": "code",
   "execution_count": 17,
   "metadata": {},
   "outputs": [
    {
     "name": "stdout",
     "output_type": "stream",
     "text": [
      "Train on 16013 samples, validate on 4575 samples\n",
      "Epoch 1/25\n",
      "16013/16013 [==============================] - 289s 18ms/step - loss: 0.6382 - accuracy: 0.6321 - val_loss: 0.5839 - val_accuracy: 0.6981\n",
      "Epoch 2/25\n",
      "16013/16013 [==============================] - 290s 18ms/step - loss: 0.5391 - accuracy: 0.7220 - val_loss: 0.5206 - val_accuracy: 0.7451\n",
      "Epoch 3/25\n",
      "16013/16013 [==============================] - 290s 18ms/step - loss: 0.4645 - accuracy: 0.7777 - val_loss: 0.4561 - val_accuracy: 0.7790\n",
      "Epoch 4/25\n",
      "16013/16013 [==============================] - 290s 18ms/step - loss: 0.4028 - accuracy: 0.8196 - val_loss: 0.4311 - val_accuracy: 0.7934\n",
      "Epoch 5/25\n",
      "16013/16013 [==============================] - 290s 18ms/step - loss: 0.3578 - accuracy: 0.8433 - val_loss: 0.4276 - val_accuracy: 0.7974\n",
      "Epoch 6/25\n",
      "16013/16013 [==============================] - 290s 18ms/step - loss: 0.3145 - accuracy: 0.8691 - val_loss: 0.3631 - val_accuracy: 0.8365\n",
      "Epoch 7/25\n",
      "16013/16013 [==============================] - 290s 18ms/step - loss: 0.2821 - accuracy: 0.8864 - val_loss: 0.3172 - val_accuracy: 0.8636\n",
      "Epoch 8/25\n",
      "16013/16013 [==============================] - 290s 18ms/step - loss: 0.2549 - accuracy: 0.8986 - val_loss: 0.3029 - val_accuracy: 0.8745\n",
      "Epoch 9/25\n",
      "16013/16013 [==============================] - 290s 18ms/step - loss: 0.2297 - accuracy: 0.9114 - val_loss: 0.3252 - val_accuracy: 0.8581\n",
      "Epoch 10/25\n",
      "16013/16013 [==============================] - 290s 18ms/step - loss: 0.2132 - accuracy: 0.9173 - val_loss: 0.3132 - val_accuracy: 0.8721\n",
      "Epoch 11/25\n",
      "16013/16013 [==============================] - 290s 18ms/step - loss: 0.1910 - accuracy: 0.9292 - val_loss: 0.2910 - val_accuracy: 0.8807\n",
      "Epoch 12/25\n",
      "16013/16013 [==============================] - 290s 18ms/step - loss: 0.1780 - accuracy: 0.9337 - val_loss: 0.2776 - val_accuracy: 0.8894\n",
      "Epoch 13/25\n",
      "16013/16013 [==============================] - 290s 18ms/step - loss: 0.1627 - accuracy: 0.9436 - val_loss: 0.2657 - val_accuracy: 0.8973\n",
      "Epoch 14/25\n",
      "16013/16013 [==============================] - 290s 18ms/step - loss: 0.1480 - accuracy: 0.9474 - val_loss: 0.2613 - val_accuracy: 0.8922\n",
      "Epoch 15/25\n",
      "16013/16013 [==============================] - 290s 18ms/step - loss: 0.1406 - accuracy: 0.9515 - val_loss: 0.2748 - val_accuracy: 0.8938\n",
      "Epoch 16/25\n",
      "16013/16013 [==============================] - 290s 18ms/step - loss: 0.1291 - accuracy: 0.9587 - val_loss: 0.2401 - val_accuracy: 0.9084\n",
      "Epoch 17/25\n",
      "16013/16013 [==============================] - 291s 18ms/step - loss: 0.1164 - accuracy: 0.9630 - val_loss: 0.2305 - val_accuracy: 0.9099\n",
      "Epoch 18/25\n",
      "16013/16013 [==============================] - 289s 18ms/step - loss: 0.1152 - accuracy: 0.9620 - val_loss: 0.3410 - val_accuracy: 0.8592\n",
      "Epoch 19/25\n",
      "16013/16013 [==============================] - 290s 18ms/step - loss: 0.1034 - accuracy: 0.9664 - val_loss: 0.2667 - val_accuracy: 0.8986\n",
      "Epoch 20/25\n",
      "16013/16013 [==============================] - 289s 18ms/step - loss: 0.0957 - accuracy: 0.9703 - val_loss: 0.2700 - val_accuracy: 0.8962\n",
      "Epoch 21/25\n",
      "16013/16013 [==============================] - 289s 18ms/step - loss: 0.0872 - accuracy: 0.9750 - val_loss: 0.2418 - val_accuracy: 0.9058\n",
      "Epoch 22/25\n",
      "16013/16013 [==============================] - 290s 18ms/step - loss: 0.0836 - accuracy: 0.9753 - val_loss: 0.2515 - val_accuracy: 0.9016\n",
      "Epoch 23/25\n",
      "16013/16013 [==============================] - 290s 18ms/step - loss: 0.0790 - accuracy: 0.9757 - val_loss: 0.2331 - val_accuracy: 0.9148\n",
      "Epoch 24/25\n",
      "16013/16013 [==============================] - 290s 18ms/step - loss: 0.0740 - accuracy: 0.9773 - val_loss: 0.2376 - val_accuracy: 0.9167\n",
      "Epoch 25/25\n",
      "16013/16013 [==============================] - 290s 18ms/step - loss: 0.0654 - accuracy: 0.9820 - val_loss: 0.2480 - val_accuracy: 0.9108\n"
     ]
    },
    {
     "data": {
      "text/plain": [
       "<keras.callbacks.callbacks.History at 0x1a98497fd0>"
      ]
     },
     "execution_count": 17,
     "metadata": {},
     "output_type": "execute_result"
    }
   ],
   "source": [
    "model_FMS2.fit(X_train, y_train_FMS, validation_data=(X_val, y_val_FMS), epochs=25, callbacks=[es])"
   ]
  },
  {
   "cell_type": "code",
   "execution_count": 18,
   "metadata": {},
   "outputs": [
    {
     "name": "stdout",
     "output_type": "stream",
     "text": [
      "Train on 16013 samples, validate on 4575 samples\n",
      "Epoch 1/150\n",
      "16013/16013 [==============================] - 103s 6ms/step - loss: 0.6609 - accuracy: 0.5988 - val_loss: 0.6261 - val_accuracy: 0.6492\n",
      "Epoch 2/150\n",
      "16013/16013 [==============================] - 101s 6ms/step - loss: 0.6035 - accuracy: 0.6631 - val_loss: 0.5821 - val_accuracy: 0.6870\n",
      "Epoch 3/150\n",
      "16013/16013 [==============================] - 101s 6ms/step - loss: 0.5610 - accuracy: 0.7071 - val_loss: 0.5447 - val_accuracy: 0.7207\n",
      "Epoch 4/150\n",
      "16013/16013 [==============================] - 101s 6ms/step - loss: 0.5144 - accuracy: 0.7426 - val_loss: 0.5277 - val_accuracy: 0.7329\n",
      "Epoch 5/150\n",
      "16013/16013 [==============================] - 101s 6ms/step - loss: 0.4781 - accuracy: 0.7711 - val_loss: 0.4791 - val_accuracy: 0.7679\n",
      "Epoch 6/150\n",
      "16013/16013 [==============================] - 101s 6ms/step - loss: 0.4388 - accuracy: 0.7946 - val_loss: 0.4493 - val_accuracy: 0.7832\n",
      "Epoch 7/150\n",
      "16013/16013 [==============================] - 101s 6ms/step - loss: 0.4133 - accuracy: 0.8076 - val_loss: 0.4589 - val_accuracy: 0.7832\n",
      "Epoch 8/150\n",
      "16013/16013 [==============================] - 101s 6ms/step - loss: 0.3874 - accuracy: 0.8234 - val_loss: 0.4193 - val_accuracy: 0.8017\n",
      "Epoch 9/150\n",
      "16013/16013 [==============================] - 101s 6ms/step - loss: 0.3673 - accuracy: 0.8324 - val_loss: 0.3875 - val_accuracy: 0.8181\n",
      "Epoch 10/150\n",
      "16013/16013 [==============================] - 101s 6ms/step - loss: 0.3499 - accuracy: 0.8433 - val_loss: 0.3730 - val_accuracy: 0.8326\n",
      "Epoch 11/150\n",
      "16013/16013 [==============================] - 101s 6ms/step - loss: 0.3341 - accuracy: 0.8541 - val_loss: 0.3787 - val_accuracy: 0.8264\n",
      "Epoch 12/150\n",
      "16013/16013 [==============================] - 101s 6ms/step - loss: 0.3149 - accuracy: 0.8642 - val_loss: 0.3968 - val_accuracy: 0.8111\n",
      "Epoch 13/150\n",
      "16013/16013 [==============================] - 101s 6ms/step - loss: 0.3028 - accuracy: 0.8697 - val_loss: 0.3442 - val_accuracy: 0.8470\n",
      "Epoch 14/150\n",
      "16013/16013 [==============================] - 101s 6ms/step - loss: 0.2882 - accuracy: 0.8764 - val_loss: 0.3488 - val_accuracy: 0.8407\n",
      "Epoch 15/150\n",
      "16013/16013 [==============================] - 102s 6ms/step - loss: 0.2755 - accuracy: 0.8825 - val_loss: 0.3474 - val_accuracy: 0.8435\n",
      "Epoch 16/150\n",
      "16013/16013 [==============================] - 102s 6ms/step - loss: 0.2671 - accuracy: 0.8885 - val_loss: 0.3320 - val_accuracy: 0.8522\n",
      "Epoch 17/150\n",
      "16013/16013 [==============================] - 101s 6ms/step - loss: 0.2578 - accuracy: 0.8910 - val_loss: 0.3453 - val_accuracy: 0.8485\n",
      "Epoch 18/150\n",
      "16013/16013 [==============================] - 101s 6ms/step - loss: 0.2435 - accuracy: 0.8988 - val_loss: 0.3356 - val_accuracy: 0.8546\n",
      "Epoch 19/150\n",
      "16013/16013 [==============================] - 102s 6ms/step - loss: 0.2392 - accuracy: 0.9006 - val_loss: 0.3224 - val_accuracy: 0.8579\n",
      "Epoch 20/150\n",
      "16013/16013 [==============================] - 101s 6ms/step - loss: 0.2281 - accuracy: 0.9066 - val_loss: 0.3170 - val_accuracy: 0.8627\n",
      "Epoch 21/150\n",
      "16013/16013 [==============================] - 101s 6ms/step - loss: 0.2223 - accuracy: 0.9073 - val_loss: 0.3490 - val_accuracy: 0.8536\n",
      "Epoch 22/150\n",
      "16013/16013 [==============================] - 102s 6ms/step - loss: 0.2140 - accuracy: 0.9108 - val_loss: 0.3227 - val_accuracy: 0.8614\n",
      "Epoch 23/150\n",
      "16013/16013 [==============================] - 102s 6ms/step - loss: 0.2071 - accuracy: 0.9158 - val_loss: 0.3405 - val_accuracy: 0.8544\n",
      "Epoch 24/150\n",
      "16013/16013 [==============================] - 102s 6ms/step - loss: 0.1997 - accuracy: 0.9217 - val_loss: 0.3162 - val_accuracy: 0.8721\n",
      "Epoch 25/150\n",
      "16013/16013 [==============================] - 102s 6ms/step - loss: 0.1948 - accuracy: 0.9199 - val_loss: 0.3110 - val_accuracy: 0.8691\n",
      "Epoch 26/150\n",
      "16013/16013 [==============================] - 103s 6ms/step - loss: 0.1833 - accuracy: 0.9275 - val_loss: 0.3219 - val_accuracy: 0.8638\n",
      "Epoch 27/150\n",
      "16013/16013 [==============================] - 103s 6ms/step - loss: 0.1803 - accuracy: 0.9262 - val_loss: 0.3246 - val_accuracy: 0.8704\n",
      "Epoch 28/150\n",
      "16013/16013 [==============================] - 103s 6ms/step - loss: 0.1765 - accuracy: 0.9312 - val_loss: 0.3133 - val_accuracy: 0.8713\n",
      "Epoch 29/150\n",
      "16013/16013 [==============================] - 103s 6ms/step - loss: 0.1669 - accuracy: 0.9338 - val_loss: 0.2943 - val_accuracy: 0.8824\n",
      "Epoch 30/150\n",
      "16013/16013 [==============================] - 103s 6ms/step - loss: 0.1664 - accuracy: 0.9346 - val_loss: 0.3276 - val_accuracy: 0.8708\n",
      "Epoch 31/150\n",
      "16013/16013 [==============================] - 103s 6ms/step - loss: 0.1571 - accuracy: 0.9374 - val_loss: 0.3010 - val_accuracy: 0.8813\n",
      "Epoch 32/150\n",
      "16013/16013 [==============================] - 104s 6ms/step - loss: 0.1590 - accuracy: 0.9371 - val_loss: 0.2970 - val_accuracy: 0.8798\n",
      "Epoch 33/150\n",
      "16013/16013 [==============================] - 104s 6ms/step - loss: 0.1475 - accuracy: 0.9432 - val_loss: 0.3016 - val_accuracy: 0.8824\n",
      "Epoch 34/150\n",
      "16013/16013 [==============================] - 103s 6ms/step - loss: 0.1395 - accuracy: 0.9459 - val_loss: 0.3309 - val_accuracy: 0.8728\n",
      "Epoch 00034: early stopping\n"
     ]
    },
    {
     "data": {
      "text/plain": [
       "<keras.callbacks.callbacks.History at 0x1a979d9d30>"
      ]
     },
     "execution_count": 18,
     "metadata": {},
     "output_type": "execute_result"
    }
   ],
   "source": [
    "model_FMS3 = Sequential()\n",
    "model_FMS3.add(Conv2D(32, kernel_size=5, activation=\"relu\", input_shape=(INPUT_IMAGE_W,INPUT_IMAGE_H,1)))\n",
    "model_FMS3.add(MaxPooling2D(pool_size=(7, 7), strides=None, padding='valid', data_format=None))\n",
    "model_FMS3.add(Conv2D(8, kernel_size=5, activation=\"relu\"))\n",
    "model_FMS3.add(Flatten())\n",
    "model_FMS3.add(Dense(2, activation=\"softmax\"))\n",
    "model_FMS3.compile(optimizer='adam', loss='categorical_crossentropy', metrics=['accuracy'])\n",
    "es = EarlyStopping(monitor='val_loss', mode='min', verbose=1, patience=5)\n",
    "model_FMS3.fit(X_train, y_train_FMS, validation_data=(X_val, y_val_FMS), epochs=150, callbacks=[es])"
   ]
  },
  {
   "cell_type": "code",
   "execution_count": 19,
   "metadata": {},
   "outputs": [],
   "source": [
    "Y_AX = Y_training.loc[Y_training.index[Y_training['AX'] == 1]]\n",
    "X_slice_AX = np.copy(X[Y_training.index[Y_training['AX'] == 1], :, :, :])\n",
    "\n",
    "Y_SAG = Y_training.loc[Y_training.index[Y_training['SAG'] == 1]]\n",
    "X_slice_SAG = np.copy(X[Y_training.index[Y_training['SAG'] == 1], :, :, :])\n",
    "\n",
    "Y_COR = Y_training.loc[Y_training.index[Y_training['COR'] == 1]]\n",
    "X_slice_COR = np.copy(X[Y_training.index[Y_training['COR'] == 1], :, :, :])"
   ]
  },
  {
   "cell_type": "code",
   "execution_count": 20,
   "metadata": {},
   "outputs": [
    {
     "name": "stdout",
     "output_type": "stream",
     "text": [
      "Replicações para fatias axiais:  0 \n",
      "Replicações para fatias sagitais:  9 \n",
      "Replicações para fatias coronais:  18\n"
     ]
    }
   ],
   "source": [
    "Max_Sample = max(sum(Y_training['AX'] == 1), sum(Y_training['SAG'] == 1),sum(Y_training['COR'] == 1))\n",
    "\n",
    "conc_AX = Max_Sample//sum(Y_training['AX'] == 1)\n",
    "conc_SAG = Max_Sample//sum(Y_training['SAG'] == 1)\n",
    "conc_COR = Max_Sample//sum(Y_training['COR'] == 1)\n",
    "\n",
    "print(\"Replicações para fatias axiais: \", conc_AX-1, \"\\nReplicações para fatias sagitais: \", conc_SAG-1, \"\\nReplicações para fatias coronais: \", conc_COR-1)"
   ]
  },
  {
   "cell_type": "code",
   "execution_count": 22,
   "metadata": {},
   "outputs": [],
   "source": [
    "#PARTE SAGITAL:\n",
    "X_SAG_replicated = np.copy(X_slice_SAG)\n",
    "Y_SAG_replicated = Y_SAG\n",
    "\n",
    "temp_SAG_replicated = np.copy(X_SAG_replicated)\n",
    "for i, _ in enumerate(X_SAG_replicated):\n",
    "    temp = cv.flip(temp_SAG_replicated[i,:,:,:], 1)\n",
    "    temp_SAG_replicated[i, :, :, :] = temp.reshape(temp.shape[0], temp.shape[1], 1)\n",
    "\n",
    "\n",
    "X_SAG_replicated = np.concatenate([X_SAG_replicated, temp_SAG_replicated], axis = 0)\n",
    "Y_SAG_replicated = pd.concat([Y_SAG_replicated, Y_SAG_replicated], axis=0)\n",
    "########2x Bigger!#####\n",
    "\n",
    "gaussian_noise = np.random.normal(0, 0.05, (X_SAG_replicated.shape[0],X_SAG_replicated.shape[1], X_SAG_replicated.shape[2],X_SAG_replicated.shape[3]))\n",
    "X_SAG_replicated = np.concatenate([X_SAG_replicated, X_SAG_replicated + gaussian_noise], axis=0)\n",
    "Y_SAG_replicated = pd.concat([Y_SAG_replicated, Y_SAG_replicated], axis=0)\n",
    "# 4x Bigger\n",
    "gaussian_noise = np.random.normal(0, 0.05, (X_SAG_replicated.shape[0],X_SAG_replicated.shape[1], X_SAG_replicated.shape[2],X_SAG_replicated.shape[3]))\n",
    "X_SAG_replicated = np.concatenate([X_SAG_replicated, X_SAG_replicated + gaussian_noise], axis=0)\n",
    "Y_SAG_replicated = pd.concat([Y_SAG_replicated, Y_SAG_replicated], axis=0)\n",
    "# 8x Bigger (Duplicated with Flipped image + Version with Noise G(0, 1), and version G(0, 0.5))\n",
    "\n",
    "\n",
    "\n",
    "#PARTE CORONAL:\n",
    "X_COR_replicated = np.copy(X_slice_COR)\n",
    "Y_COR_replicated = Y_COR\n",
    "\n",
    "temp_COR_replicated = np.copy(X_COR_replicated)\n",
    "for i, _ in enumerate(X_COR_replicated):\n",
    "    temp = cv.flip(temp_COR_replicated[i,:,:,:], 1)\n",
    "    temp_COR_replicated[i, :, :, :] = temp.reshape(temp.shape[0], temp.shape[1], 1)\n",
    "\n",
    "\n",
    "X_COR_replicated = np.concatenate([X_COR_replicated, temp_COR_replicated], axis = 0)\n",
    "Y_COR_replicated = pd.concat([Y_COR_replicated, Y_COR_replicated], axis=0)\n",
    "########2x Bigger!#####\n",
    "\n",
    "gaussian_noise = np.random.normal(0, 0.05, (X_COR_replicated.shape[0],X_COR_replicated.shape[1], X_COR_replicated.shape[2],X_COR_replicated.shape[3]))\n",
    "X_COR_replicated = np.concatenate([X_COR_replicated, X_COR_replicated + gaussian_noise], axis=0)\n",
    "Y_COR_replicated = pd.concat([Y_COR_replicated, Y_COR_replicated], axis=0)\n",
    "# 4x Bigger\n",
    "gaussian_noise = np.random.normal(0, 0.05, (X_COR_replicated.shape[0],X_COR_replicated.shape[1], X_COR_replicated.shape[2],X_COR_replicated.shape[3]))\n",
    "X_COR_replicated = np.concatenate([X_COR_replicated, X_COR_replicated + gaussian_noise], axis=0)\n",
    "Y_COR_replicated = pd.concat([Y_COR_replicated, Y_COR_replicated], axis=0)\n",
    "# 8x Bigger (Duplicated with Flipped image + Version with Noise G(0, 1), and version G(0, 0.5))\n",
    "\n",
    "\n",
    "\n",
    "\n",
    "\n",
    "#for i in range(conc_SAG - 1):\n",
    "#    X_SAG_replicated = np.concatenate([X_SAG_replicated, X_slice_SAG], axis=0)\n",
    "#    Y_SAG_replicated = pd.concat([Y_SAG_replicated, Y_SAG], axis=0)\n",
    "#    \n",
    "#X_COR_replicated = X_slice_COR\n",
    "#Y_COR_replicated = Y_COR\n",
    "#for i in range(conc_COR - 1):\n",
    "#    X_COR_replicated = np.concatenate([X_COR_replicated, X_slice_COR], axis=0)\n",
    "#    Y_COR_replicated = pd.concat([Y_COR_replicated, Y_COR], axis=0)\n",
    "#    \n",
    "\n",
    "X_AX_replicated = X_slice_AX\n",
    "Y_AX_replicated = Y_AX\n",
    "#for i in range(conc_AX - 1):\n",
    "#    X_AX_replicated = np.concatenate([X_AX_replicated, X_slice_AX], axis=0)\n",
    "#    Y_AX_replicated = pd.concat([Y_AX_replicated, Y_AX], axis=0)\n",
    "#    \n",
    "X_slice = np.concatenate([X_AX_replicated, X_SAG_replicated, X_COR_replicated])\n",
    "for img_idx, _ in enumerate(X_slice):\n",
    "    temp = X_slice[img_idx]\n",
    "    temp =  cv.normalize(temp[:, :, 0], None, alpha=0, beta=1, norm_type=cv.NORM_MINMAX, dtype=cv.CV_32F)\n",
    "    temp = temp.reshape(temp.shape[0], temp.shape[1], 1)\n",
    "    X_slice[img_idx] = temp\n",
    "    \n",
    "Y_slice = pd.concat([Y_AX_replicated, Y_SAG_replicated, Y_COR_replicated])\n"
   ]
  },
  {
   "cell_type": "code",
   "execution_count": 23,
   "metadata": {},
   "outputs": [
    {
     "data": {
      "image/png": "[encoded data removed]",
      "text/plain": [
       "<Figure size 432x288 with 1 Axes>"
      ]
     },
     "metadata": {
      "needs_background": "light"
     },
     "output_type": "display_data"
    }
   ],
   "source": [
    "id = 10000\n",
    "plt.imshow(X_SAG_replicated[id, :, :, 0], cmap = 'gray')\n",
    "plt.show()\n",
    "#plt.imshow(temp_SAG_replicated[id, :, :, 0], cmap = 'gray')\n",
    "#plt.show()"
   ]
  },
  {
   "cell_type": "code",
   "execution_count": 28,
   "metadata": {},
   "outputs": [
    {
     "data": {
      "text/plain": [
       "(1925, 128, 128, 1)"
      ]
     },
     "execution_count": 28,
     "metadata": {},
     "output_type": "execute_result"
    }
   ],
   "source": [
    "temp_SAG_replicated.shape"
   ]
  },
  {
   "cell_type": "markdown",
   "metadata": {},
   "source": [
    "### Making the data more balanced by decreasing the amount of each class to the one that has the least samples"
   ]
  },
  {
   "cell_type": "code",
   "execution_count": 29,
   "metadata": {},
   "outputs": [],
   "source": [
    "Y_slice = Y_slice[['AX', 'SAG', 'COR']]"
   ]
  },
  {
   "cell_type": "code",
   "execution_count": 30,
   "metadata": {},
   "outputs": [],
   "source": [
    "X_slice = np.asarray(X_slice)\n",
    "X_slice = X_slice.reshape(X_slice.shape[0], X_slice.shape[1], X_slice.shape[2], 1)\n",
    "X_bal_training, X_bal_test, y_bal_training, y_bal_test = train_test_split(X_slice, Y_slice, test_size=0.1, random_state=42)\n",
    "X_bal_train, X_bal_val, y_bal_train, y_bal_val = train_test_split(X_bal_training, y_bal_training, test_size=0.222, random_state=42)"
   ]
  },
  {
   "cell_type": "code",
   "execution_count": 31,
   "metadata": {},
   "outputs": [],
   "source": [
    "model_Slice = Sequential()\n",
    "model_Slice.add(Conv2D(8, kernel_size=3, activation=\"relu\", input_shape=(INPUT_IMAGE_W,INPUT_IMAGE_H,1)))\n",
    "model_Slice.add(Conv2D(4, kernel_size=3, activation=\"relu\"))\n",
    "model_Slice.add(Flatten())\n",
    "model_Slice.add(Dense(3, activation=\"softmax\"))\n",
    "model_Slice.compile(optimizer='adam', loss='categorical_crossentropy', metrics=['accuracy'])\n",
    "es = EarlyStopping(monitor='val_loss', mode='min', verbose=1, patience=20)"
   ]
  },
  {
   "cell_type": "code",
   "execution_count": 32,
   "metadata": {},
   "outputs": [
    {
     "name": "stdout",
     "output_type": "stream",
     "text": [
      "Train on 30427 samples, validate on 8683 samples\n",
      "Epoch 1/150\n",
      "30427/30427 [==============================] - 359s 12ms/step - loss: 0.1707 - accuracy: 0.9410 - val_loss: 0.0810 - val_accuracy: 0.9778\n",
      "Epoch 2/150\n",
      "30427/30427 [==============================] - 283s 9ms/step - loss: 0.0485 - accuracy: 0.9861 - val_loss: 0.0654 - val_accuracy: 0.9792\n",
      "Epoch 3/150\n",
      "30427/30427 [==============================] - 304s 10ms/step - loss: 0.0297 - accuracy: 0.9918 - val_loss: 0.0428 - val_accuracy: 0.9874\n",
      "Epoch 4/150\n",
      "30427/30427 [==============================] - 283s 9ms/step - loss: 0.0168 - accuracy: 0.9956 - val_loss: 0.0740 - val_accuracy: 0.9824\n",
      "Epoch 5/150\n",
      "30427/30427 [==============================] - 604s 20ms/step - loss: 0.0137 - accuracy: 0.9966 - val_loss: 0.0345 - val_accuracy: 0.9926\n",
      "Epoch 6/150\n",
      "30427/30427 [==============================] - 401s 13ms/step - loss: 0.0095 - accuracy: 0.9974 - val_loss: 0.0321 - val_accuracy: 0.9924\n",
      "Epoch 7/150\n",
      "30427/30427 [==============================] - 366s 12ms/step - loss: 0.0120 - accuracy: 0.9964 - val_loss: 0.0413 - val_accuracy: 0.9904\n",
      "Epoch 8/150\n",
      "30427/30427 [==============================] - 355s 12ms/step - loss: 0.0093 - accuracy: 0.9974 - val_loss: 0.0483 - val_accuracy: 0.9876\n",
      "Epoch 9/150\n",
      "30427/30427 [==============================] - 322s 11ms/step - loss: 0.0095 - accuracy: 0.9972 - val_loss: 0.0561 - val_accuracy: 0.9871\n",
      "Epoch 10/150\n",
      "30427/30427 [==============================] - 373s 12ms/step - loss: 0.0051 - accuracy: 0.9984 - val_loss: 0.0388 - val_accuracy: 0.9932\n",
      "Epoch 11/150\n",
      "30427/30427 [==============================] - 260s 9ms/step - loss: 0.0042 - accuracy: 0.9986 - val_loss: 0.0620 - val_accuracy: 0.9889\n",
      "Epoch 12/150\n",
      "30427/30427 [==============================] - 241s 8ms/step - loss: 0.0083 - accuracy: 0.9975 - val_loss: 0.0527 - val_accuracy: 0.9906\n",
      "Epoch 13/150\n",
      "30427/30427 [==============================] - 235s 8ms/step - loss: 0.0050 - accuracy: 0.9983 - val_loss: 0.0570 - val_accuracy: 0.9886\n",
      "Epoch 14/150\n",
      "30427/30427 [==============================] - 199s 7ms/step - loss: 0.0072 - accuracy: 0.9978 - val_loss: 0.0560 - val_accuracy: 0.9899\n",
      "Epoch 15/150\n",
      "30427/30427 [==============================] - 193s 6ms/step - loss: 0.0015 - accuracy: 0.9994 - val_loss: 0.0598 - val_accuracy: 0.9902\n",
      "Epoch 16/150\n",
      "30427/30427 [==============================] - 222s 7ms/step - loss: 0.0016 - accuracy: 0.9994 - val_loss: 0.0742 - val_accuracy: 0.9870\n",
      "Epoch 17/150\n",
      "30427/30427 [==============================] - 358s 12ms/step - loss: 0.0018 - accuracy: 0.9995 - val_loss: 0.1085 - val_accuracy: 0.9839\n",
      "Epoch 18/150\n",
      "30427/30427 [==============================] - 362s 12ms/step - loss: 0.0059 - accuracy: 0.9983 - val_loss: 0.0917 - val_accuracy: 0.9858\n",
      "Epoch 19/150\n",
      "30427/30427 [==============================] - 309s 10ms/step - loss: 0.0031 - accuracy: 0.9991 - val_loss: 0.0650 - val_accuracy: 0.9877\n",
      "Epoch 20/150\n",
      "30427/30427 [==============================] - 307s 10ms/step - loss: 8.4027e-04 - accuracy: 0.9997 - val_loss: 0.0693 - val_accuracy: 0.9891\n",
      "Epoch 21/150\n",
      "30427/30427 [==============================] - 323s 11ms/step - loss: 0.0034 - accuracy: 0.9989 - val_loss: 0.0815 - val_accuracy: 0.9874\n",
      "Epoch 22/150\n",
      "30427/30427 [==============================] - 325s 11ms/step - loss: 0.0015 - accuracy: 0.9995 - val_loss: 0.0658 - val_accuracy: 0.9898\n",
      "Epoch 23/150\n",
      "30427/30427 [==============================] - 352s 12ms/step - loss: 0.0068 - accuracy: 0.9981 - val_loss: 0.1135 - val_accuracy: 0.9828\n",
      "Epoch 24/150\n",
      "30427/30427 [==============================] - 327s 11ms/step - loss: 0.0011 - accuracy: 0.9997 - val_loss: 0.0706 - val_accuracy: 0.9889\n",
      "Epoch 25/150\n",
      "30427/30427 [==============================] - 371s 12ms/step - loss: 1.6796e-04 - accuracy: 0.9999 - val_loss: 0.0769 - val_accuracy: 0.9902\n",
      "Epoch 26/150\n",
      "30427/30427 [==============================] - 353s 12ms/step - loss: 1.7069e-04 - accuracy: 0.9999 - val_loss: 0.0793 - val_accuracy: 0.9858\n",
      "Epoch 00026: early stopping\n"
     ]
    },
    {
     "data": {
      "text/plain": [
       "<keras.callbacks.callbacks.History at 0x1a99786ef0>"
      ]
     },
     "execution_count": 32,
     "metadata": {},
     "output_type": "execute_result"
    }
   ],
   "source": [
    "model_Slice.fit(X_bal_train, y_bal_train, validation_data=(X_bal_val, y_bal_val), epochs=150, callbacks=[es])"
   ]
  },
  {
   "cell_type": "code",
   "execution_count": 1,
   "metadata": {},
   "outputs": [
    {
     "ename": "NameError",
     "evalue": "name 'model_Slice' is not defined",
     "output_type": "error",
     "traceback": [
      "\u001b[0;31m---------------------------------------------------------------------------\u001b[0m",
      "\u001b[0;31mNameError\u001b[0m                                 Traceback (most recent call last)",
      "\u001b[0;32m<ipython-input-1-5bd77c3f57e2>\u001b[0m in \u001b[0;36m<module>\u001b[0;34m\u001b[0m\n\u001b[0;32m----> 1\u001b[0;31m \u001b[0mscores\u001b[0m \u001b[0;34m=\u001b[0m \u001b[0mmodel_Slice\u001b[0m\u001b[0;34m.\u001b[0m\u001b[0mevaluate\u001b[0m\u001b[0;34m(\u001b[0m\u001b[0mX_bal_test\u001b[0m\u001b[0;34m,\u001b[0m \u001b[0my_bal_test\u001b[0m\u001b[0;34m,\u001b[0m \u001b[0mverbose\u001b[0m\u001b[0;34m=\u001b[0m\u001b[0;36m0\u001b[0m\u001b[0;34m)\u001b[0m\u001b[0;34m\u001b[0m\u001b[0;34m\u001b[0m\u001b[0m\n\u001b[0m\u001b[1;32m      2\u001b[0m \u001b[0mprint\u001b[0m\u001b[0;34m(\u001b[0m\u001b[0;34m\"Accuracy: %.2f%%\"\u001b[0m \u001b[0;34m%\u001b[0m \u001b[0;34m(\u001b[0m\u001b[0mscores\u001b[0m\u001b[0;34m[\u001b[0m\u001b[0;36m1\u001b[0m\u001b[0;34m]\u001b[0m\u001b[0;34m*\u001b[0m\u001b[0;36m100\u001b[0m\u001b[0;34m)\u001b[0m\u001b[0;34m)\u001b[0m\u001b[0;34m\u001b[0m\u001b[0;34m\u001b[0m\u001b[0m\n",
      "\u001b[0;31mNameError\u001b[0m: name 'model_Slice' is not defined"
     ]
    }
   ],
   "source": [
    "scores = model_Slice.evaluate(X_bal_test, y_bal_test, verbose=0)\n",
    "print(\"Accuracy: %.2f%%\" % (scores[1]*100))"
   ]
  },
  {
   "cell_type": "code",
   "execution_count": null,
   "metadata": {},
   "outputs": [],
   "source": [
    "idx = 118\n",
    "print(y_train.iloc[idx,0:2])\n",
    "#plt.imshow(X_train[idx, :, :, 0], cmap = 'gray')\n",
    "plt.hist(X_train[idx, :, :, 0])\n",
    "plt.show()\n",
    "#plt.hist(img.ravel(),256,[0,256]); plt.show()"
   ]
  },
  {
   "cell_type": "code",
   "execution_count": null,
   "metadata": {},
   "outputs": [],
   "source": [
    "model_Slice.save(\"model_Slice.h5\")\n",
    "model_FMS2.save(\"model_FMS.h5\")"
   ]
  },
  {
   "cell_type": "code",
   "execution_count": null,
   "metadata": {},
   "outputs": [],
   "source": [
    "model_FMS = load_model(\"model_FMS.h5\")"
   ]
  },
  {
   "cell_type": "code",
   "execution_count": null,
   "metadata": {},
   "outputs": [],
   "source": [
    "scores = model_FMS.evaluate(X_test, y_test_FMS, verbose=0)\n",
    "print(\"Accuracy: %.2f%%\" % (scores[1]*100))"
   ]
  },
  {
   "cell_type": "code",
   "execution_count": null,
   "metadata": {},
   "outputs": [],
   "source": [
    "#incorrects = np.nonzero(model.predict_class(X_bal_test).reshape((-1,)) != y_bal_test)"
   ]
  },
  {
   "cell_type": "code",
   "execution_count": null,
   "metadata": {},
   "outputs": [],
   "source": [
    "y_pred_FMS = np.argmax(model_FMS.predict(X_test))\n",
    "confusion_matrix((y_test_FMS), to_categorical(y_pred_FMS))"
   ]
  },
  {
   "cell_type": "code",
   "execution_count": null,
   "metadata": {},
   "outputs": [],
   "source": [
    "y_pred_FMS = (model_FMS.predict(X_test))"
   ]
  },
  {
   "cell_type": "code",
   "execution_count": null,
   "metadata": {},
   "outputs": [],
   "source": [
    "y_pred_FMS == np.amax(y_pred_FMS, axis = 1)"
   ]
  },
  {
   "cell_type": "code",
   "execution_count": null,
   "metadata": {},
   "outputs": [],
   "source": [
    "y_pred_FMS"
   ]
  },
  {
   "cell_type": "code",
   "execution_count": null,
   "metadata": {},
   "outputs": [],
   "source": [
    "np.amax(y_pred_FMS, axis = 1)"
   ]
  },
  {
   "cell_type": "code",
   "execution_count": null,
   "metadata": {},
   "outputs": [],
   "source": []
  }
 ],
 "metadata": {
  "kernelspec": {
   "display_name": "Python 3",
   "language": "python",
   "name": "python3"
  },
  "language_info": {
   "codemirror_mode": {
    "name": "ipython",
    "version": 3
   },
   "file_extension": ".py",
   "mimetype": "text/x-python",
   "name": "python",
   "nbconvert_exporter": "python",
   "pygments_lexer": "ipython3",
   "version": "3.7.3"
  }
 },
 "nbformat": 4,
 "nbformat_minor": 2
}
